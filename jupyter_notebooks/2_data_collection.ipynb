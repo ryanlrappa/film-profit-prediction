{
 "cells": [
  {
   "cell_type": "markdown",
   "metadata": {},
   "source": [
    "# Collecting the data"
   ]
  },
  {
   "cell_type": "markdown",
   "metadata": {},
   "source": [
    "## Imports"
   ]
  },
  {
   "cell_type": "code",
   "execution_count": 1,
   "metadata": {},
   "outputs": [],
   "source": [
    "import csv\n",
    "from time import sleep\n",
    "import tmdbsimple as tmdb  #TMDb API wrapper by celiao\n",
    "tmdb.API_KEY =  #redacted"
   ]
  },
  {
   "cell_type": "markdown",
   "metadata": {},
   "source": [
    "## Saving data from API to csv"
   ]
  },
  {
   "cell_type": "markdown",
   "metadata": {},
   "source": [
    "#### Previous exploration showed that almost all movies w/ data are between id 1 and 500,000, so we want to collect data up through movie id 500,000, which I did on AWS EC2s running scripts similar to the code below."
   ]
  },
  {
   "cell_type": "markdown",
   "metadata": {},
   "source": [
    "#### Functions to save relevant data from the API to csv files (using try/except syntax because there are gaps in TMDb's ids): "
   ]
  },
  {
   "cell_type": "code",
   "execution_count": 16,
   "metadata": {},
   "outputs": [],
   "source": [
    "file = #insert path to csv file (function creates file or overwrites existing)\n",
    "\n",
    "with open(file, 'w') as f:\n",
    "    for i in range(0, 10000):\n",
    "        try:\n",
    "            my_dict = tmdb.Movies(i).info()\n",
    "            w = csv.DictWriter(f, my_dict.keys())\n",
    "            w.writerow(my_dict)\n",
    "        except:\n",
    "            continue\n",
    "        sleep(0.25)\n",
    "    w.writeheader()  #header ends up at the bottom of the table, will fix in cleaning"
   ]
  },
  {
   "cell_type": "code",
   "execution_count": 17,
   "metadata": {},
   "outputs": [],
   "source": [
    "file = #insert path to csv file (function creates file or overwrites existing)\n",
    "\n",
    "with open(file, 'w') as f:\n",
    "    for i in range(0, 10000):\n",
    "        try:\n",
    "            my_dict = tmdb.Movies(i).credits()\n",
    "            w = csv.DictWriter(f, my_dict.keys())\n",
    "            w.writerow(my_dict)\n",
    "        except:\n",
    "            continue\n",
    "        sleep(0.25)\n",
    "    w.writeheader()  #header ends up at the bottom of the table, will fix in cleaning"
   ]
  },
  {
   "cell_type": "code",
   "execution_count": 18,
   "metadata": {},
   "outputs": [],
   "source": [
    "file = #insert path to csv file (function creates file or overwrites existing)\n",
    "\n",
    "with open(file, 'w') as f:\n",
    "    for i in range(0, 10000):\n",
    "        try:\n",
    "            my_dict = tmdb.Movies(i).releases()\n",
    "            w = csv.DictWriter(f, my_dict.keys())\n",
    "            w.writerow(my_dict)\n",
    "        except:\n",
    "            continue\n",
    "        sleep(0.25)\n",
    "    w.writeheader()  #header ends up at the bottom of the table, will fix in cleaning"
   ]
  },
  {
   "cell_type": "markdown",
   "metadata": {},
   "source": [
    "## Next step"
   ]
  },
  {
   "cell_type": "markdown",
   "metadata": {},
   "source": [
    "#### The subset of the data (about 5,000 movies) collected from running these last three cells is used in data_cleaning.ipynb for drafting cleaning and feature engineering functions."
   ]
  },
  {
   "cell_type": "code",
   "execution_count": null,
   "metadata": {},
   "outputs": [],
   "source": []
  }
 ],
 "metadata": {
  "kernelspec": {
   "display_name": "Python 3",
   "language": "python",
   "name": "python3"
  },
  "language_info": {
   "codemirror_mode": {
    "name": "ipython",
    "version": 3
   },
   "file_extension": ".py",
   "mimetype": "text/x-python",
   "name": "python",
   "nbconvert_exporter": "python",
   "pygments_lexer": "ipython3",
   "version": "3.6.8"
  }
 },
 "nbformat": 4,
 "nbformat_minor": 2
}
