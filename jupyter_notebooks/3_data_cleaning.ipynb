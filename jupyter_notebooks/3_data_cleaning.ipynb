{
 "cells": [
  {
   "cell_type": "markdown",
   "metadata": {},
   "source": [
    "# Cleaning the data + feature engineering"
   ]
  },
  {
   "cell_type": "markdown",
   "metadata": {},
   "source": [
    "## Imports"
   ]
  },
  {
   "cell_type": "code",
   "execution_count": 1,
   "metadata": {},
   "outputs": [],
   "source": [
    "import os\n",
    "import numpy as np\n",
    "import pandas as pd\n",
    "\n",
    "pd.set_option('display.max_rows', 100)\n",
    "pd.set_option('display.max_columns', 100)\n",
    "pd.set_option('display.width', 100)"
   ]
  },
  {
   "cell_type": "code",
   "execution_count": 2,
   "metadata": {},
   "outputs": [
    {
     "data": {
      "text/plain": [
       "'/Users/ryanrappa/Desktop/dsi/film-profit-prediction/jupyter_notebooks'"
      ]
     },
     "execution_count": 2,
     "metadata": {},
     "output_type": "execute_result"
    }
   ],
   "source": [
    "os.getcwd()"
   ]
  },
  {
   "cell_type": "code",
   "execution_count": 3,
   "metadata": {},
   "outputs": [],
   "source": [
    "info_file = '/Users/ryanrappa/Desktop/dsi/film-profit-prediction/csv_files/info_10k.csv'  #redacted\n",
    "credits_file = '/Users/ryanrappa/Desktop/dsi/film-profit-prediction/csv_files/credits_10k.csv'  #redacted\n",
    "releases_file = '/Users/ryanrappa/Desktop/dsi/film-profit-prediction/csv_files/releases_10k.csv'  #redacted"
   ]
  },
  {
   "cell_type": "code",
   "execution_count": 4,
   "metadata": {},
   "outputs": [],
   "source": [
    "info_df = pd.read_csv(info_file)\n",
    "credits_df = pd.read_csv(credits_file)\n",
    "releases_df = pd.read_csv(releases_file)"
   ]
  },
  {
   "cell_type": "markdown",
   "metadata": {},
   "source": [
    "## Cleaning + feature engineering"
   ]
  },
  {
   "cell_type": "markdown",
   "metadata": {},
   "source": [
    "### Because of the way data was collected, the last row contains the headers. Fixing that:"
   ]
  },
  {
   "cell_type": "code",
   "execution_count": 5,
   "metadata": {},
   "outputs": [],
   "source": [
    "info_df.columns = info_df.iloc[-1:, :].squeeze()\n",
    "info_df = info_df.iloc[:-1, :]"
   ]
  },
  {
   "cell_type": "code",
   "execution_count": 6,
   "metadata": {},
   "outputs": [],
   "source": [
    "credits_df.columns = credits_df.iloc[-1:, :].squeeze()\n",
    "credits_df = credits_df.iloc[:-1, :]"
   ]
  },
  {
   "cell_type": "code",
   "execution_count": 7,
   "metadata": {},
   "outputs": [],
   "source": [
    "releases_df.columns = releases_df.iloc[-1:, :].squeeze()\n",
    "releases_df = releases_df.iloc[:-1, :]"
   ]
  },
  {
   "cell_type": "markdown",
   "metadata": {},
   "source": [
    "### Appending columns with top billed actors to the credits dataframe:"
   ]
  },
  {
   "cell_type": "code",
   "execution_count": 40,
   "metadata": {},
   "outputs": [],
   "source": [
    "def get_cast_member(lod_str):\n",
    "    '''\n",
    "    Function for use with pandas apply method.\n",
    "    --------\n",
    "    INPUT\n",
    "    \n",
    "    lod_str (str): a list of dictionaries in the form of a string\n",
    "    --------\n",
    "    OUTPUT\n",
    "    \n",
    "    actor (str): name of the actor corresponding to the billing \n",
    "    number in this function (lower billing number = more prominent\n",
    "    role; 0 = star of the movie, 1 = costar, etc.)\n",
    "    '''\n",
    "    lst_of_dicts = eval(lod_str)\n",
    "    billing = 5  #increment this line manually and rerun apply method for desired # of actors\n",
    "    if len(lst_of_dicts) > billing:\n",
    "        dict_of_interest = lst_of_dicts[billing]\n",
    "        actor = dict_of_interest['name']\n",
    "        return actor\n",
    "    else:\n",
    "        pass"
   ]
  },
  {
   "cell_type": "code",
   "execution_count": 41,
   "metadata": {},
   "outputs": [],
   "source": [
    "credits_df['cast5'] = credits_df['cast'].apply(get_cast_member)"
   ]
  },
  {
   "cell_type": "markdown",
   "metadata": {},
   "source": [
    "### Appending columns with director and screenwriters to the credits dataframe:"
   ]
  },
  {
   "cell_type": "code",
   "execution_count": 65,
   "metadata": {},
   "outputs": [],
   "source": [
    "def get_director(lod_str):\n",
    "    '''\n",
    "    Function for use with pandas apply method.\n",
    "    --------\n",
    "    INPUT\n",
    "    \n",
    "    lod_str (str): a list of dictionaries in the form of a string\n",
    "    --------\n",
    "    OUTPUT\n",
    "    \n",
    "    (str): name of the first director from the list of dicts\n",
    "    '''\n",
    "    lst_of_dicts = eval(lod_str)\n",
    "    if len(lst_of_dicts) > 0:\n",
    "        for i in range(len(lst_of_dicts)):\n",
    "            if lst_of_dicts[i]['job'] == 'Director':\n",
    "                return lst_of_dicts[i]['name']\n",
    "    else:\n",
    "        pass"
   ]
  },
  {
   "cell_type": "code",
   "execution_count": 66,
   "metadata": {},
   "outputs": [],
   "source": [
    "credits_df['director'] = credits_df['crew'].apply(get_director)"
   ]
  },
  {
   "cell_type": "code",
   "execution_count": 85,
   "metadata": {},
   "outputs": [],
   "source": [
    "def get_first_writer(lod_str):\n",
    "    '''\n",
    "    Function for use with pandas apply method.\n",
    "    --------\n",
    "    INPUT\n",
    "    \n",
    "    lod_str (str): a list of dictionaries in the form of a string\n",
    "    --------\n",
    "    OUTPUT\n",
    "    \n",
    "    (str): name of the first screenwriter from the list of dicts\n",
    "    '''\n",
    "    lst_of_dicts = eval(lod_str)\n",
    "    if len(lst_of_dicts) > 0:\n",
    "        for i in range(len(lst_of_dicts)):\n",
    "            if lst_of_dicts[i]['job'] == 'Screenplay':\n",
    "                return lst_of_dicts[i]['name']\n",
    "    else:\n",
    "        pass"
   ]
  },
  {
   "cell_type": "code",
   "execution_count": 94,
   "metadata": {},
   "outputs": [],
   "source": [
    "def get_second_writer(lod_str):\n",
    "    '''\n",
    "    Function for use with pandas apply method.\n",
    "    --------\n",
    "    INPUT\n",
    "    \n",
    "    lod_str (str): a list of dictionaries in the form of a string\n",
    "    --------\n",
    "    OUTPUT\n",
    "    \n",
    "    (str): name of the second screenwriter from the list of dicts\n",
    "    '''\n",
    "    lst_of_dicts = eval(lod_str)\n",
    "    if len(lst_of_dicts) > 0:\n",
    "        count = 0\n",
    "        for i in range(len(lst_of_dicts)):\n",
    "            if lst_of_dicts[i]['job'] == 'Screenplay' and count == 0:\n",
    "                count += 1\n",
    "            elif lst_of_dicts[i]['job'] == 'Screenplay' and count == 1:\n",
    "                return lst_of_dicts[i]['name']\n",
    "    else:\n",
    "        pass"
   ]
  },
  {
   "cell_type": "code",
   "execution_count": 86,
   "metadata": {},
   "outputs": [],
   "source": [
    "credits_df['writer0'] = credits_df['crew'].apply(get_first_writer)"
   ]
  },
  {
   "cell_type": "code",
   "execution_count": 95,
   "metadata": {},
   "outputs": [],
   "source": [
    "credits_df['writer1'] = credits_df['crew'].apply(get_second_writer)"
   ]
  },
  {
   "cell_type": "code",
   "execution_count": 99,
   "metadata": {},
   "outputs": [
    {
     "data": {
      "text/html": [
       "<div>\n",
       "<style scoped>\n",
       "    .dataframe tbody tr th:only-of-type {\n",
       "        vertical-align: middle;\n",
       "    }\n",
       "\n",
       "    .dataframe tbody tr th {\n",
       "        vertical-align: top;\n",
       "    }\n",
       "\n",
       "    .dataframe thead th {\n",
       "        text-align: right;\n",
       "    }\n",
       "</style>\n",
       "<table border=\"1\" class=\"dataframe\">\n",
       "  <thead>\n",
       "    <tr style=\"text-align: right;\">\n",
       "      <th>4933</th>\n",
       "      <th>id</th>\n",
       "      <th>cast</th>\n",
       "      <th>crew</th>\n",
       "      <th>cast0</th>\n",
       "      <th>cast1</th>\n",
       "      <th>cast2</th>\n",
       "      <th>cast3</th>\n",
       "      <th>cast4</th>\n",
       "      <th>cast5</th>\n",
       "      <th>director</th>\n",
       "      <th>writer0</th>\n",
       "      <th>writer1</th>\n",
       "    </tr>\n",
       "  </thead>\n",
       "  <tbody>\n",
       "    <tr>\n",
       "      <th>0</th>\n",
       "      <td>3</td>\n",
       "      <td>[{'cast_id': 5, 'character': 'Nikander', 'cred...</td>\n",
       "      <td>[{'credit_id': '52fe420dc3a36847f8000071', 'de...</td>\n",
       "      <td>Matti Pellonpää</td>\n",
       "      <td>Kati Outinen</td>\n",
       "      <td>Sakari Kuosmanen</td>\n",
       "      <td>Esko Nikkari</td>\n",
       "      <td>Kylli Köngäs</td>\n",
       "      <td>Pekka Laiho</td>\n",
       "      <td>Aki Kaurismäki</td>\n",
       "      <td>Aki Kaurismäki</td>\n",
       "      <td>None</td>\n",
       "    </tr>\n",
       "    <tr>\n",
       "      <th>1</th>\n",
       "      <td>5</td>\n",
       "      <td>[{'cast_id': 42, 'character': 'Ted the Bellhop...</td>\n",
       "      <td>[{'credit_id': '52fe420dc3a36847f800011b', 'de...</td>\n",
       "      <td>Tim Roth</td>\n",
       "      <td>Antonio Banderas</td>\n",
       "      <td>Jennifer Beals</td>\n",
       "      <td>Madonna</td>\n",
       "      <td>Marisa Tomei</td>\n",
       "      <td>Bruce Willis</td>\n",
       "      <td>Allison Anders</td>\n",
       "      <td>None</td>\n",
       "      <td>None</td>\n",
       "    </tr>\n",
       "    <tr>\n",
       "      <th>2</th>\n",
       "      <td>6</td>\n",
       "      <td>[{'cast_id': 7, 'character': 'Frank Wyatt', 'c...</td>\n",
       "      <td>[{'credit_id': '52fe420dc3a36847f800023d', 'de...</td>\n",
       "      <td>Emilio Estevez</td>\n",
       "      <td>Cuba Gooding Jr.</td>\n",
       "      <td>Denis Leary</td>\n",
       "      <td>Jeremy Piven</td>\n",
       "      <td>Peter Greene</td>\n",
       "      <td>Michael DeLorenzo</td>\n",
       "      <td>Stephen Hopkins</td>\n",
       "      <td>Lewis Colick</td>\n",
       "      <td>None</td>\n",
       "    </tr>\n",
       "    <tr>\n",
       "      <th>3</th>\n",
       "      <td>8</td>\n",
       "      <td>[]</td>\n",
       "      <td>[{'credit_id': '52fe420dc3a36847f80002b5', 'de...</td>\n",
       "      <td>None</td>\n",
       "      <td>None</td>\n",
       "      <td>None</td>\n",
       "      <td>None</td>\n",
       "      <td>None</td>\n",
       "      <td>None</td>\n",
       "      <td>Timo Novotny</td>\n",
       "      <td>Michael Glawogger</td>\n",
       "      <td>Timo Novotny</td>\n",
       "    </tr>\n",
       "    <tr>\n",
       "      <th>4</th>\n",
       "      <td>9</td>\n",
       "      <td>[{'cast_id': 7, 'character': 'Alexandra', 'cre...</td>\n",
       "      <td>[{'credit_id': '52fe420dc3a36847f8000311', 'de...</td>\n",
       "      <td>Rita Lengyel</td>\n",
       "      <td>Milton Welsh</td>\n",
       "      <td>None</td>\n",
       "      <td>None</td>\n",
       "      <td>None</td>\n",
       "      <td>None</td>\n",
       "      <td>Marc Meyer</td>\n",
       "      <td>None</td>\n",
       "      <td>None</td>\n",
       "    </tr>\n",
       "  </tbody>\n",
       "</table>\n",
       "</div>"
      ],
      "text/plain": [
       "4933 id                                               cast  \\\n",
       "0     3  [{'cast_id': 5, 'character': 'Nikander', 'cred...   \n",
       "1     5  [{'cast_id': 42, 'character': 'Ted the Bellhop...   \n",
       "2     6  [{'cast_id': 7, 'character': 'Frank Wyatt', 'c...   \n",
       "3     8                                                 []   \n",
       "4     9  [{'cast_id': 7, 'character': 'Alexandra', 'cre...   \n",
       "\n",
       "4933                                               crew            cast0             cast1  \\\n",
       "0     [{'credit_id': '52fe420dc3a36847f8000071', 'de...  Matti Pellonpää      Kati Outinen   \n",
       "1     [{'credit_id': '52fe420dc3a36847f800011b', 'de...         Tim Roth  Antonio Banderas   \n",
       "2     [{'credit_id': '52fe420dc3a36847f800023d', 'de...   Emilio Estevez  Cuba Gooding Jr.   \n",
       "3     [{'credit_id': '52fe420dc3a36847f80002b5', 'de...             None              None   \n",
       "4     [{'credit_id': '52fe420dc3a36847f8000311', 'de...     Rita Lengyel      Milton Welsh   \n",
       "\n",
       "4933             cast2         cast3         cast4              cast5         director  \\\n",
       "0     Sakari Kuosmanen  Esko Nikkari  Kylli Köngäs        Pekka Laiho   Aki Kaurismäki   \n",
       "1       Jennifer Beals       Madonna  Marisa Tomei       Bruce Willis   Allison Anders   \n",
       "2          Denis Leary  Jeremy Piven  Peter Greene  Michael DeLorenzo  Stephen Hopkins   \n",
       "3                 None          None          None               None     Timo Novotny   \n",
       "4                 None          None          None               None       Marc Meyer   \n",
       "\n",
       "4933            writer0       writer1  \n",
       "0        Aki Kaurismäki          None  \n",
       "1                  None          None  \n",
       "2          Lewis Colick          None  \n",
       "3     Michael Glawogger  Timo Novotny  \n",
       "4                  None          None  "
      ]
     },
     "execution_count": 99,
     "metadata": {},
     "output_type": "execute_result"
    }
   ],
   "source": [
    "credits_df.head()"
   ]
  },
  {
   "cell_type": "code",
   "execution_count": 98,
   "metadata": {},
   "outputs": [
    {
     "name": "stdout",
     "output_type": "stream",
     "text": [
      "<class 'pandas.core.frame.DataFrame'>\n",
      "RangeIndex: 4933 entries, 0 to 4932\n",
      "Data columns (total 12 columns):\n",
      "id          4933 non-null object\n",
      "cast        4933 non-null object\n",
      "crew        4933 non-null object\n",
      "cast0       4884 non-null object\n",
      "cast1       4844 non-null object\n",
      "cast2       4802 non-null object\n",
      "cast3       4770 non-null object\n",
      "cast4       4703 non-null object\n",
      "cast5       4606 non-null object\n",
      "director    4908 non-null object\n",
      "writer0     3701 non-null object\n",
      "writer1     1715 non-null object\n",
      "dtypes: object(12)\n",
      "memory usage: 462.5+ KB\n"
     ]
    }
   ],
   "source": [
    "credits_df.info()"
   ]
  },
  {
   "cell_type": "markdown",
   "metadata": {},
   "source": [
    "### Next step..."
   ]
  },
  {
   "cell_type": "code",
   "execution_count": null,
   "metadata": {},
   "outputs": [],
   "source": []
  },
  {
   "cell_type": "code",
   "execution_count": null,
   "metadata": {},
   "outputs": [],
   "source": []
  },
  {
   "cell_type": "code",
   "execution_count": null,
   "metadata": {},
   "outputs": [],
   "source": []
  },
  {
   "cell_type": "code",
   "execution_count": null,
   "metadata": {},
   "outputs": [],
   "source": []
  },
  {
   "cell_type": "markdown",
   "metadata": {},
   "source": [
    "#### Seeing what some of the data looks like:"
   ]
  },
  {
   "cell_type": "code",
   "execution_count": 78,
   "metadata": {},
   "outputs": [],
   "source": [
    "crew_lod = eval(credits_df.iat[250, 2])"
   ]
  },
  {
   "cell_type": "code",
   "execution_count": 79,
   "metadata": {},
   "outputs": [
    {
     "name": "stdout",
     "output_type": "stream",
     "text": [
      "Director\n",
      "Lewis Milestone\n",
      "\n",
      "Producer\n",
      "Lewis Milestone\n",
      "\n",
      "Screenplay\n",
      "Harry Brown\n",
      "\n",
      "Screenplay\n",
      "Charles Lederer\n",
      "\n",
      "Director of Photography\n",
      "William H. Daniels\n",
      "\n",
      "Editor\n",
      "Philip W. Anderson\n",
      "\n",
      "Original Music Composer\n",
      "Nelson Riddle\n",
      "\n",
      "Associate Producer\n",
      "Henry W. Sanicola\n",
      "\n",
      "Art Direction\n",
      "Nicolai Remisoff\n",
      "\n",
      "Set Decoration\n",
      "Howard Bristol\n",
      "\n",
      "Costume Design\n",
      "Howard Shoup\n",
      "\n",
      "Story\n",
      "George Clayton Johnson\n",
      "\n",
      "Story\n",
      "Jack Golden Russell\n",
      "\n",
      "Sound\n",
      "M.A. Merrick\n",
      "\n",
      "Producer's Assistant\n",
      "Richard Benedict\n",
      "\n",
      "Production Manager\n",
      "Jack R. Berne\n",
      "\n",
      "Makeup Supervisor\n",
      "Gordon Bau\n",
      "\n",
      "Assistant Director\n",
      "Ray Gosnell Jr.\n",
      "\n",
      "Title Designer\n",
      "Saul Bass\n",
      "\n",
      "Orchestrator\n",
      "Arthur Morton\n",
      "\n",
      "Conductor\n",
      "Nelson Riddle\n",
      "\n",
      "Songs\n",
      "Sammy Cahn\n",
      "\n",
      "Songs\n",
      "Jimmy Van Heusen\n",
      "\n",
      "Camera Operator\n",
      "A. Lindsley Lane\n",
      "\n"
     ]
    }
   ],
   "source": [
    "for i in range(len(crew_lod)):\n",
    "    print(crew_lod[i]['job'])\n",
    "    print(crew_lod[i]['name'])\n",
    "    print(\"\")"
   ]
  },
  {
   "cell_type": "code",
   "execution_count": null,
   "metadata": {},
   "outputs": [],
   "source": []
  }
 ],
 "metadata": {
  "kernelspec": {
   "display_name": "Python 3",
   "language": "python",
   "name": "python3"
  },
  "language_info": {
   "codemirror_mode": {
    "name": "ipython",
    "version": 3
   },
   "file_extension": ".py",
   "mimetype": "text/x-python",
   "name": "python",
   "nbconvert_exporter": "python",
   "pygments_lexer": "ipython3",
   "version": "3.6.8"
  }
 },
 "nbformat": 4,
 "nbformat_minor": 2
}
