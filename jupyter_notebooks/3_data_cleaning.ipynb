{
 "cells": [
  {
   "cell_type": "markdown",
   "metadata": {},
   "source": [
    "# Cleaning + feature engineering"
   ]
  },
  {
   "cell_type": "markdown",
   "metadata": {},
   "source": [
    "## Imports"
   ]
  },
  {
   "cell_type": "code",
   "execution_count": 131,
   "metadata": {},
   "outputs": [],
   "source": [
    "import os\n",
    "import numpy as np\n",
    "import pandas as pd\n",
    "\n",
    "pd.set_option('display.max_rows', 100)\n",
    "pd.set_option('display.max_columns', 100)\n",
    "pd.set_option('display.width', 100)"
   ]
  },
  {
   "cell_type": "code",
   "execution_count": 2,
   "metadata": {},
   "outputs": [],
   "source": [
    "os.getcwd();"
   ]
  },
  {
   "cell_type": "code",
   "execution_count": 3,
   "metadata": {},
   "outputs": [],
   "source": [
    "info_file = '/Users/ryanrappa/Desktop/dsi/film-profit-prediction/csv_files/info_10k.csv'  #redacted\n",
    "credits_file = '/Users/ryanrappa/Desktop/dsi/film-profit-prediction/csv_files/credits_10k.csv'  #redacted\n",
    "releases_file = '/Users/ryanrappa/Desktop/dsi/film-profit-prediction/csv_files/releases_10k.csv'  #redacted"
   ]
  },
  {
   "cell_type": "code",
   "execution_count": 4,
   "metadata": {},
   "outputs": [],
   "source": [
    "#info table contains basic film details like genre, budget, revenue, language, runtime, etc.\n",
    "info_df = pd.read_csv(info_file)\n",
    "\n",
    "#credits table contains cast and crew\n",
    "credits_df = pd.read_csv(credits_file)\n",
    "\n",
    "#releases table contains info on which countries each film was released in\n",
    "releases_df = pd.read_csv(releases_file)"
   ]
  },
  {
   "cell_type": "markdown",
   "metadata": {},
   "source": [
    "## Cleaning + new features"
   ]
  },
  {
   "cell_type": "markdown",
   "metadata": {},
   "source": [
    "#### Because of the way data was collected, last row of each table has the headers. Fixing that:"
   ]
  },
  {
   "cell_type": "code",
   "execution_count": 5,
   "metadata": {},
   "outputs": [],
   "source": [
    "info_df.columns = info_df.iloc[-1:, :].squeeze()\n",
    "info_df = info_df.iloc[:-1, :]"
   ]
  },
  {
   "cell_type": "code",
   "execution_count": 6,
   "metadata": {},
   "outputs": [],
   "source": [
    "credits_df.columns = credits_df.iloc[-1:, :].squeeze()\n",
    "credits_df = credits_df.iloc[:-1, :]"
   ]
  },
  {
   "cell_type": "code",
   "execution_count": 7,
   "metadata": {},
   "outputs": [],
   "source": [
    "releases_df.columns = releases_df.iloc[-1:, :].squeeze()\n",
    "releases_df = releases_df.iloc[:-1, :]"
   ]
  },
  {
   "cell_type": "markdown",
   "metadata": {},
   "source": [
    "### Cleaning info table"
   ]
  },
  {
   "cell_type": "markdown",
   "metadata": {},
   "source": [
    "#### Getting each film's genre:"
   ]
  },
  {
   "cell_type": "code",
   "execution_count": 8,
   "metadata": {},
   "outputs": [],
   "source": [
    "def get_first_genre(lod_str):\n",
    "    '''\n",
    "    Function for use with pandas apply method.\n",
    "    --------\n",
    "    INPUT\n",
    "    lod_str (str): a list of dictionaries in the form of a string\n",
    "    --------\n",
    "    OUTPUT\n",
    "    (str): name of the first genre from the list of dicts\n",
    "    '''\n",
    "    lst_of_dicts = eval(lod_str)\n",
    "    if len(lst_of_dicts) > 0:\n",
    "        for i in range(len(lst_of_dicts)):\n",
    "            return lst_of_dicts[i]['name']\n",
    "    else:\n",
    "        pass"
   ]
  },
  {
   "cell_type": "code",
   "execution_count": 9,
   "metadata": {},
   "outputs": [],
   "source": [
    "info_df['genre0'] = info_df['genres'].apply(get_first_genre)  #func in hidden cell above"
   ]
  },
  {
   "cell_type": "markdown",
   "metadata": {},
   "source": [
    "#### Dropping unnecessary rows and columns from info table:"
   ]
  },
  {
   "cell_type": "code",
   "execution_count": 10,
   "metadata": {},
   "outputs": [],
   "source": [
    "#making sure relevant numerical columns are int/float type\n",
    "info_df = info_df.astype({\"budget\": float, \"id\": int, \"revenue\": float, \"runtime\": float})"
   ]
  },
  {
   "cell_type": "code",
   "execution_count": 11,
   "metadata": {},
   "outputs": [],
   "source": [
    "#filtering for only non-adult films,\n",
    "# with revenue & budget > 0,\n",
    "# original language english,\n",
    "# runtime >= 80 minutes,\n",
    "# and genre is not documentary.\n",
    "\n",
    "info_df = info_df[(info_df['adult'] == 'False') & \\\n",
    "        (info_df['budget'] > 0) & \\\n",
    "        (info_df['revenue'] > 0) & \\\n",
    "        (info_df['original_language'] == 'en') & \\\n",
    "        (info_df['runtime'] >= 80.0) & \\\n",
    "        (info_df['genre0'] != 'Documentary')]"
   ]
  },
  {
   "cell_type": "code",
   "execution_count": 12,
   "metadata": {},
   "outputs": [],
   "source": [
    "#dropping columns from info_df that won't be needed for EDA\n",
    "drop_cols = ['adult', 'backdrop_path', 'belongs_to_collection', \n",
    "             'genres', 'homepage', 'imdb_id', 'original_language', 'original_title', \n",
    "             'overview', 'popularity', 'poster_path', 'production_companies', \n",
    "             'production_countries', 'spoken_languages', 'status', 'tagline', 'video', \n",
    "             'vote_average', 'vote_count']\n",
    "\n",
    "info_df = info_df.drop(drop_cols, axis=1)\n",
    "\n",
    "### a few more cols to be dropped later for modelling, after EDA, feat. engineering, & joins: \n",
    "### ['id', 'release_date', 'runtime' (possibly), 'title', 'genre' (possibly)]"
   ]
  },
  {
   "cell_type": "markdown",
   "metadata": {},
   "source": [
    "#### Creating columns for (a) amount of profit or loss (revenue minus budget) and (b) whether each movie profited (binary, whether revenue > budget):"
   ]
  },
  {
   "cell_type": "code",
   "execution_count": 13,
   "metadata": {},
   "outputs": [],
   "source": [
    "info_df['profit'] = info_df['revenue'] - info_df['budget']"
   ]
  },
  {
   "cell_type": "code",
   "execution_count": 14,
   "metadata": {},
   "outputs": [],
   "source": [
    "info_df['made_money'] = info_df['profit'] > 0\n",
    "info_df['made_money'] = info_df['made_money'].astype('int')"
   ]
  },
  {
   "cell_type": "code",
   "execution_count": 56,
   "metadata": {},
   "outputs": [
    {
     "data": {
      "text/html": [
       "<div>\n",
       "<style scoped>\n",
       "    .dataframe tbody tr th:only-of-type {\n",
       "        vertical-align: middle;\n",
       "    }\n",
       "\n",
       "    .dataframe tbody tr th {\n",
       "        vertical-align: top;\n",
       "    }\n",
       "\n",
       "    .dataframe thead th {\n",
       "        text-align: right;\n",
       "    }\n",
       "</style>\n",
       "<table border=\"1\" class=\"dataframe\">\n",
       "  <thead>\n",
       "    <tr style=\"text-align: right;\">\n",
       "      <th>4962</th>\n",
       "      <th>budget</th>\n",
       "      <th>id</th>\n",
       "      <th>release_date</th>\n",
       "      <th>revenue</th>\n",
       "      <th>runtime</th>\n",
       "      <th>title</th>\n",
       "      <th>genre0</th>\n",
       "      <th>profit</th>\n",
       "      <th>made_money</th>\n",
       "    </tr>\n",
       "  </thead>\n",
       "  <tbody>\n",
       "    <tr>\n",
       "      <th>1</th>\n",
       "      <td>4000000.0</td>\n",
       "      <td>5</td>\n",
       "      <td>1995-12-09</td>\n",
       "      <td>4300000.0</td>\n",
       "      <td>98.0</td>\n",
       "      <td>Four Rooms</td>\n",
       "      <td>Crime</td>\n",
       "      <td>300000.0</td>\n",
       "      <td>1</td>\n",
       "    </tr>\n",
       "    <tr>\n",
       "      <th>2</th>\n",
       "      <td>21.0</td>\n",
       "      <td>6</td>\n",
       "      <td>1993-10-15</td>\n",
       "      <td>12.0</td>\n",
       "      <td>110.0</td>\n",
       "      <td>Judgment Night</td>\n",
       "      <td>Action</td>\n",
       "      <td>-9.0</td>\n",
       "      <td>0</td>\n",
       "    </tr>\n",
       "    <tr>\n",
       "      <th>5</th>\n",
       "      <td>11000000.0</td>\n",
       "      <td>11</td>\n",
       "      <td>1977-05-25</td>\n",
       "      <td>775398007.0</td>\n",
       "      <td>121.0</td>\n",
       "      <td>Star Wars</td>\n",
       "      <td>Adventure</td>\n",
       "      <td>764398007.0</td>\n",
       "      <td>1</td>\n",
       "    </tr>\n",
       "    <tr>\n",
       "      <th>6</th>\n",
       "      <td>94000000.0</td>\n",
       "      <td>12</td>\n",
       "      <td>2003-05-30</td>\n",
       "      <td>940335536.0</td>\n",
       "      <td>100.0</td>\n",
       "      <td>Finding Nemo</td>\n",
       "      <td>Animation</td>\n",
       "      <td>846335536.0</td>\n",
       "      <td>1</td>\n",
       "    </tr>\n",
       "    <tr>\n",
       "      <th>7</th>\n",
       "      <td>55000000.0</td>\n",
       "      <td>13</td>\n",
       "      <td>1994-07-06</td>\n",
       "      <td>677945399.0</td>\n",
       "      <td>142.0</td>\n",
       "      <td>Forrest Gump</td>\n",
       "      <td>Comedy</td>\n",
       "      <td>622945399.0</td>\n",
       "      <td>1</td>\n",
       "    </tr>\n",
       "  </tbody>\n",
       "</table>\n",
       "</div>"
      ],
      "text/plain": [
       "4962      budget  id release_date      revenue  runtime           title     genre0       profit  \\\n",
       "1      4000000.0   5   1995-12-09    4300000.0     98.0      Four Rooms      Crime     300000.0   \n",
       "2           21.0   6   1993-10-15         12.0    110.0  Judgment Night     Action         -9.0   \n",
       "5     11000000.0  11   1977-05-25  775398007.0    121.0       Star Wars  Adventure  764398007.0   \n",
       "6     94000000.0  12   2003-05-30  940335536.0    100.0    Finding Nemo  Animation  846335536.0   \n",
       "7     55000000.0  13   1994-07-06  677945399.0    142.0    Forrest Gump     Comedy  622945399.0   \n",
       "\n",
       "4962  made_money  \n",
       "1              1  \n",
       "2              0  \n",
       "5              1  \n",
       "6              1  \n",
       "7              1  "
      ]
     },
     "execution_count": 56,
     "metadata": {},
     "output_type": "execute_result"
    }
   ],
   "source": [
    "# print(info_df.info())\n",
    "info_df.head()"
   ]
  },
  {
   "cell_type": "markdown",
   "metadata": {},
   "source": [
    "### Cleaning credits table"
   ]
  },
  {
   "cell_type": "markdown",
   "metadata": {},
   "source": [
    "#### Appending columns with top billed actors to the credits table:"
   ]
  },
  {
   "cell_type": "code",
   "execution_count": 24,
   "metadata": {},
   "outputs": [],
   "source": [
    "def get_cast_member(lod_str):\n",
    "    '''\n",
    "    Function for use with pandas apply method.\n",
    "    --------\n",
    "    INPUT\n",
    "    lod_str (str): a list of dictionaries in the form of a string\n",
    "    --------\n",
    "    OUTPUT\n",
    "    actor (str): name of the actor corresponding to the billing \n",
    "    number in this function (lower billing number = more prominent\n",
    "    role; 0 = star of the movie, 1 = costar, etc.)\n",
    "    '''\n",
    "    lst_of_dicts = eval(lod_str)\n",
    "    billing = 4  #increment this line manually and rerun for desired # of actors, starting at 0\n",
    "    if len(lst_of_dicts) > billing:\n",
    "        dict_of_interest = lst_of_dicts[billing]\n",
    "        actor = dict_of_interest['name']\n",
    "        return actor\n",
    "    else:\n",
    "        pass"
   ]
  },
  {
   "cell_type": "code",
   "execution_count": 25,
   "metadata": {},
   "outputs": [],
   "source": [
    "# DO NOT FORGET to manually increment the new col name here, e.g. 'cast0', 'cast1', etc.\n",
    "credits_df['cast4'] = credits_df['cast'].apply(get_cast_member)"
   ]
  },
  {
   "cell_type": "markdown",
   "metadata": {},
   "source": [
    "#### Appending columns with director and screenwriters to the credits table:"
   ]
  },
  {
   "cell_type": "code",
   "execution_count": 26,
   "metadata": {},
   "outputs": [],
   "source": [
    "def get_director(lod_str):\n",
    "    '''\n",
    "    Function for use with pandas apply method.\n",
    "    --------\n",
    "    INPUT\n",
    "    lod_str (str): a list of dictionaries in the form of a string\n",
    "    --------\n",
    "    OUTPUT\n",
    "    (str): name of the first director from the list of dicts\n",
    "    '''\n",
    "    lst_of_dicts = eval(lod_str)\n",
    "    if len(lst_of_dicts) > 0:\n",
    "        for i in range(len(lst_of_dicts)):\n",
    "            if lst_of_dicts[i]['job'] == 'Director':\n",
    "                return lst_of_dicts[i]['name']\n",
    "    else:\n",
    "        pass"
   ]
  },
  {
   "cell_type": "code",
   "execution_count": 27,
   "metadata": {},
   "outputs": [],
   "source": [
    "credits_df['director0'] = credits_df['crew'].apply(get_director)  #func in hidden cell above"
   ]
  },
  {
   "cell_type": "code",
   "execution_count": 28,
   "metadata": {},
   "outputs": [],
   "source": [
    "def get_first_writer(lod_str):\n",
    "    '''\n",
    "    Function for use with pandas apply method.\n",
    "    --------\n",
    "    INPUT\n",
    "    lod_str (str): a list of dictionaries in the form of a string\n",
    "    --------\n",
    "    OUTPUT\n",
    "    (str): name of the first screenwriter from the list of dicts\n",
    "    '''\n",
    "    lst_of_dicts = eval(lod_str)\n",
    "    if len(lst_of_dicts) > 0:\n",
    "        for i in range(len(lst_of_dicts)):\n",
    "            if lst_of_dicts[i]['job'] == 'Screenplay' or \\\n",
    "            lst_of_dicts[i]['job'] == 'Writer' or \\\n",
    "            lst_of_dicts[i]['job'] == 'Author':\n",
    "                return lst_of_dicts[i]['name']\n",
    "    else:\n",
    "        pass"
   ]
  },
  {
   "cell_type": "code",
   "execution_count": 29,
   "metadata": {},
   "outputs": [],
   "source": [
    "credits_df['writer0'] = credits_df['crew'].apply(get_first_writer)  #func in hidden cell above"
   ]
  },
  {
   "cell_type": "code",
   "execution_count": 41,
   "metadata": {},
   "outputs": [],
   "source": [
    "creds_drop_cols = ['cast', 'crew']\n",
    "credits_df = credits_df.drop(creds_drop_cols, axis=1)"
   ]
  },
  {
   "cell_type": "code",
   "execution_count": 99,
   "metadata": {},
   "outputs": [],
   "source": [
    "#making sure id column is int so dataframes can be merged later\n",
    "credits_df = credits_df.astype({\"id\": int})"
   ]
  },
  {
   "cell_type": "code",
   "execution_count": null,
   "metadata": {},
   "outputs": [],
   "source": [
    "# def get_second_writer(lod_str):\n",
    "#     '''\n",
    "#     Function for use with pandas apply method.\n",
    "#     --------\n",
    "#     INPUT\n",
    "#     lod_str (str): a list of dictionaries in the form of a string\n",
    "#     --------\n",
    "#     OUTPUT\n",
    "#     (str): name of the second screenwriter from the list of dicts\n",
    "#     '''\n",
    "#     lst_of_dicts = eval(lod_str)\n",
    "#     if len(lst_of_dicts) > 0:\n",
    "#         count = 0\n",
    "#         for i in range(len(lst_of_dicts)):\n",
    "#             if lst_of_dicts[i]['job'] == 'Screenplay' and count == 0:\n",
    "#                 count += 1\n",
    "#             elif lst_of_dicts[i]['job'] == 'Screenplay' and count == 1:\n",
    "#                 return lst_of_dicts[i]['name']\n",
    "#     else:\n",
    "#         pass"
   ]
  },
  {
   "cell_type": "code",
   "execution_count": null,
   "metadata": {},
   "outputs": [],
   "source": [
    "# credits_df['writer1'] = credits_df['crew'].apply(get_second_writer)\n",
    "### decided not to get second writer becuse relatively few films have one in the data"
   ]
  },
  {
   "cell_type": "markdown",
   "metadata": {},
   "source": [
    "#### Dropping rows without at least 5 actors, or missing director, or missing writer:"
   ]
  },
  {
   "cell_type": "code",
   "execution_count": 47,
   "metadata": {},
   "outputs": [],
   "source": [
    "credits_df = credits_df.dropna(subset=['cast4', 'director0', 'writer0'])"
   ]
  },
  {
   "cell_type": "markdown",
   "metadata": {},
   "source": [
    "### Cleaning releases table"
   ]
  },
  {
   "cell_type": "markdown",
   "metadata": {},
   "source": [
    "#### Getting number of countries each film was released in and dropping nulls:"
   ]
  },
  {
   "cell_type": "code",
   "execution_count": 75,
   "metadata": {},
   "outputs": [],
   "source": [
    "def get_releases_count(lod_str):\n",
    "    '''\n",
    "    Function for use with pandas apply method.\n",
    "    --------\n",
    "    INPUT\n",
    "    lod_str (str): a list of dictionaries in the form of a string\n",
    "    --------\n",
    "    OUTPUT\n",
    "    (int): number of countries/territories the film was released in\n",
    "    '''\n",
    "    lst_of_dicts = eval(lod_str)\n",
    "    if len(lst_of_dicts) > 0:\n",
    "        return len(lst_of_dicts)\n",
    "    else:\n",
    "        pass"
   ]
  },
  {
   "cell_type": "code",
   "execution_count": 76,
   "metadata": {},
   "outputs": [],
   "source": [
    "releases_df['releases'] = releases_df['countries'].apply(get_releases_count)  #func in hidden cell above"
   ]
  },
  {
   "cell_type": "code",
   "execution_count": 80,
   "metadata": {},
   "outputs": [],
   "source": [
    "releases_df = releases_df.dropna()"
   ]
  },
  {
   "cell_type": "code",
   "execution_count": 86,
   "metadata": {},
   "outputs": [],
   "source": [
    "releases_df = releases_df.drop('countries', axis=1)"
   ]
  },
  {
   "cell_type": "code",
   "execution_count": 100,
   "metadata": {},
   "outputs": [],
   "source": [
    "#making sure id column is int so dataframes can be merged later\n",
    "releases_df = releases_df.astype({\"id\": int})"
   ]
  },
  {
   "cell_type": "markdown",
   "metadata": {},
   "source": [
    "### Joining the tables"
   ]
  },
  {
   "cell_type": "markdown",
   "metadata": {},
   "source": [
    "#### Note: when the keys to join on are pd columns, not indices, better to use merge method"
   ]
  },
  {
   "cell_type": "code",
   "execution_count": 101,
   "metadata": {},
   "outputs": [],
   "source": [
    "step1 = info_df.merge(credits_df, on='id', how='inner')"
   ]
  },
  {
   "cell_type": "code",
   "execution_count": 148,
   "metadata": {},
   "outputs": [],
   "source": [
    "df = step1.merge(releases_df, on='id', how='inner')"
   ]
  },
  {
   "cell_type": "markdown",
   "metadata": {},
   "source": [
    "### Checking for outliers/faulty data (HAVE TO REEXAMINE THIS ON FULL DATA)"
   ]
  },
  {
   "cell_type": "code",
   "execution_count": 129,
   "metadata": {},
   "outputs": [],
   "source": [
    "pd.set_option('float_format', '{:f}'.format)  #so that floats will print w/o scientific notat."
   ]
  },
  {
   "cell_type": "code",
   "execution_count": 149,
   "metadata": {},
   "outputs": [
    {
     "data": {
      "text/html": [
       "<div>\n",
       "<style scoped>\n",
       "    .dataframe tbody tr th:only-of-type {\n",
       "        vertical-align: middle;\n",
       "    }\n",
       "\n",
       "    .dataframe tbody tr th {\n",
       "        vertical-align: top;\n",
       "    }\n",
       "\n",
       "    .dataframe thead th {\n",
       "        text-align: right;\n",
       "    }\n",
       "</style>\n",
       "<table border=\"1\" class=\"dataframe\">\n",
       "  <thead>\n",
       "    <tr style=\"text-align: right;\">\n",
       "      <th></th>\n",
       "      <th>budget</th>\n",
       "      <th>id</th>\n",
       "      <th>revenue</th>\n",
       "      <th>runtime</th>\n",
       "      <th>profit</th>\n",
       "      <th>made_money</th>\n",
       "      <th>releases</th>\n",
       "    </tr>\n",
       "  </thead>\n",
       "  <tbody>\n",
       "    <tr>\n",
       "      <th>count</th>\n",
       "      <td>1546.000000</td>\n",
       "      <td>1546.000000</td>\n",
       "      <td>1546.000000</td>\n",
       "      <td>1546.000000</td>\n",
       "      <td>1546.000000</td>\n",
       "      <td>1546.000000</td>\n",
       "      <td>1546.000000</td>\n",
       "    </tr>\n",
       "    <tr>\n",
       "      <th>mean</th>\n",
       "      <td>38622310.793661</td>\n",
       "      <td>4280.022639</td>\n",
       "      <td>128294032.535576</td>\n",
       "      <td>114.152005</td>\n",
       "      <td>89671721.741915</td>\n",
       "      <td>0.801423</td>\n",
       "      <td>17.402975</td>\n",
       "    </tr>\n",
       "    <tr>\n",
       "      <th>std</th>\n",
       "      <td>40247799.140231</td>\n",
       "      <td>3758.514757</td>\n",
       "      <td>173168777.950504</td>\n",
       "      <td>21.962564</td>\n",
       "      <td>150251482.734078</td>\n",
       "      <td>0.399058</td>\n",
       "      <td>17.390917</td>\n",
       "    </tr>\n",
       "    <tr>\n",
       "      <th>min</th>\n",
       "      <td>1.000000</td>\n",
       "      <td>5.000000</td>\n",
       "      <td>5.000000</td>\n",
       "      <td>80.000000</td>\n",
       "      <td>-98301101.000000</td>\n",
       "      <td>0.000000</td>\n",
       "      <td>1.000000</td>\n",
       "    </tr>\n",
       "    <tr>\n",
       "      <th>25%</th>\n",
       "      <td>10000000.000000</td>\n",
       "      <td>790.250000</td>\n",
       "      <td>22000000.000000</td>\n",
       "      <td>99.000000</td>\n",
       "      <td>3019205.000000</td>\n",
       "      <td>1.000000</td>\n",
       "      <td>6.000000</td>\n",
       "    </tr>\n",
       "    <tr>\n",
       "      <th>50%</th>\n",
       "      <td>26000000.000000</td>\n",
       "      <td>2469.500000</td>\n",
       "      <td>65730000.000000</td>\n",
       "      <td>110.000000</td>\n",
       "      <td>36760682.000000</td>\n",
       "      <td>1.000000</td>\n",
       "      <td>10.000000</td>\n",
       "    </tr>\n",
       "    <tr>\n",
       "      <th>75%</th>\n",
       "      <td>55000000.000000</td>\n",
       "      <td>8871.750000</td>\n",
       "      <td>163718070.250000</td>\n",
       "      <td>124.000000</td>\n",
       "      <td>115568858.500000</td>\n",
       "      <td>1.000000</td>\n",
       "      <td>19.000000</td>\n",
       "    </tr>\n",
       "    <tr>\n",
       "      <th>max</th>\n",
       "      <td>380000000.000000</td>\n",
       "      <td>9992.000000</td>\n",
       "      <td>1845034188.000000</td>\n",
       "      <td>248.000000</td>\n",
       "      <td>1645034188.000000</td>\n",
       "      <td>1.000000</td>\n",
       "      <td>118.000000</td>\n",
       "    </tr>\n",
       "  </tbody>\n",
       "</table>\n",
       "</div>"
      ],
      "text/plain": [
       "                budget          id           revenue     runtime            profit  made_money  \\\n",
       "count      1546.000000 1546.000000       1546.000000 1546.000000       1546.000000 1546.000000   \n",
       "mean   38622310.793661 4280.022639  128294032.535576  114.152005   89671721.741915    0.801423   \n",
       "std    40247799.140231 3758.514757  173168777.950504   21.962564  150251482.734078    0.399058   \n",
       "min           1.000000    5.000000          5.000000   80.000000  -98301101.000000    0.000000   \n",
       "25%    10000000.000000  790.250000   22000000.000000   99.000000    3019205.000000    1.000000   \n",
       "50%    26000000.000000 2469.500000   65730000.000000  110.000000   36760682.000000    1.000000   \n",
       "75%    55000000.000000 8871.750000  163718070.250000  124.000000  115568858.500000    1.000000   \n",
       "max   380000000.000000 9992.000000 1845034188.000000  248.000000 1645034188.000000    1.000000   \n",
       "\n",
       "         releases  \n",
       "count 1546.000000  \n",
       "mean    17.402975  \n",
       "std     17.390917  \n",
       "min      1.000000  \n",
       "25%      6.000000  \n",
       "50%     10.000000  \n",
       "75%     19.000000  \n",
       "max    118.000000  "
      ]
     },
     "execution_count": 149,
     "metadata": {},
     "output_type": "execute_result"
    }
   ],
   "source": [
    "df.describe()  #checking for outliers/faulty data, looks like we have an issue in budget/revenue"
   ]
  },
  {
   "cell_type": "code",
   "execution_count": 150,
   "metadata": {},
   "outputs": [],
   "source": [
    "df = df[df['budget'] > 1000] #dropping rows with faulty budget numbers"
   ]
  },
  {
   "cell_type": "code",
   "execution_count": 166,
   "metadata": {},
   "outputs": [],
   "source": [
    "df = df[df['revenue'] > 10300] #dropping rows with faulty revenue numbers"
   ]
  },
  {
   "cell_type": "code",
   "execution_count": 167,
   "metadata": {},
   "outputs": [
    {
     "data": {
      "text/html": [
       "<div>\n",
       "<style scoped>\n",
       "    .dataframe tbody tr th:only-of-type {\n",
       "        vertical-align: middle;\n",
       "    }\n",
       "\n",
       "    .dataframe tbody tr th {\n",
       "        vertical-align: top;\n",
       "    }\n",
       "\n",
       "    .dataframe thead th {\n",
       "        text-align: right;\n",
       "    }\n",
       "</style>\n",
       "<table border=\"1\" class=\"dataframe\">\n",
       "  <thead>\n",
       "    <tr style=\"text-align: right;\">\n",
       "      <th></th>\n",
       "      <th>budget</th>\n",
       "      <th>id</th>\n",
       "      <th>revenue</th>\n",
       "      <th>runtime</th>\n",
       "      <th>profit</th>\n",
       "      <th>made_money</th>\n",
       "      <th>releases</th>\n",
       "    </tr>\n",
       "  </thead>\n",
       "  <tbody>\n",
       "    <tr>\n",
       "      <th>count</th>\n",
       "      <td>1535.000000</td>\n",
       "      <td>1535.000000</td>\n",
       "      <td>1535.000000</td>\n",
       "      <td>1535.000000</td>\n",
       "      <td>1535.000000</td>\n",
       "      <td>1535.000000</td>\n",
       "      <td>1535.000000</td>\n",
       "    </tr>\n",
       "    <tr>\n",
       "      <th>mean</th>\n",
       "      <td>38841753.859935</td>\n",
       "      <td>4281.883388</td>\n",
       "      <td>129138410.224104</td>\n",
       "      <td>114.202606</td>\n",
       "      <td>90296656.364169</td>\n",
       "      <td>0.803909</td>\n",
       "      <td>17.463844</td>\n",
       "    </tr>\n",
       "    <tr>\n",
       "      <th>std</th>\n",
       "      <td>40272976.340912</td>\n",
       "      <td>3758.806706</td>\n",
       "      <td>173477195.271823</td>\n",
       "      <td>21.999348</td>\n",
       "      <td>150567591.003754</td>\n",
       "      <td>0.397168</td>\n",
       "      <td>17.426354</td>\n",
       "    </tr>\n",
       "    <tr>\n",
       "      <th>min</th>\n",
       "      <td>12000.000000</td>\n",
       "      <td>5.000000</td>\n",
       "      <td>12000.000000</td>\n",
       "      <td>80.000000</td>\n",
       "      <td>-98301101.000000</td>\n",
       "      <td>0.000000</td>\n",
       "      <td>1.000000</td>\n",
       "    </tr>\n",
       "    <tr>\n",
       "      <th>25%</th>\n",
       "      <td>10000000.000000</td>\n",
       "      <td>791.000000</td>\n",
       "      <td>22430661.500000</td>\n",
       "      <td>99.000000</td>\n",
       "      <td>3684759.500000</td>\n",
       "      <td>1.000000</td>\n",
       "      <td>6.000000</td>\n",
       "    </tr>\n",
       "    <tr>\n",
       "      <th>50%</th>\n",
       "      <td>26000000.000000</td>\n",
       "      <td>2486.000000</td>\n",
       "      <td>66000000.000000</td>\n",
       "      <td>110.000000</td>\n",
       "      <td>37410000.000000</td>\n",
       "      <td>1.000000</td>\n",
       "      <td>10.000000</td>\n",
       "    </tr>\n",
       "    <tr>\n",
       "      <th>75%</th>\n",
       "      <td>55000000.000000</td>\n",
       "      <td>8873.000000</td>\n",
       "      <td>163938407.500000</td>\n",
       "      <td>124.000000</td>\n",
       "      <td>118302504.500000</td>\n",
       "      <td>1.000000</td>\n",
       "      <td>19.000000</td>\n",
       "    </tr>\n",
       "    <tr>\n",
       "      <th>max</th>\n",
       "      <td>380000000.000000</td>\n",
       "      <td>9992.000000</td>\n",
       "      <td>1845034188.000000</td>\n",
       "      <td>248.000000</td>\n",
       "      <td>1645034188.000000</td>\n",
       "      <td>1.000000</td>\n",
       "      <td>118.000000</td>\n",
       "    </tr>\n",
       "  </tbody>\n",
       "</table>\n",
       "</div>"
      ],
      "text/plain": [
       "                budget          id           revenue     runtime            profit  made_money  \\\n",
       "count      1535.000000 1535.000000       1535.000000 1535.000000       1535.000000 1535.000000   \n",
       "mean   38841753.859935 4281.883388  129138410.224104  114.202606   90296656.364169    0.803909   \n",
       "std    40272976.340912 3758.806706  173477195.271823   21.999348  150567591.003754    0.397168   \n",
       "min       12000.000000    5.000000      12000.000000   80.000000  -98301101.000000    0.000000   \n",
       "25%    10000000.000000  791.000000   22430661.500000   99.000000    3684759.500000    1.000000   \n",
       "50%    26000000.000000 2486.000000   66000000.000000  110.000000   37410000.000000    1.000000   \n",
       "75%    55000000.000000 8873.000000  163938407.500000  124.000000  118302504.500000    1.000000   \n",
       "max   380000000.000000 9992.000000 1845034188.000000  248.000000 1645034188.000000    1.000000   \n",
       "\n",
       "         releases  \n",
       "count 1535.000000  \n",
       "mean    17.463844  \n",
       "std     17.426354  \n",
       "min      1.000000  \n",
       "25%      6.000000  \n",
       "50%     10.000000  \n",
       "75%     19.000000  \n",
       "max    118.000000  "
      ]
     },
     "execution_count": 167,
     "metadata": {},
     "output_type": "execute_result"
    }
   ],
   "source": [
    "df.describe()  #much better (the 12k revenue and 12k budget are not mistakes)"
   ]
  },
  {
   "cell_type": "code",
   "execution_count": 169,
   "metadata": {},
   "outputs": [
    {
     "data": {
      "text/html": [
       "<div>\n",
       "<style scoped>\n",
       "    .dataframe tbody tr th:only-of-type {\n",
       "        vertical-align: middle;\n",
       "    }\n",
       "\n",
       "    .dataframe tbody tr th {\n",
       "        vertical-align: top;\n",
       "    }\n",
       "\n",
       "    .dataframe thead th {\n",
       "        text-align: right;\n",
       "    }\n",
       "</style>\n",
       "<table border=\"1\" class=\"dataframe\">\n",
       "  <thead>\n",
       "    <tr style=\"text-align: right;\">\n",
       "      <th></th>\n",
       "      <th>budget</th>\n",
       "      <th>id</th>\n",
       "      <th>release_date</th>\n",
       "      <th>revenue</th>\n",
       "      <th>runtime</th>\n",
       "      <th>title</th>\n",
       "      <th>genre0</th>\n",
       "      <th>profit</th>\n",
       "      <th>made_money</th>\n",
       "      <th>cast0</th>\n",
       "      <th>cast1</th>\n",
       "      <th>cast2</th>\n",
       "      <th>cast3</th>\n",
       "      <th>cast4</th>\n",
       "      <th>director</th>\n",
       "      <th>writer0</th>\n",
       "      <th>releases</th>\n",
       "    </tr>\n",
       "  </thead>\n",
       "  <tbody>\n",
       "    <tr>\n",
       "      <th>0</th>\n",
       "      <td>4000000.000000</td>\n",
       "      <td>5</td>\n",
       "      <td>1995-12-09</td>\n",
       "      <td>4300000.000000</td>\n",
       "      <td>98.000000</td>\n",
       "      <td>Four Rooms</td>\n",
       "      <td>Crime</td>\n",
       "      <td>300000.000000</td>\n",
       "      <td>1</td>\n",
       "      <td>Tim Roth</td>\n",
       "      <td>Antonio Banderas</td>\n",
       "      <td>Jennifer Beals</td>\n",
       "      <td>Madonna</td>\n",
       "      <td>Marisa Tomei</td>\n",
       "      <td>Allison Anders</td>\n",
       "      <td>Allison Anders</td>\n",
       "      <td>30.000000</td>\n",
       "    </tr>\n",
       "    <tr>\n",
       "      <th>2</th>\n",
       "      <td>11000000.000000</td>\n",
       "      <td>11</td>\n",
       "      <td>1977-05-25</td>\n",
       "      <td>775398007.000000</td>\n",
       "      <td>121.000000</td>\n",
       "      <td>Star Wars</td>\n",
       "      <td>Adventure</td>\n",
       "      <td>764398007.000000</td>\n",
       "      <td>1</td>\n",
       "      <td>Mark Hamill</td>\n",
       "      <td>Harrison Ford</td>\n",
       "      <td>Carrie Fisher</td>\n",
       "      <td>Peter Mayhew</td>\n",
       "      <td>Anthony Daniels</td>\n",
       "      <td>George Lucas</td>\n",
       "      <td>George Lucas</td>\n",
       "      <td>67.000000</td>\n",
       "    </tr>\n",
       "    <tr>\n",
       "      <th>3</th>\n",
       "      <td>94000000.000000</td>\n",
       "      <td>12</td>\n",
       "      <td>2003-05-30</td>\n",
       "      <td>940335536.000000</td>\n",
       "      <td>100.000000</td>\n",
       "      <td>Finding Nemo</td>\n",
       "      <td>Animation</td>\n",
       "      <td>846335536.000000</td>\n",
       "      <td>1</td>\n",
       "      <td>Albert Brooks</td>\n",
       "      <td>Ellen DeGeneres</td>\n",
       "      <td>Alexander Gould</td>\n",
       "      <td>Willem Dafoe</td>\n",
       "      <td>Brad Garrett</td>\n",
       "      <td>Andrew Stanton</td>\n",
       "      <td>Andrew Stanton</td>\n",
       "      <td>62.000000</td>\n",
       "    </tr>\n",
       "    <tr>\n",
       "      <th>4</th>\n",
       "      <td>55000000.000000</td>\n",
       "      <td>13</td>\n",
       "      <td>1994-07-06</td>\n",
       "      <td>677945399.000000</td>\n",
       "      <td>142.000000</td>\n",
       "      <td>Forrest Gump</td>\n",
       "      <td>Comedy</td>\n",
       "      <td>622945399.000000</td>\n",
       "      <td>1</td>\n",
       "      <td>Tom Hanks</td>\n",
       "      <td>Robin Wright</td>\n",
       "      <td>Gary Sinise</td>\n",
       "      <td>Mykelti Williamson</td>\n",
       "      <td>Sally Field</td>\n",
       "      <td>Robert Zemeckis</td>\n",
       "      <td>Eric Roth</td>\n",
       "      <td>39.000000</td>\n",
       "    </tr>\n",
       "    <tr>\n",
       "      <th>5</th>\n",
       "      <td>15000000.000000</td>\n",
       "      <td>14</td>\n",
       "      <td>1999-09-15</td>\n",
       "      <td>356296601.000000</td>\n",
       "      <td>122.000000</td>\n",
       "      <td>American Beauty</td>\n",
       "      <td>Drama</td>\n",
       "      <td>341296601.000000</td>\n",
       "      <td>1</td>\n",
       "      <td>Kevin Spacey</td>\n",
       "      <td>Annette Bening</td>\n",
       "      <td>Thora Birch</td>\n",
       "      <td>Wes Bentley</td>\n",
       "      <td>Mena Suvari</td>\n",
       "      <td>Sam Mendes</td>\n",
       "      <td>Alan Ball</td>\n",
       "      <td>54.000000</td>\n",
       "    </tr>\n",
       "  </tbody>\n",
       "</table>\n",
       "</div>"
      ],
      "text/plain": [
       "           budget  id release_date          revenue    runtime            title     genre0  \\\n",
       "0  4000000.000000   5   1995-12-09   4300000.000000  98.000000       Four Rooms      Crime   \n",
       "2 11000000.000000  11   1977-05-25 775398007.000000 121.000000        Star Wars  Adventure   \n",
       "3 94000000.000000  12   2003-05-30 940335536.000000 100.000000     Finding Nemo  Animation   \n",
       "4 55000000.000000  13   1994-07-06 677945399.000000 142.000000     Forrest Gump     Comedy   \n",
       "5 15000000.000000  14   1999-09-15 356296601.000000 122.000000  American Beauty      Drama   \n",
       "\n",
       "            profit  made_money          cast0             cast1            cast2  \\\n",
       "0    300000.000000           1       Tim Roth  Antonio Banderas   Jennifer Beals   \n",
       "2 764398007.000000           1    Mark Hamill     Harrison Ford    Carrie Fisher   \n",
       "3 846335536.000000           1  Albert Brooks   Ellen DeGeneres  Alexander Gould   \n",
       "4 622945399.000000           1      Tom Hanks      Robin Wright      Gary Sinise   \n",
       "5 341296601.000000           1   Kevin Spacey    Annette Bening      Thora Birch   \n",
       "\n",
       "                cast3            cast4         director         writer0  releases  \n",
       "0             Madonna     Marisa Tomei   Allison Anders  Allison Anders 30.000000  \n",
       "2        Peter Mayhew  Anthony Daniels     George Lucas    George Lucas 67.000000  \n",
       "3        Willem Dafoe     Brad Garrett   Andrew Stanton  Andrew Stanton 62.000000  \n",
       "4  Mykelti Williamson      Sally Field  Robert Zemeckis       Eric Roth 39.000000  \n",
       "5         Wes Bentley      Mena Suvari       Sam Mendes       Alan Ball 54.000000  "
      ]
     },
     "execution_count": 169,
     "metadata": {},
     "output_type": "execute_result"
    }
   ],
   "source": [
    "df.head()"
   ]
  },
  {
   "cell_type": "markdown",
   "metadata": {},
   "source": [
    "### Next step... get cast & crew lifetime revenue, profits, # of films, # of profitable films, see notes for other feature ideas"
   ]
  },
  {
   "cell_type": "code",
   "execution_count": null,
   "metadata": {},
   "outputs": [],
   "source": []
  },
  {
   "cell_type": "code",
   "execution_count": null,
   "metadata": {},
   "outputs": [],
   "source": []
  },
  {
   "cell_type": "code",
   "execution_count": null,
   "metadata": {},
   "outputs": [],
   "source": []
  },
  {
   "cell_type": "markdown",
   "metadata": {},
   "source": [
    "#### Sandbox/seeing what some of the data looks like:"
   ]
  },
  {
   "cell_type": "code",
   "execution_count": null,
   "metadata": {},
   "outputs": [],
   "source": [
    "exp_credits_df = pd.read_csv(credits_file)"
   ]
  },
  {
   "cell_type": "code",
   "execution_count": null,
   "metadata": {},
   "outputs": [],
   "source": [
    "# 109, 83, 82, 5, 17, 18, 21 \n",
    "# Author, Writer\n",
    "\n",
    "crew_lod = eval(exp_credits_df.iat[21, 2])"
   ]
  },
  {
   "cell_type": "code",
   "execution_count": null,
   "metadata": {},
   "outputs": [],
   "source": [
    "for i in range(len(crew_lod)):\n",
    "    print(crew_lod[i]['job'])\n",
    "    print(crew_lod[i]['name'])\n",
    "    print(\"\")"
   ]
  },
  {
   "cell_type": "code",
   "execution_count": 40,
   "metadata": {},
   "outputs": [
    {
     "data": {
      "text/plain": [
       "'Michael Herr'"
      ]
     },
     "execution_count": 40,
     "metadata": {},
     "output_type": "execute_result"
    }
   ],
   "source": [
    "credits_df.iat[21, 9]"
   ]
  },
  {
   "cell_type": "code",
   "execution_count": 117,
   "metadata": {},
   "outputs": [],
   "source": [
    "exp_info_df = pd.read_csv(info_file)"
   ]
  },
  {
   "cell_type": "code",
   "execution_count": null,
   "metadata": {},
   "outputs": [],
   "source": []
  }
 ],
 "metadata": {
  "kernelspec": {
   "display_name": "Python 3",
   "language": "python",
   "name": "python3"
  },
  "language_info": {
   "codemirror_mode": {
    "name": "ipython",
    "version": 3
   },
   "file_extension": ".py",
   "mimetype": "text/x-python",
   "name": "python",
   "nbconvert_exporter": "python",
   "pygments_lexer": "ipython3",
   "version": "3.6.8"
  }
 },
 "nbformat": 4,
 "nbformat_minor": 2
}
