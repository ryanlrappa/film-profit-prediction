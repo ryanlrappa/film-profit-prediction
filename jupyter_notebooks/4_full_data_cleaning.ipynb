{
 "cells": [
  {
   "cell_type": "markdown",
   "metadata": {},
   "source": [
    "# Data cleaning + feature engineering on full data (originally done on an EC2, redone locally)"
   ]
  },
  {
   "cell_type": "markdown",
   "metadata": {},
   "source": [
    "## Imports"
   ]
  },
  {
   "cell_type": "code",
   "execution_count": 1,
   "metadata": {},
   "outputs": [],
   "source": [
    "import os\n",
    "import numpy as np\n",
    "import pandas as pd\n",
    "\n",
    "pd.set_option('display.max_rows', 100)\n",
    "pd.set_option('display.max_columns', 100)\n",
    "pd.set_option('display.width', 100)"
   ]
  },
  {
   "cell_type": "code",
   "execution_count": null,
   "metadata": {},
   "outputs": [],
   "source": [
    "os.getcwd()"
   ]
  },
  {
   "cell_type": "code",
   "execution_count": null,
   "metadata": {},
   "outputs": [],
   "source": [
    "# info_file = '/home/ec2-user/film-data/raw-data/info.csv'\n",
    "# credits_file = '/home/ec2-user/film-data/raw-data/credits.csv'\n",
    "# releases_file = '/home/ec2-user/film-data/raw-data/releases.csv'"
   ]
  },
  {
   "cell_type": "code",
   "execution_count": 2,
   "metadata": {},
   "outputs": [],
   "source": [
    "info_file = '/Users/ryanrappa/Downloads/raw_data/info.csv'\n",
    "credits_file = '/Users/ryanrappa/Downloads/raw_data/credits.csv'\n",
    "releases_file = '/Users/ryanrappa/Downloads/raw_data/releases.csv'"
   ]
  },
  {
   "cell_type": "code",
   "execution_count": 3,
   "metadata": {},
   "outputs": [
    {
     "name": "stderr",
     "output_type": "stream",
     "text": [
      "/anaconda3/lib/python3.6/site-packages/IPython/core/interactiveshell.py:3044: DtypeWarning: Columns (0,3,6,11,16,17,22,23,24) have mixed types. Specify dtype option on import or set low_memory=False.\n",
      "  interactivity=interactivity, compiler=compiler, result=result)\n",
      "/anaconda3/lib/python3.6/site-packages/IPython/core/interactiveshell.py:3044: DtypeWarning: Columns (0) have mixed types. Specify dtype option on import or set low_memory=False.\n",
      "  interactivity=interactivity, compiler=compiler, result=result)\n"
     ]
    }
   ],
   "source": [
    "#info table contains basic film details like genre, budget, revenue, language, runtime, etc.\n",
    "info_df = pd.read_csv(info_file)\n",
    "\n",
    "#credits table contains cast and crew\n",
    "credits_df = pd.read_csv(credits_file)\n",
    "\n",
    "#releases table contains info on which countries each film was released in\n",
    "releases_df = pd.read_csv(releases_file)"
   ]
  },
  {
   "cell_type": "markdown",
   "metadata": {},
   "source": [
    "## Cleaning + new features"
   ]
  },
  {
   "cell_type": "markdown",
   "metadata": {},
   "source": [
    "#### Because of the way data was collected, last row of each table has the headers. Fixing that:"
   ]
  },
  {
   "cell_type": "code",
   "execution_count": 4,
   "metadata": {},
   "outputs": [],
   "source": [
    "info_df.columns = info_df.iloc[-1:, :].squeeze()\n",
    "info_df = info_df.iloc[:-1, :]"
   ]
  },
  {
   "cell_type": "code",
   "execution_count": 5,
   "metadata": {},
   "outputs": [],
   "source": [
    "credits_df.columns = credits_df.iloc[-1:, :].squeeze()\n",
    "credits_df = credits_df.iloc[:-1, :]"
   ]
  },
  {
   "cell_type": "code",
   "execution_count": 6,
   "metadata": {},
   "outputs": [],
   "source": [
    "releases_df.columns = releases_df.iloc[-1:, :].squeeze()\n",
    "releases_df = releases_df.iloc[:-1, :]"
   ]
  },
  {
   "cell_type": "markdown",
   "metadata": {},
   "source": [
    "### Cleaning info table"
   ]
  },
  {
   "cell_type": "markdown",
   "metadata": {},
   "source": [
    "#### Getting each film's genre:"
   ]
  },
  {
   "cell_type": "code",
   "execution_count": 7,
   "metadata": {},
   "outputs": [],
   "source": [
    "def get_first_genre(lod_str):\n",
    "    '''\n",
    "    Function for use with pandas apply method.\n",
    "    --------\n",
    "    INPUT\n",
    "    lod_str (str): a list of dictionaries in the form of a string\n",
    "    --------\n",
    "    OUTPUT\n",
    "    (str): name of the first genre from the list of dicts\n",
    "    '''\n",
    "    lst_of_dicts = eval(lod_str)\n",
    "    if len(lst_of_dicts) > 0:\n",
    "        for i in range(len(lst_of_dicts)):\n",
    "            return lst_of_dicts[i]['name']\n",
    "    else:\n",
    "        pass"
   ]
  },
  {
   "cell_type": "code",
   "execution_count": 8,
   "metadata": {},
   "outputs": [],
   "source": [
    "info_df['genre'] = info_df['genres'].apply(get_first_genre)  #func in cell above"
   ]
  },
  {
   "cell_type": "markdown",
   "metadata": {},
   "source": [
    "#### Dropping unnecessary rows and columns from info table:"
   ]
  },
  {
   "cell_type": "code",
   "execution_count": 9,
   "metadata": {},
   "outputs": [],
   "source": [
    "#making sure relevant numerical columns are int/float type\n",
    "info_df = info_df.astype({\"adult\": str, \n",
    "                          \"budget\": float, \n",
    "                          \"id\": int, \n",
    "                          \"revenue\": float, \n",
    "                          \"original_language\": str, \n",
    "                          \"runtime\": float, \n",
    "                          \"genre\": str})"
   ]
  },
  {
   "cell_type": "code",
   "execution_count": 10,
   "metadata": {},
   "outputs": [],
   "source": [
    "#filtering for only non-adult films,\n",
    "# with revenue & budget > 0,\n",
    "# original language english,\n",
    "# runtime >= 80 minutes,\n",
    "# and genre is not documentary or tv movie.\n",
    "\n",
    "info_df = info_df[((info_df['adult'] == 'False') | (info_df['adult'] == False)) & \\\n",
    "        (info_df['budget'] > 0) & \\\n",
    "        (info_df['revenue'] > 0) & \\\n",
    "        (info_df['original_language'] == 'en') & \\\n",
    "        (info_df['runtime'] >= 80.0) & \\\n",
    "        (info_df['genre'] != 'Documentary') & (info_df['genre'] != 'TV Movie')]"
   ]
  },
  {
   "cell_type": "code",
   "execution_count": 11,
   "metadata": {},
   "outputs": [],
   "source": [
    "#dropping columns from info_df that won't be needed for EDA\n",
    "drop_cols = ['adult', 'backdrop_path', 'belongs_to_collection', \n",
    "             'genres', 'homepage', 'imdb_id', 'original_language', 'original_title', \n",
    "             'overview', 'popularity', 'poster_path', 'production_companies', \n",
    "             'production_countries', 'spoken_languages', 'status', 'tagline', 'video', \n",
    "             'vote_average', 'vote_count']\n",
    "\n",
    "info_df = info_df.drop(drop_cols, axis=1)\n",
    "\n",
    "### a few more cols to be dropped later for modelling, after EDA, feat. engineering, & joins: \n",
    "### ['id', 'release_date', 'runtime' (possibly), 'title', 'genre' (possibly)]"
   ]
  },
  {
   "cell_type": "markdown",
   "metadata": {},
   "source": [
    "#### Creating columns for (a) amount of profit or loss (revenue minus budget) and (b) whether each movie profited (binary, whether revenue > budget):"
   ]
  },
  {
   "cell_type": "code",
   "execution_count": 12,
   "metadata": {},
   "outputs": [],
   "source": [
    "info_df['profit'] = info_df['revenue'] - info_df['budget']"
   ]
  },
  {
   "cell_type": "code",
   "execution_count": 13,
   "metadata": {},
   "outputs": [],
   "source": [
    "info_df['made_money'] = info_df['profit'] > 0\n",
    "info_df['made_money'] = info_df['made_money'].astype('int')"
   ]
  },
  {
   "cell_type": "code",
   "execution_count": 14,
   "metadata": {},
   "outputs": [],
   "source": [
    "#converting release date column from object type to datetime type\n",
    "info_df['release_date'] = pd.to_datetime(info_df['release_date'])"
   ]
  },
  {
   "cell_type": "markdown",
   "metadata": {},
   "source": [
    "### Joining the tables"
   ]
  },
  {
   "cell_type": "markdown",
   "metadata": {},
   "source": [
    "#### Note: when the keys to join on are pd columns, not indices, better to use merge method"
   ]
  },
  {
   "cell_type": "code",
   "execution_count": 15,
   "metadata": {},
   "outputs": [],
   "source": [
    "#making sure id column is int so dataframes can be merged\n",
    "credits_df = credits_df.astype({\"id\": int})"
   ]
  },
  {
   "cell_type": "code",
   "execution_count": 16,
   "metadata": {},
   "outputs": [],
   "source": [
    "#making sure id column is int so dataframes can be merged\n",
    "releases_df = releases_df.astype({\"id\": int})"
   ]
  },
  {
   "cell_type": "code",
   "execution_count": 17,
   "metadata": {},
   "outputs": [],
   "source": [
    "step1 = info_df.merge(credits_df, on='id', how='inner')"
   ]
  },
  {
   "cell_type": "code",
   "execution_count": 18,
   "metadata": {},
   "outputs": [],
   "source": [
    "df = step1.merge(releases_df, on='id', how='inner')"
   ]
  },
  {
   "cell_type": "markdown",
   "metadata": {},
   "source": [
    "### Cleaning credits columns"
   ]
  },
  {
   "cell_type": "markdown",
   "metadata": {},
   "source": [
    "#### Appending columns with top billed actors to the table:"
   ]
  },
  {
   "cell_type": "code",
   "execution_count": 21,
   "metadata": {},
   "outputs": [],
   "source": [
    "def get_top_cast(df, lod_col, billings):\n",
    "    '''\n",
    "    INPUT\n",
    "    df: pandas dataframe w/ stringified lists of dictionaries containing cast\n",
    "    lod_col (str): name of col w/ stringified lists of dictionaries\n",
    "    billings (int): number of cast members to extract from each lod\n",
    "    --------\n",
    "    OUTPUT\n",
    "    original df w/ new columns having actor names corresponding to each billing \n",
    "    number in this function (lower billing number = more prominent\n",
    "    role; 0 = star of the movie, 1 = costar, etc.)\n",
    "    '''\n",
    "    for c in range(billings):\n",
    "        billing = c\n",
    "        for i in range(len(df)):\n",
    "            lst_of_dicts = eval(df.at[i, lod_col]) #lod's are strings at first, hence eval\n",
    "            if len(lst_of_dicts) > billing:\n",
    "                dict_of_interest = lst_of_dicts[billing]\n",
    "                actor = dict_of_interest['name']\n",
    "                df.at[i, 'cast_'+str(billing)] = actor\n",
    "            else:\n",
    "                continue\n",
    "    return df"
   ]
  },
  {
   "cell_type": "code",
   "execution_count": 22,
   "metadata": {},
   "outputs": [],
   "source": [
    "df = get_top_cast(df, 'cast', 5)  #func in cell above"
   ]
  },
  {
   "cell_type": "markdown",
   "metadata": {},
   "source": [
    "#### Appending columns with director and screenwriters to the table:"
   ]
  },
  {
   "cell_type": "code",
   "execution_count": 23,
   "metadata": {},
   "outputs": [],
   "source": [
    "def get_director(lod_str):\n",
    "    '''\n",
    "    Function for use with pandas apply method.\n",
    "    --------\n",
    "    INPUT\n",
    "    lod_str (str): a list of dictionaries in the form of a string\n",
    "    --------\n",
    "    OUTPUT\n",
    "    (str): name of the first director from the list of dicts\n",
    "    '''\n",
    "    lst_of_dicts = eval(lod_str)\n",
    "    if len(lst_of_dicts) > 0:\n",
    "        for i in range(len(lst_of_dicts)):\n",
    "            if lst_of_dicts[i]['job'] == 'Director':\n",
    "                return lst_of_dicts[i]['name']\n",
    "    else:\n",
    "        pass"
   ]
  },
  {
   "cell_type": "code",
   "execution_count": 24,
   "metadata": {},
   "outputs": [],
   "source": [
    "df['director'] = df['crew'].apply(get_director)  #func in cell above"
   ]
  },
  {
   "cell_type": "code",
   "execution_count": 25,
   "metadata": {},
   "outputs": [],
   "source": [
    "def get_first_writer(lod_str):\n",
    "    '''\n",
    "    Function for use with pandas apply method.\n",
    "    --------\n",
    "    INPUT\n",
    "    lod_str (str): a list of dictionaries in the form of a string\n",
    "    --------\n",
    "    OUTPUT\n",
    "    (str): name of the first screenwriter from the list of dicts\n",
    "    '''\n",
    "    lst_of_dicts = eval(lod_str)\n",
    "    if len(lst_of_dicts) > 0:\n",
    "        for i in range(len(lst_of_dicts)):\n",
    "            if lst_of_dicts[i]['job'] == 'Screenplay' or \\\n",
    "            lst_of_dicts[i]['job'] == 'Writer' or \\\n",
    "            lst_of_dicts[i]['job'] == 'Author':\n",
    "                return lst_of_dicts[i]['name']\n",
    "    else:\n",
    "        pass"
   ]
  },
  {
   "cell_type": "code",
   "execution_count": 26,
   "metadata": {},
   "outputs": [],
   "source": [
    "df['writer'] = df['crew'].apply(get_first_writer)  #func in cell above"
   ]
  },
  {
   "cell_type": "code",
   "execution_count": 27,
   "metadata": {},
   "outputs": [],
   "source": [
    "#decided not to get second writer becuse relatively few films have one in the dataset"
   ]
  },
  {
   "cell_type": "code",
   "execution_count": 28,
   "metadata": {},
   "outputs": [],
   "source": [
    "creds_drop_cols = ['cast', 'crew']\n",
    "df = df.drop(creds_drop_cols, axis=1)"
   ]
  },
  {
   "cell_type": "markdown",
   "metadata": {},
   "source": [
    "#### Dropping rows without at least 5 actors, or missing director/writer/release:"
   ]
  },
  {
   "cell_type": "code",
   "execution_count": 30,
   "metadata": {},
   "outputs": [],
   "source": [
    "df = df.dropna(subset=['cast_4', 'director', 'writer', 'release_date'])"
   ]
  },
  {
   "cell_type": "markdown",
   "metadata": {},
   "source": [
    "### Cleaning releases column"
   ]
  },
  {
   "cell_type": "markdown",
   "metadata": {},
   "source": [
    "#### Getting number of countries each film was released in and dropping nulls:"
   ]
  },
  {
   "cell_type": "code",
   "execution_count": 32,
   "metadata": {},
   "outputs": [],
   "source": [
    "def get_releases_count(lod_str):\n",
    "    '''\n",
    "    Function for use with pandas apply method.\n",
    "    --------\n",
    "    INPUT\n",
    "    lod_str (str): a list of dictionaries in the form of a string\n",
    "    --------\n",
    "    OUTPUT\n",
    "    (int): number of countries/territories the film was released in\n",
    "    '''\n",
    "    lst_of_dicts = eval(lod_str)\n",
    "    if len(lst_of_dicts) > 0:\n",
    "        return len(lst_of_dicts)\n",
    "    else:\n",
    "        pass"
   ]
  },
  {
   "cell_type": "code",
   "execution_count": 33,
   "metadata": {},
   "outputs": [],
   "source": [
    "df['releases'] = df['countries'].apply(get_releases_count)  #func in cell above"
   ]
  },
  {
   "cell_type": "code",
   "execution_count": 34,
   "metadata": {},
   "outputs": [],
   "source": [
    "df = df.drop('countries', axis=1)"
   ]
  },
  {
   "cell_type": "markdown",
   "metadata": {},
   "source": [
    "### Checking for outliers/faulty data"
   ]
  },
  {
   "cell_type": "code",
   "execution_count": 35,
   "metadata": {},
   "outputs": [],
   "source": [
    "pd.set_option('float_format', '{:f}'.format)  #so that floats will print w/o scientific notat."
   ]
  },
  {
   "cell_type": "code",
   "execution_count": 36,
   "metadata": {},
   "outputs": [],
   "source": [
    "df.describe(); #checking for outliers/faulty data"
   ]
  },
  {
   "cell_type": "code",
   "execution_count": 37,
   "metadata": {},
   "outputs": [],
   "source": [
    "df = df[df['budget'] > 10000] #dropping microbudget films and faulty data"
   ]
  },
  {
   "cell_type": "code",
   "execution_count": 38,
   "metadata": {},
   "outputs": [],
   "source": [
    "df = df[df['revenue'] > 10000] #dropping microbudget films and faulty data"
   ]
  },
  {
   "cell_type": "code",
   "execution_count": 39,
   "metadata": {},
   "outputs": [],
   "source": [
    "df.describe(); #much better"
   ]
  },
  {
   "cell_type": "code",
   "execution_count": 40,
   "metadata": {},
   "outputs": [],
   "source": [
    "# resetting index\n",
    "df = df.reset_index().drop('index', axis=1)"
   ]
  },
  {
   "cell_type": "markdown",
   "metadata": {},
   "source": [
    "### Getting cast & crew lifetime avg revenue, avg profits, # of films, # of profitable films"
   ]
  },
  {
   "cell_type": "code",
   "execution_count": 42,
   "metadata": {},
   "outputs": [],
   "source": [
    "def get_cast_metrics(df, cast_cols):\n",
    "    '''\n",
    "    Iterates over columns of cast members\n",
    "    and generates new columns with the avg\n",
    "    revenue, avg profit, total number of movies, and total number of\n",
    "    profitable movies that cast collectively has been in\n",
    "    up until the date of release in each row.\n",
    "    --------\n",
    "    INPUT\n",
    "    df: dataframe with cast columns\n",
    "    cast_cols: list of column names (str) with the cast\n",
    "    '''\n",
    "    rev_cols = []\n",
    "    prof_cols = []\n",
    "    prof_count_cols = []\n",
    "    tot_count_cols = []\n",
    "    for col_name in cast_cols:\n",
    "        for i in range(len(df)):\n",
    "            #1. getting a dataframe with actor's movies to date only\n",
    "            name = df.at[i, col_name]\n",
    "            release_date = df.at[i, 'release_date']\n",
    "            df_to_sum = df[(df['release_date'] < release_date) & \\\n",
    "                           ((df['cast_0'] == name) | (df['cast_1'] == name) | \\\n",
    "                            (df['cast_2'] == name) | (df['cast_3'] == name) | \\\n",
    "                            (df['cast_4'] == name))]\n",
    "            #2. creating new cols for each actor's career rev, prof, etc. to date\n",
    "            df.at[i, str(col_name)+'_rev'] = df_to_sum['revenue'].mean() #changed from .sum in prev version\n",
    "            df.at[i, str(col_name)+'_prof'] = df_to_sum['profit'].mean() #changed from .sum in prev version\n",
    "            df.at[i, str(col_name)+'_films'] = df_to_sum['made_money'].count()\n",
    "            df.at[i, str(col_name)+'_prof_films'] = df_to_sum['made_money'].sum()\n",
    "        \n",
    "        #2.1 appending those new col names to a list for subsequent summing and dropping\n",
    "        rev_cols.append(str(col_name)+'_rev')\n",
    "        prof_cols.append(str(col_name)+'_prof')\n",
    "        prof_count_cols.append(str(col_name)+'_prof_films')\n",
    "        tot_count_cols.append(str(col_name)+'_films')\n",
    "\n",
    "    #3. summing/dropping those cols so we just have cols representing top5 cast as a whole\n",
    "    \n",
    "    rev_to_avg = df[rev_cols].copy()\n",
    "    prof_to_avg = df[prof_cols].copy()\n",
    "    prof_count_to_sum = df[prof_count_cols].copy()\n",
    "    tot_count_to_sum = df[tot_count_cols].copy()\n",
    "    \n",
    "    df['cast_rev'] = rev_to_avg.mean(axis=1) #changed from .sum in prev version\n",
    "    df['cast_prof'] = prof_to_avg.mean(axis=1) #changed from .sum in prev version\n",
    "    df['cast_films'] = tot_count_to_sum.sum(axis=1)\n",
    "    df['cast_prof_films'] = prof_count_to_sum.sum(axis=1)\n",
    "    \n",
    "    df = df.drop(rev_cols, axis=1)\n",
    "    df = df.drop(prof_cols, axis=1)\n",
    "    df = df.drop(prof_count_cols, axis=1)\n",
    "    df = df.drop(tot_count_cols, axis=1)\n",
    "    \n",
    "    return df"
   ]
  },
  {
   "cell_type": "code",
   "execution_count": 43,
   "metadata": {},
   "outputs": [],
   "source": [
    "cast_cols = ['cast_0', 'cast_1', 'cast_2', 'cast_3', 'cast_4']\n",
    "\n",
    "#this may take a while to run:\n",
    "tdf = get_cast_metrics(df, cast_cols)  #func from cell above"
   ]
  },
  {
   "cell_type": "code",
   "execution_count": 54,
   "metadata": {},
   "outputs": [],
   "source": [
    "tdf[tdf.isna().any(axis=1)];  #see rows with NaNs"
   ]
  },
  {
   "cell_type": "code",
   "execution_count": 45,
   "metadata": {},
   "outputs": [],
   "source": [
    "df = tdf  #tdf used so I could experiment above/rewind if needed"
   ]
  },
  {
   "cell_type": "code",
   "execution_count": 46,
   "metadata": {},
   "outputs": [],
   "source": [
    "def get_director_metrics(df, director_col):\n",
    "    '''\n",
    "    Iterates over column with director\n",
    "    and generates new columns with the avg\n",
    "    revenue, avg profit, total number of movies, and total number of\n",
    "    profitable movies the director has been in\n",
    "    up until the date of release for each row.\n",
    "    --------\n",
    "    INPUT\n",
    "    df: dataframe with director columns\n",
    "    director_col: column name (str) with director\n",
    "    '''\n",
    "    for i in range(len(df)):\n",
    "        #1. getting a dataframe with director's movies to date only\n",
    "        name = df.at[i, director_col]\n",
    "        release_date = df.at[i, 'release_date']\n",
    "        df_to_sum = df[(df['release_date'] < release_date) & (df[director_col] == name)]\n",
    "        \n",
    "        #2. creating new cols for each director's career avg rev, prof, etc. to date\n",
    "        df.at[i, 'dir_rev'] = df_to_sum['revenue'].mean() #changed from .sum in prev version\n",
    "        df.at[i, 'dir_prof'] = df_to_sum['profit'].mean() #changed from .sum in prev version\n",
    "        df.at[i, 'dir_films'] = df_to_sum['made_money'].count()\n",
    "        df.at[i, 'dir_prof_films'] = df_to_sum['made_money'].sum()\n",
    "    \n",
    "    return df"
   ]
  },
  {
   "cell_type": "code",
   "execution_count": 47,
   "metadata": {},
   "outputs": [],
   "source": [
    "df = get_director_metrics(df, 'director')  #func from cell above"
   ]
  },
  {
   "cell_type": "code",
   "execution_count": 55,
   "metadata": {},
   "outputs": [],
   "source": [
    "def get_writer_metrics(df, writer_col):\n",
    "    '''\n",
    "    Iterates over column with writer\n",
    "    and generates new columns with the avg\n",
    "    revenue, avg profit, total number of movies, and total number of\n",
    "    profitable movies the writer has been in\n",
    "    up until the date of release for each row.\n",
    "    --------\n",
    "    INPUT\n",
    "    df: dataframe with writer columns\n",
    "    writer_col: column name (str) with writer\n",
    "    '''\n",
    "    for i in range(len(df)):\n",
    "        #1. getting a dataframe with writer's movies to date only\n",
    "        name = df.at[i, writer_col]\n",
    "        release_date = df.at[i, 'release_date']\n",
    "        df_to_sum = df[(df['release_date'] < release_date) & (df[writer_col] == name)]\n",
    "        \n",
    "        #2. creating new cols for each writer's career avg rev, prof, etc. to date\n",
    "        df.at[i, 'writ_rev'] = df_to_sum['revenue'].mean() #changed from .sum in prev version\n",
    "        df.at[i, 'writ_prof'] = df_to_sum['profit'].mean() #changed from .sum in prev version\n",
    "        df.at[i, 'writ_films'] = df_to_sum['made_money'].count()\n",
    "        df.at[i, 'writ_prof_films'] = df_to_sum['made_money'].sum()\n",
    "    \n",
    "    return df"
   ]
  },
  {
   "cell_type": "code",
   "execution_count": 56,
   "metadata": {},
   "outputs": [],
   "source": [
    "df = get_writer_metrics(df, 'writer')  #func from cell above"
   ]
  },
  {
   "cell_type": "code",
   "execution_count": 57,
   "metadata": {},
   "outputs": [
    {
     "name": "stdout",
     "output_type": "stream",
     "text": [
      "<class 'pandas.core.frame.DataFrame'>\n",
      "RangeIndex: 3799 entries, 0 to 3798\n",
      "Data columns (total 29 columns):\n",
      "budget             3799 non-null float64\n",
      "id                 3799 non-null int64\n",
      "release_date       3799 non-null datetime64[ns]\n",
      "revenue            3799 non-null float64\n",
      "runtime            3799 non-null float64\n",
      "title              3799 non-null object\n",
      "genre              3799 non-null object\n",
      "profit             3799 non-null float64\n",
      "made_money         3799 non-null int64\n",
      "cast_0             3799 non-null object\n",
      "cast_1             3799 non-null object\n",
      "cast_2             3799 non-null object\n",
      "cast_3             3799 non-null object\n",
      "cast_4             3799 non-null object\n",
      "director           3799 non-null object\n",
      "writer             3799 non-null object\n",
      "releases           3799 non-null int64\n",
      "cast_rev           3524 non-null float64\n",
      "cast_prof          3524 non-null float64\n",
      "cast_films         3799 non-null float64\n",
      "cast_prof_films    3799 non-null float64\n",
      "dir_rev            2006 non-null float64\n",
      "dir_prof           2006 non-null float64\n",
      "dir_films          3799 non-null float64\n",
      "dir_prof_films     3799 non-null float64\n",
      "writ_rev           1394 non-null float64\n",
      "writ_prof          1394 non-null float64\n",
      "writ_films         3799 non-null float64\n",
      "writ_prof_films    3799 non-null float64\n",
      "dtypes: datetime64[ns](1), float64(16), int64(3), object(9)\n",
      "memory usage: 860.8+ KB\n"
     ]
    }
   ],
   "source": [
    "df.info()"
   ]
  },
  {
   "cell_type": "markdown",
   "metadata": {},
   "source": [
    "#### Filling the NaNs with zeros -- this isn't ideal, but the zeros do generally correspond to less prominent/experienced casts and crews, giving us additional information:"
   ]
  },
  {
   "cell_type": "code",
   "execution_count": 60,
   "metadata": {},
   "outputs": [],
   "source": [
    "df = df.fillna(0)"
   ]
  },
  {
   "cell_type": "code",
   "execution_count": 61,
   "metadata": {},
   "outputs": [
    {
     "name": "stdout",
     "output_type": "stream",
     "text": [
      "<class 'pandas.core.frame.DataFrame'>\n",
      "RangeIndex: 3799 entries, 0 to 3798\n",
      "Data columns (total 29 columns):\n",
      "budget             3799 non-null float64\n",
      "id                 3799 non-null int64\n",
      "release_date       3799 non-null datetime64[ns]\n",
      "revenue            3799 non-null float64\n",
      "runtime            3799 non-null float64\n",
      "title              3799 non-null object\n",
      "genre              3799 non-null object\n",
      "profit             3799 non-null float64\n",
      "made_money         3799 non-null int64\n",
      "cast_0             3799 non-null object\n",
      "cast_1             3799 non-null object\n",
      "cast_2             3799 non-null object\n",
      "cast_3             3799 non-null object\n",
      "cast_4             3799 non-null object\n",
      "director           3799 non-null object\n",
      "writer             3799 non-null object\n",
      "releases           3799 non-null int64\n",
      "cast_rev           3799 non-null float64\n",
      "cast_prof          3799 non-null float64\n",
      "cast_films         3799 non-null float64\n",
      "cast_prof_films    3799 non-null float64\n",
      "dir_rev            3799 non-null float64\n",
      "dir_prof           3799 non-null float64\n",
      "dir_films          3799 non-null float64\n",
      "dir_prof_films     3799 non-null float64\n",
      "writ_rev           3799 non-null float64\n",
      "writ_prof          3799 non-null float64\n",
      "writ_films         3799 non-null float64\n",
      "writ_prof_films    3799 non-null float64\n",
      "dtypes: datetime64[ns](1), float64(16), int64(3), object(9)\n",
      "memory usage: 860.8+ KB\n"
     ]
    }
   ],
   "source": [
    "df.info()"
   ]
  },
  {
   "cell_type": "markdown",
   "metadata": {},
   "source": [
    "### Getting average of cast & crew revenue, profit, etc. for each film's competitors (i.e. all other films released with +/- 2 weeks of each film):"
   ]
  },
  {
   "cell_type": "code",
   "execution_count": 62,
   "metadata": {},
   "outputs": [],
   "source": [
    "def get_competitor_metrics(df, id_col):\n",
    "    '''\n",
    "    Iterates over each film (each row)\n",
    "    and generates new columns with the average\n",
    "    revenue, profit, number of movies, and number of\n",
    "    profitable movies of the casts/crews from competing movies\n",
    "    (i.e. those released within +/- 2 weeks) have been in.\n",
    "    --------\n",
    "    INPUT\n",
    "    df: dataframe with cast columns\n",
    "    id_col: column name (str) with film id\n",
    "    '''\n",
    "    for i in range(len(df)):\n",
    "        #1. getting a dataframe with competing films\n",
    "        id_ = df.at[i, id_col]\n",
    "        release_date = df.at[i, 'release_date']\n",
    "        df_to_avg = df[(df['release_date'] >= (release_date - pd.to_timedelta(14, unit='d'))) & \\\n",
    "               (df['release_date'] <= (release_date + pd.to_timedelta(14, unit='d'))) & \\\n",
    "               (df['id'] != id_)]\n",
    "        \n",
    "        #2. creating new cols for competing cast/crews' avg career rev, prof, etc.\n",
    "        df.at[i, 'compet_cast_rev'] = df_to_avg['cast_rev'].mean()\n",
    "        df.at[i, 'compet_cast_prof'] = df_to_avg['cast_prof'].mean()\n",
    "        df.at[i, 'compet_cast_films'] = df_to_avg['cast_films'].mean()\n",
    "        df.at[i, 'compet_cast_prof_films'] = df_to_avg['cast_prof_films'].mean()\n",
    "        \n",
    "        df.at[i, 'compet_dir_rev'] = df_to_avg['dir_rev'].mean()\n",
    "        df.at[i, 'compet_dir_prof'] = df_to_avg['dir_prof'].mean()\n",
    "        df.at[i, 'compet_dir_films'] = df_to_avg['dir_films'].mean()\n",
    "        df.at[i, 'compet_dir_prof_films'] = df_to_avg['dir_prof_films'].mean()\n",
    "        \n",
    "        df.at[i, 'compet_writ_rev'] = df_to_avg['writ_rev'].mean()\n",
    "        df.at[i, 'compet_writ_prof'] = df_to_avg['writ_prof'].mean()\n",
    "        df.at[i, 'compet_writ_films'] = df_to_avg['writ_films'].mean()\n",
    "        df.at[i, 'compet_writ_prof_films'] = df_to_avg['writ_prof_films'].mean()\n",
    "    \n",
    "    return df"
   ]
  },
  {
   "cell_type": "code",
   "execution_count": 63,
   "metadata": {},
   "outputs": [],
   "source": [
    "df = get_competitor_metrics(df, 'id')"
   ]
  },
  {
   "cell_type": "code",
   "execution_count": 89,
   "metadata": {},
   "outputs": [],
   "source": [
    "df = df.dropna() #dropping films without competitors in the data"
   ]
  },
  {
   "cell_type": "code",
   "execution_count": 92,
   "metadata": {},
   "outputs": [
    {
     "data": {
      "text/html": [
       "<div>\n",
       "<style scoped>\n",
       "    .dataframe tbody tr th:only-of-type {\n",
       "        vertical-align: middle;\n",
       "    }\n",
       "\n",
       "    .dataframe tbody tr th {\n",
       "        vertical-align: top;\n",
       "    }\n",
       "\n",
       "    .dataframe thead th {\n",
       "        text-align: right;\n",
       "    }\n",
       "</style>\n",
       "<table border=\"1\" class=\"dataframe\">\n",
       "  <thead>\n",
       "    <tr style=\"text-align: right;\">\n",
       "      <th></th>\n",
       "      <th>budget</th>\n",
       "      <th>id</th>\n",
       "      <th>release_date</th>\n",
       "      <th>revenue</th>\n",
       "      <th>runtime</th>\n",
       "      <th>title</th>\n",
       "      <th>genre</th>\n",
       "      <th>profit</th>\n",
       "      <th>made_money</th>\n",
       "      <th>cast_0</th>\n",
       "      <th>cast_1</th>\n",
       "      <th>cast_2</th>\n",
       "      <th>cast_3</th>\n",
       "      <th>cast_4</th>\n",
       "      <th>director</th>\n",
       "      <th>writer</th>\n",
       "      <th>releases</th>\n",
       "      <th>cast_rev</th>\n",
       "      <th>cast_prof</th>\n",
       "      <th>cast_films</th>\n",
       "      <th>cast_prof_films</th>\n",
       "      <th>dir_rev</th>\n",
       "      <th>dir_prof</th>\n",
       "      <th>dir_films</th>\n",
       "      <th>dir_prof_films</th>\n",
       "      <th>writ_rev</th>\n",
       "      <th>writ_prof</th>\n",
       "      <th>writ_films</th>\n",
       "      <th>writ_prof_films</th>\n",
       "      <th>compet_cast_rev</th>\n",
       "      <th>compet_cast_prof</th>\n",
       "      <th>compet_cast_films</th>\n",
       "      <th>compet_cast_prof_films</th>\n",
       "      <th>compet_dir_rev</th>\n",
       "      <th>compet_dir_prof</th>\n",
       "      <th>compet_dir_films</th>\n",
       "      <th>compet_dir_prof_films</th>\n",
       "      <th>compet_writ_rev</th>\n",
       "      <th>compet_writ_prof</th>\n",
       "      <th>compet_writ_films</th>\n",
       "      <th>compet_writ_prof_films</th>\n",
       "    </tr>\n",
       "  </thead>\n",
       "  <tbody>\n",
       "    <tr>\n",
       "      <th>3467</th>\n",
       "      <td>80000000.000000</td>\n",
       "      <td>324852</td>\n",
       "      <td>2017-06-15</td>\n",
       "      <td>1031552585.000000</td>\n",
       "      <td>96.000000</td>\n",
       "      <td>Despicable Me 3</td>\n",
       "      <td>Action</td>\n",
       "      <td>951552585.000000</td>\n",
       "      <td>1</td>\n",
       "      <td>Steve Carell</td>\n",
       "      <td>Kristen Wiig</td>\n",
       "      <td>Trey Parker</td>\n",
       "      <td>Miranda Cosgrove</td>\n",
       "      <td>Dana Gaier</td>\n",
       "      <td>Kyle Balda</td>\n",
       "      <td>Ken Daurio</td>\n",
       "      <td>30</td>\n",
       "      <td>131781706.260684</td>\n",
       "      <td>88278501.132479</td>\n",
       "      <td>25.000000</td>\n",
       "      <td>21.000000</td>\n",
       "      <td>1156730962.000000</td>\n",
       "      <td>1082730962.000000</td>\n",
       "      <td>1.000000</td>\n",
       "      <td>1.000000</td>\n",
       "      <td>572036645.333333</td>\n",
       "      <td>495703312.000000</td>\n",
       "      <td>3.000000</td>\n",
       "      <td>3.000000</td>\n",
       "      <td>115572227.867611</td>\n",
       "      <td>72972096.309559</td>\n",
       "      <td>29.714286</td>\n",
       "      <td>22.142857</td>\n",
       "      <td>61279580.535714</td>\n",
       "      <td>38011723.392857</td>\n",
       "      <td>1.214286</td>\n",
       "      <td>1.071429</td>\n",
       "      <td>71852422.285714</td>\n",
       "      <td>44673850.857143</td>\n",
       "      <td>0.857143</td>\n",
       "      <td>0.785714</td>\n",
       "    </tr>\n",
       "  </tbody>\n",
       "</table>\n",
       "</div>"
      ],
      "text/plain": [
       "              budget      id release_date           revenue   runtime            title   genre  \\\n",
       "3467 80000000.000000  324852   2017-06-15 1031552585.000000 96.000000  Despicable Me 3  Action   \n",
       "\n",
       "               profit  made_money        cast_0        cast_1       cast_2            cast_3  \\\n",
       "3467 951552585.000000           1  Steve Carell  Kristen Wiig  Trey Parker  Miranda Cosgrove   \n",
       "\n",
       "          cast_4    director      writer  releases         cast_rev       cast_prof  cast_films  \\\n",
       "3467  Dana Gaier  Kyle Balda  Ken Daurio        30 131781706.260684 88278501.132479   25.000000   \n",
       "\n",
       "      cast_prof_films           dir_rev          dir_prof  dir_films  dir_prof_films  \\\n",
       "3467        21.000000 1156730962.000000 1082730962.000000   1.000000        1.000000   \n",
       "\n",
       "             writ_rev        writ_prof  writ_films  writ_prof_films  compet_cast_rev  \\\n",
       "3467 572036645.333333 495703312.000000    3.000000         3.000000 115572227.867611   \n",
       "\n",
       "      compet_cast_prof  compet_cast_films  compet_cast_prof_films  compet_dir_rev  \\\n",
       "3467   72972096.309559          29.714286               22.142857 61279580.535714   \n",
       "\n",
       "      compet_dir_prof  compet_dir_films  compet_dir_prof_films  compet_writ_rev  compet_writ_prof  \\\n",
       "3467  38011723.392857          1.214286               1.071429  71852422.285714   44673850.857143   \n",
       "\n",
       "      compet_writ_films  compet_writ_prof_films  \n",
       "3467           0.857143                0.785714  "
      ]
     },
     "execution_count": 92,
     "metadata": {},
     "output_type": "execute_result"
    }
   ],
   "source": [
    "df[df['dir_prof'] == 1082730962]"
   ]
  },
  {
   "cell_type": "code",
   "execution_count": 95,
   "metadata": {},
   "outputs": [
    {
     "name": "stdout",
     "output_type": "stream",
     "text": [
      "<class 'pandas.core.frame.DataFrame'>\n",
      "Int64Index: 3600 entries, 0 to 3798\n",
      "Data columns (total 41 columns):\n",
      "budget                    3600 non-null float64\n",
      "id                        3600 non-null int64\n",
      "release_date              3600 non-null datetime64[ns]\n",
      "revenue                   3600 non-null float64\n",
      "runtime                   3600 non-null float64\n",
      "title                     3600 non-null object\n",
      "genre                     3600 non-null object\n",
      "profit                    3600 non-null float64\n",
      "made_money                3600 non-null int64\n",
      "cast_0                    3600 non-null object\n",
      "cast_1                    3600 non-null object\n",
      "cast_2                    3600 non-null object\n",
      "cast_3                    3600 non-null object\n",
      "cast_4                    3600 non-null object\n",
      "director                  3600 non-null object\n",
      "writer                    3600 non-null object\n",
      "releases                  3600 non-null int64\n",
      "cast_rev                  3600 non-null float64\n",
      "cast_prof                 3600 non-null float64\n",
      "cast_films                3600 non-null float64\n",
      "cast_prof_films           3600 non-null float64\n",
      "dir_rev                   3600 non-null float64\n",
      "dir_prof                  3600 non-null float64\n",
      "dir_films                 3600 non-null float64\n",
      "dir_prof_films            3600 non-null float64\n",
      "writ_rev                  3600 non-null float64\n",
      "writ_prof                 3600 non-null float64\n",
      "writ_films                3600 non-null float64\n",
      "writ_prof_films           3600 non-null float64\n",
      "compet_cast_rev           3600 non-null float64\n",
      "compet_cast_prof          3600 non-null float64\n",
      "compet_cast_films         3600 non-null float64\n",
      "compet_cast_prof_films    3600 non-null float64\n",
      "compet_dir_rev            3600 non-null float64\n",
      "compet_dir_prof           3600 non-null float64\n",
      "compet_dir_films          3600 non-null float64\n",
      "compet_dir_prof_films     3600 non-null float64\n",
      "compet_writ_rev           3600 non-null float64\n",
      "compet_writ_prof          3600 non-null float64\n",
      "compet_writ_films         3600 non-null float64\n",
      "compet_writ_prof_films    3600 non-null float64\n",
      "dtypes: datetime64[ns](1), float64(28), int64(3), object(9)\n",
      "memory usage: 1.2+ MB\n"
     ]
    }
   ],
   "source": [
    "df.info()"
   ]
  },
  {
   "cell_type": "markdown",
   "metadata": {},
   "source": [
    "#### Cleaned data to csv file:"
   ]
  },
  {
   "cell_type": "code",
   "execution_count": 97,
   "metadata": {},
   "outputs": [],
   "source": [
    "# df.to_csv(path_or_buf='/home/ec2-user/clean_data_v1.csv')"
   ]
  },
  {
   "cell_type": "code",
   "execution_count": 98,
   "metadata": {},
   "outputs": [],
   "source": [
    "df.to_csv(path_or_buf='/Users/ryanrappa/Desktop/dsi/film-profit-prediction/csv_files/clean_data_v1.csv')"
   ]
  },
  {
   "cell_type": "markdown",
   "metadata": {},
   "source": [
    "### Next step: EDA"
   ]
  },
  {
   "cell_type": "code",
   "execution_count": null,
   "metadata": {},
   "outputs": [],
   "source": []
  },
  {
   "cell_type": "code",
   "execution_count": null,
   "metadata": {},
   "outputs": [],
   "source": []
  },
  {
   "cell_type": "code",
   "execution_count": null,
   "metadata": {},
   "outputs": [],
   "source": []
  },
  {
   "cell_type": "markdown",
   "metadata": {},
   "source": [
    "#### --- sandbox ---"
   ]
  },
  {
   "cell_type": "code",
   "execution_count": 66,
   "metadata": {},
   "outputs": [],
   "source": [
    "def competitors_count(df, id_col):\n",
    "    '''\n",
    "    Iterates over each film (each row)\n",
    "    and generates new columns with the average\n",
    "    revenue, profit, number of movies, and number of\n",
    "    profitable movies of the casts/crews from competing movies\n",
    "    (i.e. those released within +/- 2 weeks) have been in.\n",
    "    --------\n",
    "    INPUT\n",
    "    df: dataframe with cast columns\n",
    "    id_col: column name (str) with film id\n",
    "    '''\n",
    "    counts = []\n",
    "    for i in range(len(df)):\n",
    "        #1. getting a dataframe with competing films\n",
    "        id_ = df.at[i, id_col]\n",
    "        release_date = df.at[i, 'release_date']\n",
    "        df_to_avg = df[(df['release_date'] >= (release_date - pd.to_timedelta(14, unit='d'))) & \\\n",
    "               (df['release_date'] <= (release_date + pd.to_timedelta(14, unit='d'))) & \\\n",
    "               (df['id'] != id_)]\n",
    "        counts.append(len(df_to_avg))\n",
    "    return counts"
   ]
  },
  {
   "cell_type": "code",
   "execution_count": 67,
   "metadata": {},
   "outputs": [],
   "source": [
    "compet_counts = competitors_count(df, 'id')"
   ]
  },
  {
   "cell_type": "code",
   "execution_count": 86,
   "metadata": {},
   "outputs": [
    {
     "data": {
      "text/plain": [
       "7.0"
      ]
     },
     "execution_count": 86,
     "metadata": {},
     "output_type": "execute_result"
    }
   ],
   "source": [
    "np.median(compet_counts)"
   ]
  },
  {
   "cell_type": "code",
   "execution_count": null,
   "metadata": {},
   "outputs": [],
   "source": []
  }
 ],
 "metadata": {
  "kernelspec": {
   "display_name": "Python 3",
   "language": "python",
   "name": "python3"
  },
  "language_info": {
   "codemirror_mode": {
    "name": "ipython",
    "version": 3
   },
   "file_extension": ".py",
   "mimetype": "text/x-python",
   "name": "python",
   "nbconvert_exporter": "python",
   "pygments_lexer": "ipython3",
   "version": "3.6.8"
  }
 },
 "nbformat": 4,
 "nbformat_minor": 2
}
