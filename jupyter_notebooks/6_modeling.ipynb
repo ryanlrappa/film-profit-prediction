{
 "cells": [
  {
   "cell_type": "markdown",
   "metadata": {},
   "source": [
    "# Modeling profitability (binary classification)"
   ]
  },
  {
   "cell_type": "markdown",
   "metadata": {},
   "source": [
    "## Imports"
   ]
  },
  {
   "cell_type": "code",
   "execution_count": 54,
   "metadata": {},
   "outputs": [],
   "source": [
    "import pandas as pd \n",
    "import matplotlib.pyplot as plt \n",
    "import numpy as np\n",
    "from sklearn.linear_model import LogisticRegression\n",
    "from sklearn.ensemble import RandomForestClassifier, GradientBoostingClassifier\n",
    "from sklearn.svm import SVC\n",
    "from sklearn.preprocessing import StandardScaler\n",
    "from sklearn.model_selection import StratifiedKFold, GridSearchCV\n",
    "from sklearn.metrics import confusion_matrix, classification_report, roc_curve, roc_auc_score\n",
    "import itertools\n",
    "\n",
    "pd.set_option('display.max_rows', 100)\n",
    "pd.set_option('display.max_columns', 100)\n",
    "pd.set_option('display.width', 100)"
   ]
  },
  {
   "cell_type": "code",
   "execution_count": 2,
   "metadata": {},
   "outputs": [],
   "source": [
    "df = pd.read_csv('/Users/ryanrappa/Desktop/dsi/film-profit-prediction/csv_files/clean_data_v2.csv')"
   ]
  },
  {
   "cell_type": "markdown",
   "metadata": {},
   "source": [
    "## Add'l features: Columns for avg budget and avg \"adjusted budget\" of competing films"
   ]
  },
  {
   "cell_type": "code",
   "execution_count": 3,
   "metadata": {},
   "outputs": [],
   "source": [
    "def get_competitor_avg_budget(df, id_col):\n",
    "    '''\n",
    "    Iterates over each film (each row)\n",
    "    and generates new columns with the average\n",
    "    revenue, profit, number of movies, and number of\n",
    "    profitable movies of the casts/crews from competing movies\n",
    "    (i.e. those released within +/- 2 weeks) have been in.\n",
    "    --------\n",
    "    INPUT\n",
    "    df: dataframe with cast columns\n",
    "    id_col: column name (str) with film id\n",
    "    '''\n",
    "    df['release_date'] = pd.to_datetime(df['release_date'])\n",
    "    for i in range(len(df)):\n",
    "        #1. getting a dataframe with competing films\n",
    "        id_ = df.at[i, id_col]\n",
    "        release_date = df.at[i, 'release_date']\n",
    "        df_to_avg = df[(df['release_date'] >= (release_date - pd.to_timedelta(14, unit='d'))) & \\\n",
    "               (df['release_date'] <= (release_date + pd.to_timedelta(14, unit='d'))) & \\\n",
    "               (df['id'] != id_)]\n",
    "        \n",
    "        #2. creating new col for competing films' avg budget.\n",
    "        df.at[i, 'compet_budget'] = df_to_avg['budget'].mean()\n",
    "    \n",
    "    return df"
   ]
  },
  {
   "cell_type": "code",
   "execution_count": 4,
   "metadata": {},
   "outputs": [],
   "source": [
    "df = get_competitor_avg_budget(df, 'id')"
   ]
  },
  {
   "cell_type": "markdown",
   "metadata": {},
   "source": [
    "#### **\"Adjusted budget\"** is defined as the average of the cast + director's average box office revenue to date, minus the budget of the current film they're part of. In theory this should give us some information about whether the film's budget makes sense considering the past success of the cast and director. We already have this column pertaining to films themselves, now creating it for avg competitors' adjusted budget:"
   ]
  },
  {
   "cell_type": "code",
   "execution_count": 5,
   "metadata": {},
   "outputs": [],
   "source": [
    "df['compet_cast_dir_avg_rev'] = (df['compet_cast_rev'] + df['compet_dir_rev'])/2"
   ]
  },
  {
   "cell_type": "code",
   "execution_count": 6,
   "metadata": {},
   "outputs": [],
   "source": [
    "df['compet_adj_budget'] = df['compet_cast_dir_avg_rev'] - df['compet_budget']"
   ]
  },
  {
   "cell_type": "markdown",
   "metadata": {},
   "source": [
    "## Dropping non-numerical and unnecessary cols"
   ]
  },
  {
   "cell_type": "code",
   "execution_count": 7,
   "metadata": {},
   "outputs": [
    {
     "data": {
      "text/html": [
       "<div>\n",
       "<style scoped>\n",
       "    .dataframe tbody tr th:only-of-type {\n",
       "        vertical-align: middle;\n",
       "    }\n",
       "\n",
       "    .dataframe tbody tr th {\n",
       "        vertical-align: top;\n",
       "    }\n",
       "\n",
       "    .dataframe thead th {\n",
       "        text-align: right;\n",
       "    }\n",
       "</style>\n",
       "<table border=\"1\" class=\"dataframe\">\n",
       "  <thead>\n",
       "    <tr style=\"text-align: right;\">\n",
       "      <th></th>\n",
       "      <th>Unnamed: 0</th>\n",
       "      <th>budget</th>\n",
       "      <th>id</th>\n",
       "      <th>release_date</th>\n",
       "      <th>revenue</th>\n",
       "      <th>runtime</th>\n",
       "      <th>title</th>\n",
       "      <th>genre</th>\n",
       "      <th>profit</th>\n",
       "      <th>made_money</th>\n",
       "      <th>cast_0</th>\n",
       "      <th>cast_1</th>\n",
       "      <th>cast_2</th>\n",
       "      <th>cast_3</th>\n",
       "      <th>cast_4</th>\n",
       "      <th>director</th>\n",
       "      <th>writer</th>\n",
       "      <th>releases</th>\n",
       "      <th>cast_rev</th>\n",
       "      <th>cast_prof</th>\n",
       "      <th>cast_films</th>\n",
       "      <th>cast_prof_films</th>\n",
       "      <th>dir_rev</th>\n",
       "      <th>dir_prof</th>\n",
       "      <th>dir_films</th>\n",
       "      <th>dir_prof_films</th>\n",
       "      <th>writ_rev</th>\n",
       "      <th>writ_prof</th>\n",
       "      <th>writ_films</th>\n",
       "      <th>writ_prof_films</th>\n",
       "      <th>compet_cast_rev</th>\n",
       "      <th>compet_cast_prof</th>\n",
       "      <th>compet_cast_films</th>\n",
       "      <th>compet_cast_prof_films</th>\n",
       "      <th>compet_dir_rev</th>\n",
       "      <th>compet_dir_prof</th>\n",
       "      <th>compet_dir_films</th>\n",
       "      <th>compet_dir_prof_films</th>\n",
       "      <th>compet_writ_rev</th>\n",
       "      <th>compet_writ_prof</th>\n",
       "      <th>compet_writ_films</th>\n",
       "      <th>compet_writ_prof_films</th>\n",
       "      <th>adj_budget</th>\n",
       "      <th>cast_dir_avg_rev</th>\n",
       "      <th>month</th>\n",
       "      <th>year</th>\n",
       "      <th>decade</th>\n",
       "      <th>season</th>\n",
       "      <th>fall</th>\n",
       "      <th>spring</th>\n",
       "      <th>summer</th>\n",
       "      <th>winter</th>\n",
       "      <th>Action</th>\n",
       "      <th>Adventure</th>\n",
       "      <th>Animation</th>\n",
       "      <th>Comedy</th>\n",
       "      <th>Crime</th>\n",
       "      <th>Drama</th>\n",
       "      <th>Family</th>\n",
       "      <th>Fantasy</th>\n",
       "      <th>History</th>\n",
       "      <th>Horror</th>\n",
       "      <th>Music</th>\n",
       "      <th>Mystery</th>\n",
       "      <th>None</th>\n",
       "      <th>Romance</th>\n",
       "      <th>Science Fiction</th>\n",
       "      <th>Thriller</th>\n",
       "      <th>War</th>\n",
       "      <th>Western</th>\n",
       "      <th>compet_budget</th>\n",
       "      <th>compet_cast_dir_avg_rev</th>\n",
       "      <th>compet_adj_budget</th>\n",
       "    </tr>\n",
       "  </thead>\n",
       "  <tbody>\n",
       "    <tr>\n",
       "      <th>0</th>\n",
       "      <td>0</td>\n",
       "      <td>4000000.0</td>\n",
       "      <td>5</td>\n",
       "      <td>1995-12-09</td>\n",
       "      <td>4300000.0</td>\n",
       "      <td>98.0</td>\n",
       "      <td>Four Rooms</td>\n",
       "      <td>Crime</td>\n",
       "      <td>300000.0</td>\n",
       "      <td>1</td>\n",
       "      <td>Tim Roth</td>\n",
       "      <td>Antonio Banderas</td>\n",
       "      <td>Jennifer Beals</td>\n",
       "      <td>Madonna</td>\n",
       "      <td>Marisa Tomei</td>\n",
       "      <td>Allison Anders</td>\n",
       "      <td>Allison Anders</td>\n",
       "      <td>30</td>\n",
       "      <td>5.238649e+07</td>\n",
       "      <td>3.573649e+07</td>\n",
       "      <td>9.0</td>\n",
       "      <td>5.0</td>\n",
       "      <td>0.0</td>\n",
       "      <td>0.000000e+00</td>\n",
       "      <td>0.0</td>\n",
       "      <td>0.0</td>\n",
       "      <td>0.000000e+00</td>\n",
       "      <td>0.0</td>\n",
       "      <td>0.0</td>\n",
       "      <td>0.0</td>\n",
       "      <td>1.017498e+08</td>\n",
       "      <td>7.562609e+07</td>\n",
       "      <td>15.166667</td>\n",
       "      <td>9.333333</td>\n",
       "      <td>4.046212e+07</td>\n",
       "      <td>2.647601e+07</td>\n",
       "      <td>1.833333</td>\n",
       "      <td>1.000000</td>\n",
       "      <td>1.744469e+07</td>\n",
       "      <td>8.161356e+06</td>\n",
       "      <td>1.333333</td>\n",
       "      <td>0.500000</td>\n",
       "      <td>2.219325e+07</td>\n",
       "      <td>2.619325e+07</td>\n",
       "      <td>12</td>\n",
       "      <td>1995</td>\n",
       "      <td>1990</td>\n",
       "      <td>winter</td>\n",
       "      <td>0</td>\n",
       "      <td>0</td>\n",
       "      <td>0</td>\n",
       "      <td>1</td>\n",
       "      <td>0</td>\n",
       "      <td>0</td>\n",
       "      <td>0</td>\n",
       "      <td>0</td>\n",
       "      <td>1</td>\n",
       "      <td>0</td>\n",
       "      <td>0</td>\n",
       "      <td>0</td>\n",
       "      <td>0</td>\n",
       "      <td>0</td>\n",
       "      <td>0</td>\n",
       "      <td>0</td>\n",
       "      <td>0</td>\n",
       "      <td>0</td>\n",
       "      <td>0</td>\n",
       "      <td>0</td>\n",
       "      <td>0</td>\n",
       "      <td>0</td>\n",
       "      <td>3.500000e+07</td>\n",
       "      <td>7.110595e+07</td>\n",
       "      <td>3.610595e+07</td>\n",
       "    </tr>\n",
       "    <tr>\n",
       "      <th>1</th>\n",
       "      <td>1</td>\n",
       "      <td>11000000.0</td>\n",
       "      <td>11</td>\n",
       "      <td>1977-05-25</td>\n",
       "      <td>775398007.0</td>\n",
       "      <td>121.0</td>\n",
       "      <td>Star Wars</td>\n",
       "      <td>Adventure</td>\n",
       "      <td>764398007.0</td>\n",
       "      <td>1</td>\n",
       "      <td>Mark Hamill</td>\n",
       "      <td>Harrison Ford</td>\n",
       "      <td>Carrie Fisher</td>\n",
       "      <td>Peter Mayhew</td>\n",
       "      <td>Anthony Daniels</td>\n",
       "      <td>George Lucas</td>\n",
       "      <td>George Lucas</td>\n",
       "      <td>67</td>\n",
       "      <td>4.420000e+06</td>\n",
       "      <td>2.820000e+06</td>\n",
       "      <td>1.0</td>\n",
       "      <td>1.0</td>\n",
       "      <td>71218500.0</td>\n",
       "      <td>7.044150e+07</td>\n",
       "      <td>2.0</td>\n",
       "      <td>2.0</td>\n",
       "      <td>7.121850e+07</td>\n",
       "      <td>70441500.0</td>\n",
       "      <td>2.0</td>\n",
       "      <td>2.0</td>\n",
       "      <td>1.818402e+07</td>\n",
       "      <td>1.419652e+07</td>\n",
       "      <td>5.000000</td>\n",
       "      <td>4.000000</td>\n",
       "      <td>0.000000e+00</td>\n",
       "      <td>0.000000e+00</td>\n",
       "      <td>0.000000</td>\n",
       "      <td>0.000000</td>\n",
       "      <td>1.547333e+07</td>\n",
       "      <td>-4.526667e+06</td>\n",
       "      <td>1.000000</td>\n",
       "      <td>0.000000</td>\n",
       "      <td>2.681925e+07</td>\n",
       "      <td>3.781925e+07</td>\n",
       "      <td>5</td>\n",
       "      <td>1977</td>\n",
       "      <td>1970</td>\n",
       "      <td>summer</td>\n",
       "      <td>0</td>\n",
       "      <td>0</td>\n",
       "      <td>1</td>\n",
       "      <td>0</td>\n",
       "      <td>0</td>\n",
       "      <td>1</td>\n",
       "      <td>0</td>\n",
       "      <td>0</td>\n",
       "      <td>0</td>\n",
       "      <td>0</td>\n",
       "      <td>0</td>\n",
       "      <td>0</td>\n",
       "      <td>0</td>\n",
       "      <td>0</td>\n",
       "      <td>0</td>\n",
       "      <td>0</td>\n",
       "      <td>0</td>\n",
       "      <td>0</td>\n",
       "      <td>0</td>\n",
       "      <td>0</td>\n",
       "      <td>0</td>\n",
       "      <td>0</td>\n",
       "      <td>4.300000e+06</td>\n",
       "      <td>9.092010e+06</td>\n",
       "      <td>4.792010e+06</td>\n",
       "    </tr>\n",
       "    <tr>\n",
       "      <th>2</th>\n",
       "      <td>2</td>\n",
       "      <td>94000000.0</td>\n",
       "      <td>12</td>\n",
       "      <td>2003-05-30</td>\n",
       "      <td>940335536.0</td>\n",
       "      <td>100.0</td>\n",
       "      <td>Finding Nemo</td>\n",
       "      <td>Animation</td>\n",
       "      <td>846335536.0</td>\n",
       "      <td>1</td>\n",
       "      <td>Albert Brooks</td>\n",
       "      <td>Ellen DeGeneres</td>\n",
       "      <td>Alexander Gould</td>\n",
       "      <td>Willem Dafoe</td>\n",
       "      <td>Brad Garrett</td>\n",
       "      <td>Andrew Stanton</td>\n",
       "      <td>Andrew Stanton</td>\n",
       "      <td>62</td>\n",
       "      <td>6.991528e+07</td>\n",
       "      <td>4.389605e+07</td>\n",
       "      <td>15.0</td>\n",
       "      <td>9.0</td>\n",
       "      <td>0.0</td>\n",
       "      <td>0.000000e+00</td>\n",
       "      <td>0.0</td>\n",
       "      <td>0.0</td>\n",
       "      <td>4.744807e+08</td>\n",
       "      <td>366147328.0</td>\n",
       "      <td>3.0</td>\n",
       "      <td>3.0</td>\n",
       "      <td>7.257531e+07</td>\n",
       "      <td>3.761663e+07</td>\n",
       "      <td>13.600000</td>\n",
       "      <td>9.800000</td>\n",
       "      <td>3.538779e+07</td>\n",
       "      <td>2.266113e+07</td>\n",
       "      <td>1.400000</td>\n",
       "      <td>1.200000</td>\n",
       "      <td>3.469014e+07</td>\n",
       "      <td>2.580164e+07</td>\n",
       "      <td>0.700000</td>\n",
       "      <td>0.700000</td>\n",
       "      <td>-5.904236e+07</td>\n",
       "      <td>3.495764e+07</td>\n",
       "      <td>5</td>\n",
       "      <td>2003</td>\n",
       "      <td>2000</td>\n",
       "      <td>summer</td>\n",
       "      <td>0</td>\n",
       "      <td>0</td>\n",
       "      <td>1</td>\n",
       "      <td>0</td>\n",
       "      <td>0</td>\n",
       "      <td>0</td>\n",
       "      <td>1</td>\n",
       "      <td>0</td>\n",
       "      <td>0</td>\n",
       "      <td>0</td>\n",
       "      <td>0</td>\n",
       "      <td>0</td>\n",
       "      <td>0</td>\n",
       "      <td>0</td>\n",
       "      <td>0</td>\n",
       "      <td>0</td>\n",
       "      <td>0</td>\n",
       "      <td>0</td>\n",
       "      <td>0</td>\n",
       "      <td>0</td>\n",
       "      <td>0</td>\n",
       "      <td>0</td>\n",
       "      <td>3.516619e+07</td>\n",
       "      <td>5.398155e+07</td>\n",
       "      <td>1.881536e+07</td>\n",
       "    </tr>\n",
       "    <tr>\n",
       "      <th>3</th>\n",
       "      <td>3</td>\n",
       "      <td>55000000.0</td>\n",
       "      <td>13</td>\n",
       "      <td>1994-07-06</td>\n",
       "      <td>677945399.0</td>\n",
       "      <td>142.0</td>\n",
       "      <td>Forrest Gump</td>\n",
       "      <td>Comedy</td>\n",
       "      <td>622945399.0</td>\n",
       "      <td>1</td>\n",
       "      <td>Tom Hanks</td>\n",
       "      <td>Robin Wright</td>\n",
       "      <td>Gary Sinise</td>\n",
       "      <td>Mykelti Williamson</td>\n",
       "      <td>Sally Field</td>\n",
       "      <td>Robert Zemeckis</td>\n",
       "      <td>Eric Roth</td>\n",
       "      <td>39</td>\n",
       "      <td>5.077868e+07</td>\n",
       "      <td>3.707660e+07</td>\n",
       "      <td>14.0</td>\n",
       "      <td>12.0</td>\n",
       "      <td>192273625.0</td>\n",
       "      <td>1.551070e+08</td>\n",
       "      <td>6.0</td>\n",
       "      <td>6.0</td>\n",
       "      <td>0.000000e+00</td>\n",
       "      <td>0.0</td>\n",
       "      <td>0.0</td>\n",
       "      <td>0.0</td>\n",
       "      <td>7.807074e+07</td>\n",
       "      <td>6.059212e+07</td>\n",
       "      <td>13.142857</td>\n",
       "      <td>10.857143</td>\n",
       "      <td>4.421214e+07</td>\n",
       "      <td>3.217999e+07</td>\n",
       "      <td>1.142857</td>\n",
       "      <td>1.142857</td>\n",
       "      <td>1.145317e+08</td>\n",
       "      <td>9.707339e+07</td>\n",
       "      <td>1.571429</td>\n",
       "      <td>1.571429</td>\n",
       "      <td>6.652615e+07</td>\n",
       "      <td>1.215262e+08</td>\n",
       "      <td>7</td>\n",
       "      <td>1994</td>\n",
       "      <td>1990</td>\n",
       "      <td>summer</td>\n",
       "      <td>0</td>\n",
       "      <td>0</td>\n",
       "      <td>1</td>\n",
       "      <td>0</td>\n",
       "      <td>0</td>\n",
       "      <td>0</td>\n",
       "      <td>0</td>\n",
       "      <td>1</td>\n",
       "      <td>0</td>\n",
       "      <td>0</td>\n",
       "      <td>0</td>\n",
       "      <td>0</td>\n",
       "      <td>0</td>\n",
       "      <td>0</td>\n",
       "      <td>0</td>\n",
       "      <td>0</td>\n",
       "      <td>0</td>\n",
       "      <td>0</td>\n",
       "      <td>0</td>\n",
       "      <td>0</td>\n",
       "      <td>0</td>\n",
       "      <td>0</td>\n",
       "      <td>5.071429e+07</td>\n",
       "      <td>6.114144e+07</td>\n",
       "      <td>1.042715e+07</td>\n",
       "    </tr>\n",
       "    <tr>\n",
       "      <th>4</th>\n",
       "      <td>4</td>\n",
       "      <td>15000000.0</td>\n",
       "      <td>14</td>\n",
       "      <td>1999-09-15</td>\n",
       "      <td>356296601.0</td>\n",
       "      <td>122.0</td>\n",
       "      <td>American Beauty</td>\n",
       "      <td>Drama</td>\n",
       "      <td>341296601.0</td>\n",
       "      <td>1</td>\n",
       "      <td>Kevin Spacey</td>\n",
       "      <td>Annette Bening</td>\n",
       "      <td>Thora Birch</td>\n",
       "      <td>Wes Bentley</td>\n",
       "      <td>Mena Suvari</td>\n",
       "      <td>Sam Mendes</td>\n",
       "      <td>Alan Ball</td>\n",
       "      <td>54</td>\n",
       "      <td>5.776690e+07</td>\n",
       "      <td>2.069283e+07</td>\n",
       "      <td>16.0</td>\n",
       "      <td>12.0</td>\n",
       "      <td>0.0</td>\n",
       "      <td>0.000000e+00</td>\n",
       "      <td>0.0</td>\n",
       "      <td>0.0</td>\n",
       "      <td>0.000000e+00</td>\n",
       "      <td>0.0</td>\n",
       "      <td>0.0</td>\n",
       "      <td>0.0</td>\n",
       "      <td>6.881550e+07</td>\n",
       "      <td>4.022940e+07</td>\n",
       "      <td>11.666667</td>\n",
       "      <td>8.166667</td>\n",
       "      <td>1.988473e+07</td>\n",
       "      <td>8.995846e+06</td>\n",
       "      <td>0.500000</td>\n",
       "      <td>0.333333</td>\n",
       "      <td>7.765796e+07</td>\n",
       "      <td>6.334546e+07</td>\n",
       "      <td>0.666667</td>\n",
       "      <td>0.583333</td>\n",
       "      <td>1.388345e+07</td>\n",
       "      <td>2.888345e+07</td>\n",
       "      <td>9</td>\n",
       "      <td>1999</td>\n",
       "      <td>1990</td>\n",
       "      <td>fall</td>\n",
       "      <td>1</td>\n",
       "      <td>0</td>\n",
       "      <td>0</td>\n",
       "      <td>0</td>\n",
       "      <td>0</td>\n",
       "      <td>0</td>\n",
       "      <td>0</td>\n",
       "      <td>0</td>\n",
       "      <td>0</td>\n",
       "      <td>1</td>\n",
       "      <td>0</td>\n",
       "      <td>0</td>\n",
       "      <td>0</td>\n",
       "      <td>0</td>\n",
       "      <td>0</td>\n",
       "      <td>0</td>\n",
       "      <td>0</td>\n",
       "      <td>0</td>\n",
       "      <td>0</td>\n",
       "      <td>0</td>\n",
       "      <td>0</td>\n",
       "      <td>0</td>\n",
       "      <td>3.105000e+07</td>\n",
       "      <td>4.435012e+07</td>\n",
       "      <td>1.330012e+07</td>\n",
       "    </tr>\n",
       "  </tbody>\n",
       "</table>\n",
       "</div>"
      ],
      "text/plain": [
       "   Unnamed: 0      budget  id release_date      revenue  runtime            title      genre  \\\n",
       "0           0   4000000.0   5   1995-12-09    4300000.0     98.0       Four Rooms      Crime   \n",
       "1           1  11000000.0  11   1977-05-25  775398007.0    121.0        Star Wars  Adventure   \n",
       "2           2  94000000.0  12   2003-05-30  940335536.0    100.0     Finding Nemo  Animation   \n",
       "3           3  55000000.0  13   1994-07-06  677945399.0    142.0     Forrest Gump     Comedy   \n",
       "4           4  15000000.0  14   1999-09-15  356296601.0    122.0  American Beauty      Drama   \n",
       "\n",
       "        profit  made_money         cast_0            cast_1           cast_2              cast_3  \\\n",
       "0     300000.0           1       Tim Roth  Antonio Banderas   Jennifer Beals             Madonna   \n",
       "1  764398007.0           1    Mark Hamill     Harrison Ford    Carrie Fisher        Peter Mayhew   \n",
       "2  846335536.0           1  Albert Brooks   Ellen DeGeneres  Alexander Gould        Willem Dafoe   \n",
       "3  622945399.0           1      Tom Hanks      Robin Wright      Gary Sinise  Mykelti Williamson   \n",
       "4  341296601.0           1   Kevin Spacey    Annette Bening      Thora Birch         Wes Bentley   \n",
       "\n",
       "            cast_4         director          writer  releases      cast_rev     cast_prof  \\\n",
       "0     Marisa Tomei   Allison Anders  Allison Anders        30  5.238649e+07  3.573649e+07   \n",
       "1  Anthony Daniels     George Lucas    George Lucas        67  4.420000e+06  2.820000e+06   \n",
       "2     Brad Garrett   Andrew Stanton  Andrew Stanton        62  6.991528e+07  4.389605e+07   \n",
       "3      Sally Field  Robert Zemeckis       Eric Roth        39  5.077868e+07  3.707660e+07   \n",
       "4      Mena Suvari       Sam Mendes       Alan Ball        54  5.776690e+07  2.069283e+07   \n",
       "\n",
       "   cast_films  cast_prof_films      dir_rev      dir_prof  dir_films  dir_prof_films  \\\n",
       "0         9.0              5.0          0.0  0.000000e+00        0.0             0.0   \n",
       "1         1.0              1.0   71218500.0  7.044150e+07        2.0             2.0   \n",
       "2        15.0              9.0          0.0  0.000000e+00        0.0             0.0   \n",
       "3        14.0             12.0  192273625.0  1.551070e+08        6.0             6.0   \n",
       "4        16.0             12.0          0.0  0.000000e+00        0.0             0.0   \n",
       "\n",
       "       writ_rev    writ_prof  writ_films  writ_prof_films  compet_cast_rev  compet_cast_prof  \\\n",
       "0  0.000000e+00          0.0         0.0              0.0     1.017498e+08      7.562609e+07   \n",
       "1  7.121850e+07   70441500.0         2.0              2.0     1.818402e+07      1.419652e+07   \n",
       "2  4.744807e+08  366147328.0         3.0              3.0     7.257531e+07      3.761663e+07   \n",
       "3  0.000000e+00          0.0         0.0              0.0     7.807074e+07      6.059212e+07   \n",
       "4  0.000000e+00          0.0         0.0              0.0     6.881550e+07      4.022940e+07   \n",
       "\n",
       "   compet_cast_films  compet_cast_prof_films  compet_dir_rev  compet_dir_prof  compet_dir_films  \\\n",
       "0          15.166667                9.333333    4.046212e+07     2.647601e+07          1.833333   \n",
       "1           5.000000                4.000000    0.000000e+00     0.000000e+00          0.000000   \n",
       "2          13.600000                9.800000    3.538779e+07     2.266113e+07          1.400000   \n",
       "3          13.142857               10.857143    4.421214e+07     3.217999e+07          1.142857   \n",
       "4          11.666667                8.166667    1.988473e+07     8.995846e+06          0.500000   \n",
       "\n",
       "   compet_dir_prof_films  compet_writ_rev  compet_writ_prof  compet_writ_films  \\\n",
       "0               1.000000     1.744469e+07      8.161356e+06           1.333333   \n",
       "1               0.000000     1.547333e+07     -4.526667e+06           1.000000   \n",
       "2               1.200000     3.469014e+07      2.580164e+07           0.700000   \n",
       "3               1.142857     1.145317e+08      9.707339e+07           1.571429   \n",
       "4               0.333333     7.765796e+07      6.334546e+07           0.666667   \n",
       "\n",
       "   compet_writ_prof_films    adj_budget  cast_dir_avg_rev  month  year  decade  season  fall  \\\n",
       "0                0.500000  2.219325e+07      2.619325e+07     12  1995    1990  winter     0   \n",
       "1                0.000000  2.681925e+07      3.781925e+07      5  1977    1970  summer     0   \n",
       "2                0.700000 -5.904236e+07      3.495764e+07      5  2003    2000  summer     0   \n",
       "3                1.571429  6.652615e+07      1.215262e+08      7  1994    1990  summer     0   \n",
       "4                0.583333  1.388345e+07      2.888345e+07      9  1999    1990    fall     1   \n",
       "\n",
       "   spring  summer  winter  Action  Adventure  Animation  Comedy  Crime  Drama  Family  Fantasy  \\\n",
       "0       0       0       1       0          0          0       0      1      0       0        0   \n",
       "1       0       1       0       0          1          0       0      0      0       0        0   \n",
       "2       0       1       0       0          0          1       0      0      0       0        0   \n",
       "3       0       1       0       0          0          0       1      0      0       0        0   \n",
       "4       0       0       0       0          0          0       0      0      1       0        0   \n",
       "\n",
       "   History  Horror  Music  Mystery  None  Romance  Science Fiction  Thriller  War  Western  \\\n",
       "0        0       0      0        0     0        0                0         0    0        0   \n",
       "1        0       0      0        0     0        0                0         0    0        0   \n",
       "2        0       0      0        0     0        0                0         0    0        0   \n",
       "3        0       0      0        0     0        0                0         0    0        0   \n",
       "4        0       0      0        0     0        0                0         0    0        0   \n",
       "\n",
       "   compet_budget  compet_cast_dir_avg_rev  compet_adj_budget  \n",
       "0   3.500000e+07             7.110595e+07       3.610595e+07  \n",
       "1   4.300000e+06             9.092010e+06       4.792010e+06  \n",
       "2   3.516619e+07             5.398155e+07       1.881536e+07  \n",
       "3   5.071429e+07             6.114144e+07       1.042715e+07  \n",
       "4   3.105000e+07             4.435012e+07       1.330012e+07  "
      ]
     },
     "execution_count": 7,
     "metadata": {},
     "output_type": "execute_result"
    }
   ],
   "source": [
    "df.head()"
   ]
  },
  {
   "cell_type": "code",
   "execution_count": 8,
   "metadata": {},
   "outputs": [],
   "source": [
    "cols_X = ['budget', \n",
    "          'runtime', \n",
    "          'releases', \n",
    "          'cast_rev', \n",
    "          'cast_prof', \n",
    "          'cast_films', \n",
    "          'cast_prof_films', \n",
    "          'dir_rev',\n",
    "          'dir_prof', \n",
    "          'dir_films', \n",
    "          'dir_prof_films', \n",
    "          'writ_rev', \n",
    "          'writ_prof', \n",
    "          'writ_films', \n",
    "          'writ_prof_films', \n",
    "          'adj_budget',\n",
    "          'cast_dir_avg_rev',\n",
    "          'fall', 'spring', 'summer', 'winter',\n",
    "          'Action', 'Adventure', 'Animation', 'Comedy', 'Crime', 'Drama', 'Family', 'Fantasy', 'History', 'Horror', 'Music', 'Mystery', 'None', 'Romance', 'Science Fiction', 'Thriller', 'War', 'Western',\n",
    "          'compet_cast_rev', 'compet_cast_prof', 'compet_cast_films', 'compet_cast_prof_films', 'compet_dir_rev', 'compet_dir_prof', 'compet_dir_films', 'compet_dir_prof_films', 'compet_writ_rev', 'compet_writ_prof', 'compet_writ_films', 'compet_writ_prof_films', \n",
    "          'compet_budget',\n",
    "          'compet_adj_budget',\n",
    "          'compet_cast_dir_avg_rev',]"
   ]
  },
  {
   "cell_type": "code",
   "execution_count": 9,
   "metadata": {},
   "outputs": [],
   "source": [
    "col_y = ['made_money']"
   ]
  },
  {
   "cell_type": "code",
   "execution_count": 10,
   "metadata": {},
   "outputs": [],
   "source": [
    "X = df.loc[:, cols_X].values\n",
    "y = df.loc[:, col_y].values.ravel() \n",
    "#need to use ravel for y array to be correct shape for analysis, \n",
    "#otherwise np.mean(y_pred == y_test) does not work properly later"
   ]
  },
  {
   "cell_type": "code",
   "execution_count": 11,
   "metadata": {},
   "outputs": [
    {
     "name": "stdout",
     "output_type": "stream",
     "text": [
      "(3600, 54)\n",
      "(3600,)\n"
     ]
    }
   ],
   "source": [
    "print(X.shape)\n",
    "print(y.shape)"
   ]
  },
  {
   "cell_type": "markdown",
   "metadata": {},
   "source": [
    "## Functions to show confusion matrix"
   ]
  },
  {
   "cell_type": "markdown",
   "metadata": {},
   "source": [
    "#### source: https://www.kaggle.com/dstuerzer/optimized-logistic-regression"
   ]
  },
  {
   "cell_type": "code",
   "execution_count": 12,
   "metadata": {},
   "outputs": [],
   "source": [
    "def plot_confusion_matrix(cm, classes,\n",
    "                          normalize=False,\n",
    "                          title='Confusion matrix',\n",
    "                          cmap=plt.cm.Blues):\n",
    "    \"\"\"\n",
    "    This function prints and plots the confusion matrix.\n",
    "    Normalization can be applied by setting `normalize=True`.\n",
    "    \"\"\"\n",
    "    \n",
    "    \n",
    "    fig, ax = plt.subplots()\n",
    "    \n",
    "    plt.imshow(cm, interpolation='nearest', cmap=cmap)\n",
    "#     plt.title(title)  #my toggle\n",
    "    plt.colorbar()\n",
    "    tick_marks = np.arange(len(classes))\n",
    "    plt.xticks(tick_marks, classes, rotation=45)\n",
    "    plt.yticks(tick_marks, classes)\n",
    "\n",
    "    if normalize:\n",
    "        cm = cm.astype('float') / cm.sum(axis=1)[:, np.newaxis]\n",
    "        print(\"Normalized confusion matrix\")\n",
    "#    else:\n",
    "#        print('Confusion matrix, without normalization')\n",
    "\n",
    "#    print(cm)\n",
    "\n",
    "    thresh = cm.max() / 2.\n",
    "    for i, j in itertools.product(range(cm.shape[0]), range(cm.shape[1])):\n",
    "        plt.text(j, i, cm[i, j],\n",
    "                 horizontalalignment=\"center\",\n",
    "                 color=\"white\" if cm[i, j] > thresh else \"black\")\n",
    "\n",
    "    plt.tight_layout()\n",
    "    plt.ylabel('True label', fontsize=14)\n",
    "    ax.xaxis.tick_top()  #my addition\n",
    "    plt.xlabel('Predicted label', fontsize=14)\n",
    "    ax.xaxis.set_label_position('top')  #my addition\n",
    "    plt.show()\n",
    "\n",
    "def show_data(cm, print_res = 0):\n",
    "    tp = cm[1,1]\n",
    "    fn = cm[1,0]\n",
    "    fp = cm[0,1]\n",
    "    tn = cm[0,0]\n",
    "    if print_res == 1:\n",
    "        print('Accuracy =     {:.3f}'.format((tp+tn)/(tp+fp+tn+fn)))  #my addition\n",
    "        print('Precision =     {:.3f}'.format(tp/(tp+fp)))\n",
    "        print('Recall (TPR) =  {:.3f}'.format(tp/(tp+fn)))\n",
    "        print('Fallout (FPR) = {:.3f}'.format(fp/(fp+tn)))\n",
    "    return (tp+tn)/(tp+fp+tn+fn), tp/(tp+fp), tp/(tp+fn), fp/(fp+tn)"
   ]
  },
  {
   "cell_type": "markdown",
   "metadata": {},
   "source": [
    "## Logistic regression"
   ]
  },
  {
   "cell_type": "markdown",
   "metadata": {},
   "source": [
    "#### Data is imbalanced (has mostly profitable films), so using stratified train-test split"
   ]
  },
  {
   "cell_type": "code",
   "execution_count": 13,
   "metadata": {},
   "outputs": [],
   "source": [
    "#train-test split with scaled data - avoiding data leakage by scaling train and test sets separately\n",
    "scaler = StandardScaler()\n",
    "skf = StratifiedKFold(n_splits = 5, shuffle = True, random_state=313)\n",
    "for train_index, test_index in skf.split(X, y):\n",
    "    X_train_scaled, y_train = scaler.fit(X[train_index]).transform(X[train_index]), y[train_index]\n",
    "    X_test_scaled, y_test = scaler.fit(X[test_index]).transform(X[test_index]), y[test_index]\n",
    "    break"
   ]
  },
  {
   "cell_type": "markdown",
   "metadata": {},
   "source": [
    "#### Training the model"
   ]
  },
  {
   "cell_type": "code",
   "execution_count": 14,
   "metadata": {},
   "outputs": [
    {
     "name": "stderr",
     "output_type": "stream",
     "text": [
      "/anaconda3/lib/python3.6/site-packages/sklearn/linear_model/logistic.py:433: FutureWarning: Default solver will be changed to 'lbfgs' in 0.22. Specify a solver to silence this warning.\n",
      "  FutureWarning)\n"
     ]
    },
    {
     "data": {
      "image/png": "[encoded data removed]",
      "text/plain": [
       "<Figure size 432x288 with 2 Axes>"
      ]
     },
     "metadata": {
      "needs_background": "light"
     },
     "output_type": "display_data"
    },
    {
     "name": "stdout",
     "output_type": "stream",
     "text": [
      "Accuracy =     0.733\n",
      "Precision =     0.757\n",
      "Recall (TPR) =  0.913\n",
      "Fallout (FPR) = 0.688\n"
     ]
    }
   ],
   "source": [
    "lrn = LogisticRegression(penalty='l1')  #l1 penalty performs slightly better than l2 penalty\n",
    "\n",
    "lrn.fit(X_train_scaled, y_train)\n",
    "y_pred = lrn.predict(X_test_scaled)\n",
    "cm = confusion_matrix(y_test, y_pred)\n",
    "if lrn.classes_[0] == 1:\n",
    "    cm = np.array([[cm[1,1], cm[1,0]], [cm[0,1], cm[0,0]]])\n",
    "\n",
    "plot_confusion_matrix(cm, ['0', '1'], )\n",
    "acc, pr, tpr, fpr = show_data(cm, print_res = 1)"
   ]
  },
  {
   "cell_type": "markdown",
   "metadata": {},
   "source": [
    "#### Accuracy is the percentage of correct predictions (classifications) made by the model.\n",
    "#### Precision is the probability that a film that is classified as profitable actually made money.\n",
    "#### Recall (True Positive Rate) is the probability that a profitable film is classified as such.\n",
    "#### Fallout (False Positive Rate) is the probability that an unprofitable film is wrongly classified as profitable. **Really important to minimize fallout if we don't want to make unprofitable movies.**"
   ]
  },
  {
   "cell_type": "code",
   "execution_count": 15,
   "metadata": {},
   "outputs": [
    {
     "data": {
      "text/plain": [
       "0.7333333333333333"
      ]
     },
     "execution_count": 15,
     "metadata": {},
     "output_type": "execute_result"
    }
   ],
   "source": [
    "np.mean(y_pred == y_test) #accuracy checks out"
   ]
  },
  {
   "cell_type": "markdown",
   "metadata": {},
   "source": [
    "### Parameter tuning - looking at ROC curves & confusion matrices"
   ]
  },
  {
   "cell_type": "markdown",
   "metadata": {},
   "source": [
    "#### Functions to plot ROC. Source: https://www.kaggle.com/dstuerzer/optimized-logistic-regression"
   ]
  },
  {
   "cell_type": "code",
   "execution_count": 16,
   "metadata": {},
   "outputs": [],
   "source": [
    "def ROC(X, y, c, r):\n",
    "#makes cross_validation for given parameters c,r. Returns FPR, TPR (averaged)\n",
    "    dic_weight = {1:len(y)/(r*np.sum(y)), 0:len(y)/(len(y)-r*np.sum(y))} \n",
    "    #unfortunately this takes too long to run with l1 penalty, so looking at l2\n",
    "    lrn = LogisticRegression(penalty = 'l2', C = c, class_weight = dic_weight,\n",
    "                             solver='liblinear') #specifying default solver to avoid a zillion warnings printing\n",
    "    \n",
    "    N = 5      #how much k-fold\n",
    "    N_iter = 3    #repeat how often (taking the mean)\n",
    "    mean_tpr = 0.0\n",
    "    mean_thresh = 0.0\n",
    "    mean_fpr = np.linspace(0, 1, 50000)\n",
    "    \n",
    "\n",
    "    for it in range(N_iter):\n",
    "        skf = StratifiedKFold(n_splits = N, shuffle = True)\n",
    "        for train_index, test_index in skf.split(X, y):\n",
    "            X_train, y_train = X[train_index], y[train_index]\n",
    "            X_test, y_test = X[test_index], y[test_index]\n",
    "         \n",
    "            lrn.fit(X_train, y_train)\n",
    "            y_prob = lrn.predict_proba(X_test)[:,lrn.classes_[1]]\n",
    "            \n",
    "            fpr, tpr, thresholds = roc_curve(y_test, y_prob)\n",
    "            mean_tpr += np.interp(mean_fpr, fpr, tpr)\n",
    "            mean_thresh += np.interp(mean_fpr, fpr, thresholds)\n",
    "            mean_tpr[0] = 0.0\n",
    "\n",
    "    mean_tpr /= (N*N_iter)\n",
    "    mean_thresh /= (N*N_iter)\n",
    "    mean_tpr[-1] = 1.0\n",
    "    return mean_fpr, mean_tpr, roc_auc_score(y_test, y_prob), mean_thresh\n",
    "\n",
    "def plot_roc(X,y, list_par_1, par_1 = 'C', par_2 = 1):\n",
    "\n",
    "    f = plt.figure(figsize = (9,6));\n",
    "    for p in list_par_1:\n",
    "        if par_1 == 'C':\n",
    "            c = p\n",
    "            r = par_2\n",
    "        else:\n",
    "            r = p\n",
    "            c = par_2\n",
    "        list_FP, list_TP, AUC, mean_thresh = ROC(X, y, c, r)      \n",
    "        plt.plot(list_FP, list_TP, label = 'C = {}, r = {}, TPR(3e-4) = {:.4f}, AUC = {:.4f}'.format(c,r,list_TP[10],AUC));\n",
    "    plt.legend(title = 'values', loc='lower right')\n",
    "    plt.xlim(0, 1)   #we are only interested in small values of FPR\n",
    "    plt.ylim(0, 1)\n",
    "    plt.xlabel('FPR')\n",
    "    plt.ylabel('TPR')\n",
    "    plt.title('ROC detail')\n",
    "    desired_fpr = 0.2\n",
    "    plt.axvline(desired_fpr, color='b', linestyle='dashed', linewidth=2) #line to show where desired FPR occurs \n",
    "    plt.show()\n",
    "    plt.close()"
   ]
  },
  {
   "cell_type": "markdown",
   "metadata": {},
   "source": [
    "#### Casual/visual grid search 1: Look for optimal class_weight, 'r'"
   ]
  },
  {
   "cell_type": "code",
   "execution_count": 17,
   "metadata": {},
   "outputs": [
    {
     "data": {
      "image/png": "[encoded data removed]",
      "text/plain": [
       "<Figure size 648x432 with 1 Axes>"
      ]
     },
     "metadata": {
      "needs_background": "light"
     },
     "output_type": "display_data"
    }
   ],
   "source": [
    "plot_roc(X,y, [10, 1,.1,.01,.001], 'r', 1)\n",
    "# looks like r = 1 (default) is best overall\n",
    "# I think this makes sense because we did stratified train-test split earlier"
   ]
  },
  {
   "cell_type": "markdown",
   "metadata": {},
   "source": [
    "#### Casual/visual grid search 2: Look for optimal 'C' (inverse regularization strength)"
   ]
  },
  {
   "cell_type": "code",
   "execution_count": 18,
   "metadata": {},
   "outputs": [
    {
     "data": {
      "image/png": "[encoded data removed]",
      "text/plain": [
       "<Figure size 648x432 with 1 Axes>"
      ]
     },
     "metadata": {
      "needs_background": "light"
     },
     "output_type": "display_data"
    }
   ],
   "source": [
    "plot_roc(X,y, [0.001, 0.01, 0.1, 1, 10], 'C', 1)\n",
    "# differences are so small it hardly matters\n",
    "# running this repeatedly shows no pattern in terms of one C value standing out\n",
    "# so we'll stick with the default C = 1.0"
   ]
  },
  {
   "cell_type": "markdown",
   "metadata": {},
   "source": [
    "#### Casual/visual grid search 3: checking different decision boundaries - 60, 65, 70, 80%"
   ]
  },
  {
   "cell_type": "code",
   "execution_count": 19,
   "metadata": {},
   "outputs": [
    {
     "data": {
      "image/png": "[encoded data removed]",
      "text/plain": [
       "<Figure size 432x288 with 2 Axes>"
      ]
     },
     "metadata": {
      "needs_background": "light"
     },
     "output_type": "display_data"
    },
    {
     "name": "stdout",
     "output_type": "stream",
     "text": [
      "Accuracy =     0.724\n",
      "Precision =     0.794\n",
      "Recall (TPR) =  0.818\n",
      "Fallout (FPR) = 0.498\n"
     ]
    }
   ],
   "source": [
    "y_pred = (lrn.predict_proba(X_test_scaled)[:,1] >= 0.6).astype(bool)\n",
    "\n",
    "cm = confusion_matrix(y_test, y_pred)\n",
    "if lrn.classes_[0] == 1:\n",
    "    cm = np.array([[cm[1,1], cm[1,0]], [cm[0,1], cm[0,0]]])\n",
    "\n",
    "plot_confusion_matrix(cm, ['0', '1'], )\n",
    "acc, pr, tpr, fpr = show_data(cm, print_res = 1)"
   ]
  },
  {
   "cell_type": "code",
   "execution_count": 20,
   "metadata": {},
   "outputs": [
    {
     "data": {
      "image/png": "[encoded data removed]",
      "text/plain": [
       "<Figure size 432x288 with 2 Axes>"
      ]
     },
     "metadata": {
      "needs_background": "light"
     },
     "output_type": "display_data"
    },
    {
     "name": "stdout",
     "output_type": "stream",
     "text": [
      "Accuracy =     0.676\n",
      "Precision =     0.856\n",
      "Recall (TPR) =  0.648\n",
      "Fallout (FPR) = 0.256\n"
     ]
    }
   ],
   "source": [
    "y_pred = (lrn.predict_proba(X_test_scaled)[:,1] >= 0.7).astype(bool)\n",
    "\n",
    "cm = confusion_matrix(y_test, y_pred)\n",
    "if lrn.classes_[0] == 1:\n",
    "    cm = np.array([[cm[1,1], cm[1,0]], [cm[0,1], cm[0,0]]])\n",
    "\n",
    "plot_confusion_matrix(cm, ['0', '1'], )\n",
    "acc, pr, tpr, fpr = show_data(cm, print_res = 1)"
   ]
  },
  {
   "cell_type": "code",
   "execution_count": 21,
   "metadata": {},
   "outputs": [
    {
     "data": {
      "image/png": "[encoded data removed]",
      "text/plain": [
       "<Figure size 432x288 with 2 Axes>"
      ]
     },
     "metadata": {
      "needs_background": "light"
     },
     "output_type": "display_data"
    },
    {
     "name": "stdout",
     "output_type": "stream",
     "text": [
      "Accuracy =     0.551\n",
      "Precision =     0.910\n",
      "Recall (TPR) =  0.400\n",
      "Fallout (FPR) = 0.093\n"
     ]
    }
   ],
   "source": [
    "y_pred = (lrn.predict_proba(X_test_scaled)[:,1] >= 0.8).astype(bool)\n",
    "\n",
    "cm = confusion_matrix(y_test, y_pred)\n",
    "if lrn.classes_[0] == 1:\n",
    "    cm = np.array([[cm[1,1], cm[1,0]], [cm[0,1], cm[0,0]]])\n",
    "\n",
    "plot_confusion_matrix(cm, ['0', '1'], )\n",
    "acc, pr, tpr, fpr = show_data(cm, print_res = 1)"
   ]
  },
  {
   "cell_type": "code",
   "execution_count": 22,
   "metadata": {},
   "outputs": [
    {
     "data": {
      "image/png": "[encoded data removed]",
      "text/plain": [
       "<Figure size 432x288 with 2 Axes>"
      ]
     },
     "metadata": {
      "needs_background": "light"
     },
     "output_type": "display_data"
    },
    {
     "name": "stdout",
     "output_type": "stream",
     "text": [
      "Accuracy =     0.719\n",
      "Precision =     0.839\n",
      "Recall (TPR) =  0.743\n",
      "Fallout (FPR) = 0.335\n"
     ]
    }
   ],
   "source": [
    "y_pred = (lrn.predict_proba(X_test_scaled)[:,1] >= 0.65).astype(bool)\n",
    "\n",
    "cm = confusion_matrix(y_test, y_pred)\n",
    "if lrn.classes_[0] == 1:\n",
    "    cm = np.array([[cm[1,1], cm[1,0]], [cm[0,1], cm[0,0]]])\n",
    "\n",
    "plot_confusion_matrix(cm, ['0', '1'], )\n",
    "acc, pr, tpr, fpr = show_data(cm, print_res = 1)"
   ]
  },
  {
   "cell_type": "markdown",
   "metadata": {},
   "source": [
    "#### **Hard to say which decision boundary is optimal. We want to minimize FPR, but accuracy is getting trashed at higher thresholds. Time to try other models: SVM, RF, GB...**"
   ]
  },
  {
   "cell_type": "markdown",
   "metadata": {},
   "source": [
    "## Support Vector Classification"
   ]
  },
  {
   "cell_type": "code",
   "execution_count": 23,
   "metadata": {},
   "outputs": [
    {
     "data": {
      "image/png": "[encoded data removed]",
      "text/plain": [
       "<Figure size 432x288 with 2 Axes>"
      ]
     },
     "metadata": {
      "needs_background": "light"
     },
     "output_type": "display_data"
    },
    {
     "name": "stdout",
     "output_type": "stream",
     "text": [
      "Accuracy =     0.675\n",
      "Precision =     0.758\n",
      "Recall (TPR) =  0.788\n",
      "Fallout (FPR) = 0.591\n"
     ]
    }
   ],
   "source": [
    "svc = SVC(kernel='sigmoid')  #tried all kernels, SVC just doesn't do well for this\n",
    "\n",
    "svc.fit(X_train_scaled, y_train)\n",
    "y_pred = svc.predict(X_test_scaled)\n",
    "cm = confusion_matrix(y_test, y_pred)\n",
    "if lrn.classes_[0] == 1:\n",
    "    cm = np.array([[cm[1,1], cm[1,0]], [cm[0,1], cm[0,0]]])\n",
    "\n",
    "plot_confusion_matrix(cm, ['0', '1'], )\n",
    "acc, pr, tpr, fpr = show_data(cm, print_res = 1)"
   ]
  },
  {
   "cell_type": "markdown",
   "metadata": {},
   "source": [
    "## Random Forest (RF)"
   ]
  },
  {
   "cell_type": "code",
   "execution_count": 24,
   "metadata": {},
   "outputs": [
    {
     "name": "stderr",
     "output_type": "stream",
     "text": [
      "/anaconda3/lib/python3.6/site-packages/sklearn/ensemble/forest.py:246: FutureWarning: The default value of n_estimators will change from 10 in version 0.20 to 100 in 0.22.\n",
      "  \"10 in version 0.20 to 100 in 0.22.\", FutureWarning)\n"
     ]
    },
    {
     "data": {
      "image/png": "[encoded data removed]",
      "text/plain": [
       "<Figure size 432x288 with 2 Axes>"
      ]
     },
     "metadata": {
      "needs_background": "light"
     },
     "output_type": "display_data"
    },
    {
     "name": "stdout",
     "output_type": "stream",
     "text": [
      "Accuracy =     0.689\n",
      "Precision =     0.761\n",
      "Recall (TPR) =  0.812\n",
      "Fallout (FPR) = 0.600\n"
     ]
    }
   ],
   "source": [
    "# using scaled data (performs better):\n",
    "rf = RandomForestClassifier()\n",
    "\n",
    "rf.fit(X_train_scaled, y_train)\n",
    "y_pred = rf.predict(X_test_scaled)\n",
    "cm = confusion_matrix(y_test, y_pred)\n",
    "if lrn.classes_[0] == 1:\n",
    "    cm = np.array([[cm[1,1], cm[1,0]], [cm[0,1], cm[0,0]]])\n",
    "\n",
    "plot_confusion_matrix(cm, ['0', '1'], )\n",
    "acc, pr, tpr, fpr = show_data(cm, print_res = 1)"
   ]
  },
  {
   "cell_type": "markdown",
   "metadata": {},
   "source": [
    "## sklearn Gradient Boosting (GB)"
   ]
  },
  {
   "cell_type": "code",
   "execution_count": 25,
   "metadata": {},
   "outputs": [
    {
     "data": {
      "image/png": "[encoded data removed]",
      "text/plain": [
       "<Figure size 432x288 with 2 Axes>"
      ]
     },
     "metadata": {
      "needs_background": "light"
     },
     "output_type": "display_data"
    },
    {
     "name": "stdout",
     "output_type": "stream",
     "text": [
      "Accuracy =     0.775\n",
      "Precision =     0.798\n",
      "Recall (TPR) =  0.909\n",
      "Fallout (FPR) = 0.540\n"
     ]
    }
   ],
   "source": [
    "# using scaled data (performs slightly better):\n",
    "\n",
    "skf = StratifiedKFold(n_splits = 5, shuffle = True, random_state=313)\n",
    "for train_index, test_index in skf.split(X, y):\n",
    "    X_train, y_train = X[train_index], y[train_index]\n",
    "    X_test, y_test = X[test_index], y[test_index]\n",
    "    break\n",
    "\n",
    "gb = GradientBoostingClassifier() #\n",
    "\n",
    "gb.fit(X_train_scaled, y_train)\n",
    "y_pred = gb.predict(X_test_scaled)\n",
    "cm = confusion_matrix(y_test, y_pred)\n",
    "if lrn.classes_[0] == 1:\n",
    "    cm = np.array([[cm[1,1], cm[1,0]], [cm[0,1], cm[0,0]]])\n",
    "\n",
    "plot_confusion_matrix(cm, ['0', '1'], )\n",
    "acc, pr, tpr, fpr = show_data(cm, print_res = 1)"
   ]
  },
  {
   "cell_type": "markdown",
   "metadata": {},
   "source": [
    "#### **GB does best. RF fallout only marginally lower.**\n",
    "#### GB feature importances:"
   ]
  },
  {
   "cell_type": "code",
   "execution_count": 51,
   "metadata": {},
   "outputs": [
    {
     "name": "stdout",
     "output_type": "stream",
     "text": [
      "Feature ranking:\n",
      "1 - releases\n",
      "2 - budget\n",
      "3 - fall\n",
      "4 - adj_budget\n",
      "5 - dir_prof\n",
      "6 - compet_budget\n",
      "7 - compet_cast_films\n",
      "8 - compet_cast_dir_avg_rev\n",
      "9 - compet_writ_prof\n",
      "10 - compet_cast_rev\n",
      "11 - compet_cast_prof_films\n",
      "12 - Comedy\n",
      "13 - cast_dir_avg_rev\n",
      "14 - compet_dir_prof_films\n",
      "15 - runtime\n",
      "16 - writ_prof\n",
      "17 - cast_films\n",
      "18 - compet_adj_budget\n",
      "19 - compet_dir_prof\n",
      "20 - cast_prof_films\n",
      "21 - cast_prof\n",
      "22 - compet_cast_prof\n",
      "23 - compet_dir_films\n",
      "24 - cast_rev\n",
      "25 - dir_rev\n",
      "26 - compet_writ_prof_films\n"
     ]
    },
    {
     "data": {
      "image/png": "[encoded data removed]",
      "text/plain": [
       "<Figure size 864x216 with 1 Axes>"
      ]
     },
     "metadata": {
      "needs_background": "light"
     },
     "output_type": "display_data"
    }
   ],
   "source": [
    "importances = gb.feature_importances_\n",
    "indices = np.argsort(importances)[::-1]\n",
    "\n",
    "# Print the feature ranking\n",
    "print(\"Feature ranking:\")\n",
    "\n",
    "feat_imp_idxs = []\n",
    "for f in range(X.shape[1]):\n",
    "#     print(\"%d. feature %d (%f)\" % (f + 1, indices[f], importances[indices[f]]))\n",
    "    feat_imp_idxs.append(indices[f])\n",
    "    if importances[indices[f]] < 0.01:\n",
    "        break\n",
    "        \n",
    "count = 0\n",
    "for i in feat_imp_idxs:\n",
    "    count += 1\n",
    "    print(count, \"-\", list(df.loc[:, cols_X])[i])\n",
    "\n",
    "# Plot the feature importances of the forest\n",
    "plt.figure(figsize=(12,3))\n",
    "plt.title(\"Feature importances\")\n",
    "plt.bar(range(X.shape[1]), importances[indices],\n",
    "       color=\"r\", align=\"center\")\n",
    "plt.xticks(range(X.shape[1]), indices)\n",
    "plt.xlim([-1, X.shape[1]])\n",
    "plt.show()"
   ]
  },
  {
   "cell_type": "markdown",
   "metadata": {},
   "source": [
    "## GB parameter tuning"
   ]
  },
  {
   "cell_type": "code",
   "execution_count": 56,
   "metadata": {},
   "outputs": [],
   "source": [
    "parameters = {\n",
    "    \"learning_rate\": [0.01, 0.025, 0.05, 0.075, 0.1, 0.15, 0.2],\n",
    "    \"min_samples_split\": np.linspace(0.1, 0.5, 12),\n",
    "    \"min_samples_leaf\": np.linspace(0.1, 0.5, 12),\n",
    "    \"max_depth\":[3,5,8],\n",
    "    \"max_features\":[\"log2\",\"sqrt\"],\n",
    "    \"criterion\": [\"friedman_mse\",  \"mae\"],\n",
    "    \"subsample\":[0.5, 0.618, 0.8, 0.85, 0.9, 0.95, 1.0],\n",
    "    \"n_estimators\":[10, 100]\n",
    "    }"
   ]
  },
  {
   "cell_type": "code",
   "execution_count": 57,
   "metadata": {},
   "outputs": [],
   "source": [
    "clf = GridSearchCV(GradientBoostingClassifier(), parameters, cv=10, n_jobs=-1)"
   ]
  },
  {
   "cell_type": "code",
   "execution_count": null,
   "metadata": {},
   "outputs": [],
   "source": [
    "clf.fit(X_train_scaled, y_train)"
   ]
  },
  {
   "cell_type": "code",
   "execution_count": null,
   "metadata": {},
   "outputs": [],
   "source": [
    "## next step: pickle this model\n",
    "## then: https://www.kaggle.com/hatone/gradientboostingclassifier-with-gridsearchcv"
   ]
  },
  {
   "cell_type": "code",
   "execution_count": null,
   "metadata": {},
   "outputs": [],
   "source": []
  },
  {
   "cell_type": "code",
   "execution_count": 52,
   "metadata": {},
   "outputs": [],
   "source": [
    "## final step: try different decision boundaries with tuned GB"
   ]
  },
  {
   "cell_type": "code",
   "execution_count": null,
   "metadata": {},
   "outputs": [],
   "source": []
  }
 ],
 "metadata": {
  "kernelspec": {
   "display_name": "Python 3",
   "language": "python",
   "name": "python3"
  },
  "language_info": {
   "codemirror_mode": {
    "name": "ipython",
    "version": 3
   },
   "file_extension": ".py",
   "mimetype": "text/x-python",
   "name": "python",
   "nbconvert_exporter": "python",
   "pygments_lexer": "ipython3",
   "version": "3.6.8"
  }
 },
 "nbformat": 4,
 "nbformat_minor": 2
}
