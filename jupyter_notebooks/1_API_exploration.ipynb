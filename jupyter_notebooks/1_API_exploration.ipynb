{
 "cells": [
  {
   "cell_type": "markdown",
   "metadata": {},
   "source": [
    "# Exploring the API"
   ]
  },
  {
   "cell_type": "code",
   "execution_count": 1,
   "metadata": {},
   "outputs": [],
   "source": [
    "import numpy as np\n",
    "import pandas as pd\n",
    "pd.set_option('display.max_rows', 500)\n",
    "pd.set_option('display.max_columns', 500)\n",
    "pd.set_option('display.width', 1000)\n",
    "\n",
    "import tmdbsimple as tmdb\n",
    "tmdb.API_KEY =  #redacted"
   ]
  },
  {
   "cell_type": "code",
   "execution_count": 2,
   "metadata": {},
   "outputs": [],
   "source": [
    "mov = tmdb.Movies().latest()  #info on latest movie added to tmdb"
   ]
  },
  {
   "cell_type": "code",
   "execution_count": 3,
   "metadata": {},
   "outputs": [
    {
     "data": {
      "text/plain": [
       "592467"
      ]
     },
     "execution_count": 3,
     "metadata": {},
     "output_type": "execute_result"
    }
   ],
   "source": [
    "mov['id']  #latest (highest) film id number"
   ]
  },
  {
   "cell_type": "code",
   "execution_count": 4,
   "metadata": {},
   "outputs": [],
   "source": [
    "# lists that can be turned into pandas dataframes\n",
    "\n",
    "info = [tmdb.Movies(i).info() for i in [550,807, 16869]]\n",
    "credits = [tmdb.Movies(i).credits() for i in [550,807, 16869]]\n",
    "releases = [tmdb.Movies(i).releases() for i in [550,807, 16869]]\n",
    "### do I care about keywords? maybe save for later if there is time\n",
    "# keywords = [tmdb.Movies(i).keywords for i in [550,807, 16869]]"
   ]
  },
  {
   "cell_type": "code",
   "execution_count": 5,
   "metadata": {},
   "outputs": [],
   "source": [
    "info[0];"
   ]
  },
  {
   "cell_type": "code",
   "execution_count": 13,
   "metadata": {},
   "outputs": [],
   "source": [
    "df = pd.DataFrame(credits)  # converting one of the above lists a dataframe"
   ]
  },
  {
   "cell_type": "code",
   "execution_count": 14,
   "metadata": {},
   "outputs": [
    {
     "data": {
      "text/html": [
       "<div>\n",
       "<style scoped>\n",
       "    .dataframe tbody tr th:only-of-type {\n",
       "        vertical-align: middle;\n",
       "    }\n",
       "\n",
       "    .dataframe tbody tr th {\n",
       "        vertical-align: top;\n",
       "    }\n",
       "\n",
       "    .dataframe thead th {\n",
       "        text-align: right;\n",
       "    }\n",
       "</style>\n",
       "<table border=\"1\" class=\"dataframe\">\n",
       "  <thead>\n",
       "    <tr style=\"text-align: right;\">\n",
       "      <th></th>\n",
       "      <th>cast</th>\n",
       "      <th>crew</th>\n",
       "      <th>id</th>\n",
       "    </tr>\n",
       "  </thead>\n",
       "  <tbody>\n",
       "    <tr>\n",
       "      <th>0</th>\n",
       "      <td>[{'cast_id': 4, 'character': 'The Narrator', '...</td>\n",
       "      <td>[{'credit_id': '52fe4250c3a36847f8014a05', 'de...</td>\n",
       "      <td>550</td>\n",
       "    </tr>\n",
       "    <tr>\n",
       "      <th>1</th>\n",
       "      <td>[{'cast_id': 17, 'character': 'Detective David...</td>\n",
       "      <td>[{'credit_id': '52fe4279c3a36847f8021739', 'de...</td>\n",
       "      <td>807</td>\n",
       "    </tr>\n",
       "    <tr>\n",
       "      <th>2</th>\n",
       "      <td>[{'cast_id': 3, 'character': 'First Lieutenant...</td>\n",
       "      <td>[{'credit_id': '52fe46f29251416c75088c65', 'de...</td>\n",
       "      <td>16869</td>\n",
       "    </tr>\n",
       "  </tbody>\n",
       "</table>\n",
       "</div>"
      ],
      "text/plain": [
       "                                                cast                                               crew     id\n",
       "0  [{'cast_id': 4, 'character': 'The Narrator', '...  [{'credit_id': '52fe4250c3a36847f8014a05', 'de...    550\n",
       "1  [{'cast_id': 17, 'character': 'Detective David...  [{'credit_id': '52fe4279c3a36847f8021739', 'de...    807\n",
       "2  [{'cast_id': 3, 'character': 'First Lieutenant...  [{'credit_id': '52fe46f29251416c75088c65', 'de...  16869"
      ]
     },
     "execution_count": 14,
     "metadata": {},
     "output_type": "execute_result"
    }
   ],
   "source": [
    "df.head()"
   ]
  },
  {
   "cell_type": "code",
   "execution_count": 25,
   "metadata": {},
   "outputs": [],
   "source": [
    "list(df.loc[2:3, 'crew']);"
   ]
  },
  {
   "cell_type": "code",
   "execution_count": 24,
   "metadata": {},
   "outputs": [
    {
     "name": "stdout",
     "output_type": "stream",
     "text": [
      "Green Book   490132   2018-11-16\n",
      "The Green Book: Guide to Freedom   581012   2019-02-25\n"
     ]
    }
   ],
   "source": [
    "search = tmdb.Search()\n",
    "response = search.movie(query='Green Book')\n",
    "for s in search.results:\n",
    "    print(s['title'], \" \", s['id'], \" \", s['release_date'])\n",
    "    \n",
    "# After running this query on several very recent movies,\n",
    "# it looks like I should pull data up to about id 500,000"
   ]
  },
  {
   "cell_type": "code",
   "execution_count": 13,
   "metadata": {},
   "outputs": [],
   "source": [
    "## testing try-except for api calls\n",
    "\n",
    "inf = []\n",
    "releases_and_keywords = []\n",
    "for i in range(343617, 343637):  #testing: 343618 does not correspond to a movie\n",
    "    try:\n",
    "        inf.append(tmdb.Movies(i).info())\n",
    "    except:\n",
    "        continue"
   ]
  },
  {
   "cell_type": "code",
   "execution_count": null,
   "metadata": {},
   "outputs": [],
   "source": []
  }
 ],
 "metadata": {
  "kernelspec": {
   "display_name": "Python 3",
   "language": "python",
   "name": "python3"
  },
  "language_info": {
   "codemirror_mode": {
    "name": "ipython",
    "version": 3
   },
   "file_extension": ".py",
   "mimetype": "text/x-python",
   "name": "python",
   "nbconvert_exporter": "python",
   "pygments_lexer": "ipython3",
   "version": "3.6.8"
  }
 },
 "nbformat": 4,
 "nbformat_minor": 2
}
