{
 "cells": [
  {
   "cell_type": "markdown",
   "metadata": {},
   "source": [
    "# Collecting the data"
   ]
  },
  {
   "cell_type": "markdown",
   "metadata": {},
   "source": [
    "## Imports"
   ]
  },
  {
   "cell_type": "code",
   "execution_count": 3,
   "metadata": {},
   "outputs": [],
   "source": [
    "import csv\n",
    "import numpy as np\n",
    "import pandas as pd\n",
    "from time import sleep\n",
    "import tmdbsimple as tmdb  #TMDb API wrapper\n",
    "tmdb.API_KEY = '3a551dd786dfaa4c4adaedd297662d47'  #redacted"
   ]
  },
  {
   "cell_type": "markdown",
   "metadata": {},
   "source": [
    "## Saving data from API to csv"
   ]
  },
  {
   "cell_type": "markdown",
   "metadata": {},
   "source": [
    "#### Previous exploration showed that almost all movies w/ data are between id 1 and 350,000, so want to collect data up through movie id 350,000, which I'll do on AWS EC2s. (Using try/except because there are gaps in TMDb's ids.)"
   ]
  },
  {
   "cell_type": "code",
   "execution_count": 16,
   "metadata": {},
   "outputs": [],
   "source": [
    "with open('csv/info_10k.csv', 'w') as f:\n",
    "    for i in range(0, 10000):\n",
    "        try:\n",
    "            my_dict = tmdb.Movies(i).info()\n",
    "            w = csv.DictWriter(f, my_dict.keys())\n",
    "            w.writerow(my_dict)\n",
    "        except:\n",
    "            continue\n",
    "        sleep(0.25)\n",
    "    w.writeheader()"
   ]
  },
  {
   "cell_type": "code",
   "execution_count": 17,
   "metadata": {},
   "outputs": [],
   "source": [
    "with open('csv/credits_10k.csv', 'w') as f:\n",
    "    for i in range(0, 10000):\n",
    "        try:\n",
    "            my_dict = tmdb.Movies(i).credits()\n",
    "            w = csv.DictWriter(f, my_dict.keys())\n",
    "            w.writerow(my_dict)\n",
    "        except:\n",
    "            continue\n",
    "        sleep(0.25)\n",
    "    w.writeheader()"
   ]
  },
  {
   "cell_type": "code",
   "execution_count": 18,
   "metadata": {},
   "outputs": [],
   "source": [
    "with open('csv/releases_10k.csv', 'w') as f:\n",
    "    for i in range(0, 10000):\n",
    "        try:\n",
    "            my_dict = tmdb.Movies(i).releases()\n",
    "            w = csv.DictWriter(f, my_dict.keys())\n",
    "            w.writerow(my_dict)\n",
    "        except:\n",
    "            continue\n",
    "        sleep(0.25)\n",
    "    w.writeheader()"
   ]
  },
  {
   "cell_type": "code",
   "execution_count": null,
   "metadata": {},
   "outputs": [],
   "source": [
    "# try edit with header outside for loop to get header at top of csv???"
   ]
  }
 ],
 "metadata": {
  "kernelspec": {
   "display_name": "Python 3",
   "language": "python",
   "name": "python3"
  },
  "language_info": {
   "codemirror_mode": {
    "name": "ipython",
    "version": 3
   },
   "file_extension": ".py",
   "mimetype": "text/x-python",
   "name": "python",
   "nbconvert_exporter": "python",
   "pygments_lexer": "ipython3",
   "version": "3.6.8"
  }
 },
 "nbformat": 4,
 "nbformat_minor": 2
}
