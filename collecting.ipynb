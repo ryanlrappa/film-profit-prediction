{
 "cells": [
  {
   "cell_type": "markdown",
   "metadata": {},
   "source": [
    "# Collecting the data"
   ]
  },
  {
   "cell_type": "markdown",
   "metadata": {},
   "source": [
    "## Import the API wrapper"
   ]
  },
  {
   "cell_type": "code",
   "execution_count": 3,
   "metadata": {},
   "outputs": [],
   "source": [
    "import csv\n",
    "import numpy as np\n",
    "import pandas as pd\n",
    "from time import sleep\n",
    "import tmdbsimple as tmdb\n",
    "tmdb.API_KEY = '3a551dd786dfaa4c4adaedd297662d47'  #redact this"
   ]
  },
  {
   "cell_type": "markdown",
   "metadata": {},
   "source": [
    "## API call --> list --> dataframe"
   ]
  },
  {
   "cell_type": "code",
   "execution_count": 4,
   "metadata": {},
   "outputs": [],
   "source": [
    "# Initial exploration showed that almost all movies w/ data are btw id 1 and 350,000\n",
    "# So want to collect data up through movie id 350,000\n",
    "# Using try/except because there are gaps in TMDb's ids"
   ]
  },
  {
   "cell_type": "code",
   "execution_count": 15,
   "metadata": {},
   "outputs": [],
   "source": [
    "with open('csv/info_10k.csv', 'w') as f:\n",
    "    for i in range(0, 10000):\n",
    "        try:\n",
    "            my_dict = tmdb.Movies(i).info()\n",
    "            w = csv.DictWriter(f, my_dict.keys())\n",
    "            w.writerow(my_dict)\n",
    "        except:\n",
    "            continue\n",
    "        sleep(0.25)\n",
    "    w.writeheader()"
   ]
  },
  {
   "cell_type": "code",
   "execution_count": null,
   "metadata": {},
   "outputs": [],
   "source": [
    "with open('csv/credits_10k.csv', 'w') as f:\n",
    "    for i in range(0, 10000):\n",
    "        try:\n",
    "            my_dict = tmdb.Movies(i).credits()\n",
    "            w = csv.DictWriter(f, my_dict.keys())\n",
    "            w.writerow(my_dict)\n",
    "        except:\n",
    "            continue\n",
    "        sleep(0.25)\n",
    "    w.writeheader()"
   ]
  },
  {
   "cell_type": "code",
   "execution_count": null,
   "metadata": {},
   "outputs": [],
   "source": [
    "with open('csv/releases_10k.csv', 'w') as f:\n",
    "    for i in range(0, 10000):\n",
    "        try:\n",
    "            my_dict = tmdb.Movies(i).releases()\n",
    "            w = csv.DictWriter(f, my_dict.keys())\n",
    "            w.writerow(my_dict)\n",
    "        except:\n",
    "            continue\n",
    "        sleep(0.25)\n",
    "    w.writeheader()"
   ]
  }
 ],
 "metadata": {
  "kernelspec": {
   "display_name": "Python 3",
   "language": "python",
   "name": "python3"
  },
  "language_info": {
   "codemirror_mode": {
    "name": "ipython",
    "version": 3
   },
   "file_extension": ".py",
   "mimetype": "text/x-python",
   "name": "python",
   "nbconvert_exporter": "python",
   "pygments_lexer": "ipython3",
   "version": "3.6.8"
  }
 },
 "nbformat": 4,
 "nbformat_minor": 2
}
