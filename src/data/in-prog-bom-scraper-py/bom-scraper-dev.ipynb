{
 "cells": [
  {
   "cell_type": "code",
   "execution_count": 2,
   "metadata": {},
   "outputs": [],
   "source": [
    "from bs4 import BeautifulSoup\n",
    "import urllib3\n",
    "import csv\n",
    "import re\n",
    "import warnings\n",
    "warnings.filterwarnings('ignore')"
   ]
  },
  {
   "cell_type": "code",
   "execution_count": 3,
   "metadata": {},
   "outputs": [],
   "source": [
    "http = urllib3.PoolManager()\n",
    "\n",
    "current_url='http://www.boxofficemojo.com/movies/alphabetical.htm?letter=NUM&p=.html' # starting point for search, can be any letter\n",
    "movie_links=[]#initialize as an empty list\n",
    "\n",
    "r = http.request('GET', current_url)\n",
    "soup = BeautifulSoup(r.data)\t#generate list of links for the letter indices\n",
    "\n",
    "letters = soup.findAll('a', href=re.compile('letter='))\n",
    "letter_index=[] #intialize as an empty list\n",
    "for t in letters:\n",
    "\tletter_index.append(\"http://www.boxofficemojo.com\" + t['href'])\n",
    "\n",
    "for i in range(0,27): #loop through all letter indices for movies\n",
    "\tcurrent_url=letter_index[i]\n",
    "\n",
    "\tr = http.request('GET', current_url)\n",
    "\tsoup = BeautifulSoup(r.data)\n",
    "\n",
    "\tnavbar=soup.find('div', 'alpha-nav-holder')\n",
    "\tpages = navbar.findAll('a', href= re.compile('alphabetical'))\n",
    "\tpage_list=[] # page_list is reset for each letter index\n",
    "\n",
    "\tfor t in pages:\n",
    "\t\tpage_list.append(\"http://www.boxofficemojo.com\" + t['href'])\n",
    "\n",
    "\n",
    "\tmovietable=soup.find('div',{'id':'main'})\n",
    "\tmovies = movietable.findAll('a', href= re.compile('id='))\n",
    "\tfor t in movies:\n",
    "\t\tmovie_links.append(\"http://www.boxofficemojo.com\" + t['href'])\n",
    "\n",
    "\tif pages != None: #this only runs if there is a 2nd page for this letter\t\t\t\t\n",
    "\t\ti=0\t#page list starts at 2 (consequence of page layout)\n",
    "\t\twhile i<len(page_list): #loop over multiple pages for each letter index\n",
    "\t\t\tcurrent_url=page_list[i] \n",
    "\n",
    "\t\t\tr = http.request('GET', current_url)\n",
    "\t\t\tsoup = BeautifulSoup(r.data)\n",
    "\t\t\t\n",
    "\t\t\tmovietable=soup.find('div',{'id':'main'})\n",
    "\t\t\tmovies = movietable.findAll('a', href= re.compile('id='))\n",
    "\t\t\tfor t in movies:\n",
    "\t\t\t\tmovie_links.append(\"http://www.boxofficemojo.com\" + t['href'])\n",
    "\t\t\ti+=1"
   ]
  },
  {
   "cell_type": "code",
   "execution_count": 4,
   "metadata": {},
   "outputs": [
    {
     "data": {
      "text/plain": [
       "19283"
      ]
     },
     "execution_count": 4,
     "metadata": {},
     "output_type": "execute_result"
    }
   ],
   "source": [
    "len(movie_links)"
   ]
  },
  {
   "cell_type": "code",
   "execution_count": 5,
   "metadata": {},
   "outputs": [
    {
     "data": {
      "text/plain": [
       "'http://www.boxofficemojo.com/movies/?id=mazerunner.htm'"
      ]
     },
     "execution_count": 5,
     "metadata": {},
     "output_type": "execute_result"
    }
   ],
   "source": [
    "movie_links[11000]"
   ]
  },
  {
   "cell_type": "code",
   "execution_count": null,
   "metadata": {},
   "outputs": [],
   "source": []
  },
  {
   "cell_type": "code",
   "execution_count": 9,
   "metadata": {},
   "outputs": [],
   "source": [
    "http = urllib3.PoolManager()\n",
    "\n",
    "url=movie_links[11000] # starting point for search, can be any letter\n",
    "\n",
    "r = http.request('GET', url)\n",
    "soup = BeautifulSoup(r.data)"
   ]
  },
  {
   "cell_type": "code",
   "execution_count": 10,
   "metadata": {},
   "outputs": [],
   "source": [
    "all_bs=soup.findAll('b')"
   ]
  },
  {
   "cell_type": "code",
   "execution_count": 14,
   "metadata": {},
   "outputs": [],
   "source": [
    "b_list=[] #lots of the information we want is in bold, and appears in the same order on each page\n",
    "for t in all_bs:\n",
    "    byte = t.encode_contents()\n",
    "    string = byte.decode(\"utf-8\")\n",
    "    b_list.append(string)"
   ]
  },
  {
   "cell_type": "code",
   "execution_count": 15,
   "metadata": {},
   "outputs": [
    {
     "data": {
      "text/plain": [
       "['Adjuster:',\n",
       " 'The Maze Runner',\n",
       " '$102,427,862',\n",
       " '<a href=\"/studio/chart/?studio=fox.htm\">Fox</a>',\n",
       " '<nobr><a href=\"/schedule/?view=bydate&amp;release=theatrical&amp;date=2014-09-19&amp;p=.htm\">September 19, 2014</a></nobr>',\n",
       " 'Sci-Fi Thriller',\n",
       " '1 hrs. 53 min.',\n",
       " 'PG-13',\n",
       " '$34 million',\n",
       " 'Domestic:',\n",
       " '$102,427,862',\n",
       " '29.4%',\n",
       " 'Worldwide:',\n",
       " '$348,319,861',\n",
       " '&gt; View All 20 Weekends',\n",
       " 'Series: Maze Runner',\n",
       " '1',\n",
       " \"Showdown: 'Ender's Game' Vs. 'Percy Jackson' Vs. 'The Maze Runner'\",\n",
       " '1',\n",
       " \"Showdown: 'Maze Runner' Showdown\",\n",
       " '1',\n",
       " 'Chart',\n",
       " 'Rank',\n",
       " 'Charts (Premier Pass Users Only)',\n",
       " 'Rank']"
      ]
     },
     "execution_count": 15,
     "metadata": {},
     "output_type": "execute_result"
    }
   ],
   "source": [
    "b_list"
   ]
  },
  {
   "cell_type": "code",
   "execution_count": 16,
   "metadata": {},
   "outputs": [
    {
     "data": {
      "text/plain": [
       "25"
      ]
     },
     "execution_count": 16,
     "metadata": {},
     "output_type": "execute_result"
    }
   ],
   "source": [
    "len(b_list)"
   ]
  },
  {
   "cell_type": "code",
   "execution_count": null,
   "metadata": {},
   "outputs": [],
   "source": []
  },
  {
   "cell_type": "code",
   "execution_count": null,
   "metadata": {},
   "outputs": [],
   "source": []
  },
  {
   "cell_type": "code",
   "execution_count": 20,
   "metadata": {},
   "outputs": [
    {
     "data": {
      "text/plain": [
       "[<a href=\"/people/chart/?view=Director&amp;id=wesball.htm\">Wes Ball</a>]"
      ]
     },
     "execution_count": 20,
     "metadata": {},
     "output_type": "execute_result"
    }
   ],
   "source": [
    "soup.findAll('a', href= re.compile('Director&id'))"
   ]
  },
  {
   "cell_type": "code",
   "execution_count": null,
   "metadata": {},
   "outputs": [],
   "source": [
    "with open(\"box-office-mojo-full.csv\", \"w\") as f:\n",
    "\tfieldnames = (\"title\",\"director1\",\"director2\",\"domestic\", \"distributor\",\"release\",\"genre\",\"runtime\",\"rating\",\"budget\",\"worldwide\",\"actor1\",\"actor2\",\"actor3\",\"actor4\",\"actor5\",\"actor6\",\"producer1\",\"producer2\",\"producer3\",\"producer4\",\"producer5\",\"producer6\",\"writer1\",\"writer2\",\"composer1\",\"composer2\")#can add foreign release dates/boxoffice, review data, award data, trope data from other sites eventually\n",
    "\toutput = csv.writer(f, delimiter=\",\")\n",
    "\toutput.writerow(fieldnames)\n",
    "\n",
    "\tfor url in movie_links[11000:11004]:\n",
    "\t\tif \"elizabeth\" in url and \"elizabethtown\" not in url: #fixes an annoying encoding error in an inelegent way\n",
    "\t\t\turl='http://www.boxofficemojo.com/movies/?id=elizabeth%A0.htm'\n",
    "\t\tif \"simpleplan\" in url:\n",
    "\t\t\turl='http://www.boxofficemojo.com/movies/?id=simpleplan%A0.htm'\n",
    "\t\t#print(url)\n",
    "\t\t#time.sleep(0.1)\n",
    "\t\t#current_url = (url + \"&adjust_yr=2015&p=.htm\")  #converts gross to 2015 dollars (not doing this b/c it doesn't adjust budget)\n",
    "\t\n",
    "\t\tr = http.request('GET', url) #### <-was previously 'current_url', why?\n",
    "\t\tsoup = BeautifulSoup(r.data) ####\n",
    "\n",
    "\t\tdirectors=soup.findAll('a', href= re.compile('Director&id'))\n",
    "\t\tdirector_list=[]\n",
    "\t\tfor t in directors:\n",
    "\t\t\tdirector_list.append(t.encode_contents())\n",
    "\t\tfor i in range(0,2):\n",
    "\t\t\tif i>=len(director_list):\n",
    "\t\t\t\tdirector_list.append('N/A')#fill rest of list\n",
    "\t\tdirector1=director_list[0]\n",
    "\t\tdirector2=director_list[1]\n",
    "\n",
    "\t\twriters=soup.findAll('a', href= re.compile('Writer&id'))\n",
    "\t\twriter_list=[]\n",
    "\t\tfor t in writers:\n",
    "\t\t\twriter_list.append(t.encode_contents())\n",
    "\t\tfor i in range(0,2):\n",
    "\t\t\tif i>=len(writer_list):\n",
    "\t\t\t\twriter_list.append('N/A')\n",
    "\t\twriter1=writer_list[0]\n",
    "\t\twriter2=writer_list[1]\n",
    "\n",
    "\t\tcomposers=soup.findAll('a', href= re.compile('Composer&id'))\n",
    "\t\tcomposer_list=[]\n",
    "\t\tfor t in composers:\n",
    "\t\t\tcomposer_list.append(t.encode_contents())\n",
    "\t\tfor i in range(0,2):\n",
    "\t\t\tif i>=len(composer_list):\n",
    "\t\t\t\tcomposer_list.append('N/A')\n",
    "\t\tcomposer1=composer_list[0]\n",
    "\t\tcomposer2=composer_list[1]\n",
    "\n",
    "\t\tactors=soup.findAll('a', href= re.compile('Actor&id'))\n",
    "\t\tactor_list=[]\n",
    "\t\tfor t in actors:\n",
    "\t\t\tactor_list.append(t.encode_contents())\n",
    "\t\tfor i in range(0,6):\n",
    "\t\t\tif i>=len(actor_list):\n",
    "\t\t\t\tactor_list.append('N/A')\n",
    "\t\tactor1=actor_list[0]\n",
    "\t\tactor2=actor_list[1]\n",
    "\t\tactor3=actor_list[2]\n",
    "\t\tactor4=actor_list[3]\n",
    "\t\tactor5=actor_list[4]\n",
    "\t\tactor6=actor_list[5]\n",
    "\t\n",
    "\t\tproducers=soup.findAll('a', href= re.compile('Producer&id'))\n",
    "\t\tproducer_list=[]\n",
    "\t\tfor t in producers:\n",
    "\t\t\tproducer_list.append(t.encode_contents())\n",
    "\t\tfor i in range(0,6):\n",
    "\t\t\tif i>=len(producer_list):\n",
    "\t\t\t\tproducer_list.append('N/A')\n",
    "\t\tproducer1=producer_list[0]\n",
    "\t\tproducer2=producer_list[1]\n",
    "\t\tproducer3=producer_list[2]\n",
    "\t\tproducer4=producer_list[3]\n",
    "\t\tproducer5=producer_list[4]\n",
    "\t\tproducer6=producer_list[5]\n",
    "\t\n",
    "\n",
    "\t\tall_bs=soup.findAll('b')\n",
    "\t\tb_list=[] #lots of the information we want is in bold, and appears in the same order on each page\n",
    "\t\t\n",
    "        for t in all_bs:\n",
    "            byte = t.encode_contents()\n",
    "            string = byte.decode(\"utf-8\")\n",
    "            if 'Domestic Lifetime' not in string: #want to ignore the lifetime box office\n",
    "                b_list.append(string)\n",
    "                \n",
    "\t\tif len(b_list)>=10:#avoids bad entries with no box office data\n",
    "\t\t\tif '$' in b_list[2] or 'n/a' in b_list[10]:#avoid movies w/o box office data, or unadjustable box office data, if not caught above\n",
    "\t\t\t\tif 'n/a' in b_list[10]:#has a foreign release only, order is shifted\n",
    "\t\t\t\t\ttitle=b_list[1]\n",
    "\t\t\t\t\tdomestic='N/A'\n",
    "\t\t\t\t\tif 'N/A' not in b_list[2]:\n",
    "\t\t\t\t\t\tdistributor=b_list[2].split('>')[1].split('<')[0]\n",
    "\t\t\t\t\telse:\n",
    "\t\t\t\t\t\tdistributor=b_list[2]\n",
    "\t\t\t\t\tif len(b_list[3].split('>'))>3:#sometimes the release date is not in a hyperlink\n",
    "\t\t\t\t\t\trelease=b_list[3].split('>')[2].split('<')[0]\n",
    "\t\t\t\t\telse:\n",
    "\t\t\t\t\t\trelease=b_list[3].split('>')[1].split('<')[0]\n",
    "\t\t\t\t\tgenre=b_list[4]\n",
    "\t\t\t\t\truntime=b_list[5]\n",
    "\t\t\t\t\trating=b_list[6]\n",
    "\t\t\t\t\tbudget=b_list[7]\n",
    "\t\t\t\t\tworldwide=b_list[12]\n",
    "\t\t\t\telse:\t#has a domestic release\n",
    "\t\t\t\t\ttitle=b_list[1]\n",
    "\t\t\t\t\tdomestic=b_list[2]\n",
    "\t\t\t\t\tif 'n/a' not in b_list[3]:\n",
    "\t\t\t\t\t\tdistributor=b_list[3].split('>')[1].split('<')[0]\n",
    "\t\t\t\t\telse:\n",
    "\t\t\t\t\t\tdistributor=b_list[3]\n",
    "\t\t\t\t\tif len(b_list[4].split('>'))>3:#sometimes the release date is not in a hyperlink\n",
    "\t\t\t\t\t\trelease=b_list[4].split('>')[2].split('<')[0]\n",
    "\t\t\t\t\telse:\n",
    "\t\t\t\t\t\trelease=b_list[4].split('>')[1].split('<')[0]\n",
    "\t\t\t\t\tgenre=b_list[5]\n",
    "\t\t\t\t\truntime=b_list[6]\n",
    "\t\t\t\t\trating=b_list[7]\n",
    "\t\t\t\t\tbudget=b_list[8]\n",
    "\t\t\t\t\tif len(b_list)==11 or '%' not in b_list[11]:#this means it only has a domestic release\n",
    "\t\t\t\t\t\tworldwide='N/A'\n",
    "\t\t\t\t\telse:\n",
    "\t\t\t\t\t\tworldwide=b_list[13]\n",
    "\t\t\t\t#print(release)\n",
    "\t\t\t\toutput.writerow([title,director1,director2,domestic,distributor,release,genre,runtime,rating,budget,worldwide,actor1,actor2,actor3,actor4,actor5,actor6,producer1,producer2,producer3,producer4,producer5,producer6,writer1,writer2,composer1,composer2])#since this is in the big \"if\" it wont write to file if it is formated incorrectly\n",
    "\t\t\n",
    "\t\t#else:\n",
    "\t\t\t#print 'bad format'\n",
    "\t\t\t#print url\t#i want to see which ones i threw away, to check if my criteria is good\n",
    "\t\t\t#print 'bad format'\n",
    "\n",
    "print(\"Done writing file.\")"
   ]
  }
 ],
 "metadata": {
  "kernelspec": {
   "display_name": "Python 3",
   "language": "python",
   "name": "python3"
  },
  "language_info": {
   "codemirror_mode": {
    "name": "ipython",
    "version": 3
   },
   "file_extension": ".py",
   "mimetype": "text/x-python",
   "name": "python",
   "nbconvert_exporter": "python",
   "pygments_lexer": "ipython3",
   "version": "3.6.8"
  }
 },
 "nbformat": 4,
 "nbformat_minor": 2
}
