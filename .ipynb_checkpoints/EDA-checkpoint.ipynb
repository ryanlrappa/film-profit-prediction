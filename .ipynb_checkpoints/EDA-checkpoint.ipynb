{
 "cells": [
  {
   "cell_type": "markdown",
   "metadata": {},
   "source": [
    "### Collecting & cleaning data from TMDb's API"
   ]
  },
  {
   "cell_type": "code",
   "execution_count": 155,
   "metadata": {},
   "outputs": [],
   "source": [
    "import numpy as np\n",
    "import pandas as pd\n",
    "pd.set_option('display.max_rows', 500)\n",
    "pd.set_option('display.max_columns', 500)\n",
    "pd.set_option('display.width', 1000)\n",
    "\n",
    "import tmdbsimple as tmdb\n",
    "tmdb.API_KEY = '3a551dd786dfaa4c4adaedd297662d47'  #redact this"
   ]
  },
  {
   "cell_type": "code",
   "execution_count": 233,
   "metadata": {},
   "outputs": [
    {
     "data": {
      "text/plain": [
       "592400"
      ]
     },
     "execution_count": 233,
     "metadata": {},
     "output_type": "execute_result"
    }
   ],
   "source": [
    "mov = tmdb.Movies().latest()\n",
    "mov['id']  #highest film id currently"
   ]
  },
  {
   "cell_type": "code",
   "execution_count": 234,
   "metadata": {},
   "outputs": [],
   "source": [
    "movies = [tmdb.Movies(i) for i in [550,807,16869]]\n",
    "info = [movie.info() for movie in movies]"
   ]
  },
  {
   "cell_type": "code",
   "execution_count": 236,
   "metadata": {},
   "outputs": [],
   "source": [
    "df = pd.DataFrame(info)"
   ]
  },
  {
   "cell_type": "code",
   "execution_count": 237,
   "metadata": {},
   "outputs": [
    {
     "data": {
      "text/html": [
       "<div>\n",
       "<style scoped>\n",
       "    .dataframe tbody tr th:only-of-type {\n",
       "        vertical-align: middle;\n",
       "    }\n",
       "\n",
       "    .dataframe tbody tr th {\n",
       "        vertical-align: top;\n",
       "    }\n",
       "\n",
       "    .dataframe thead th {\n",
       "        text-align: right;\n",
       "    }\n",
       "</style>\n",
       "<table border=\"1\" class=\"dataframe\">\n",
       "  <thead>\n",
       "    <tr style=\"text-align: right;\">\n",
       "      <th></th>\n",
       "      <th>adult</th>\n",
       "      <th>backdrop_path</th>\n",
       "      <th>belongs_to_collection</th>\n",
       "      <th>budget</th>\n",
       "      <th>genres</th>\n",
       "      <th>homepage</th>\n",
       "      <th>id</th>\n",
       "      <th>imdb_id</th>\n",
       "      <th>original_language</th>\n",
       "      <th>original_title</th>\n",
       "      <th>overview</th>\n",
       "      <th>popularity</th>\n",
       "      <th>poster_path</th>\n",
       "      <th>production_companies</th>\n",
       "      <th>production_countries</th>\n",
       "      <th>release_date</th>\n",
       "      <th>revenue</th>\n",
       "      <th>runtime</th>\n",
       "      <th>spoken_languages</th>\n",
       "      <th>status</th>\n",
       "      <th>tagline</th>\n",
       "      <th>title</th>\n",
       "      <th>video</th>\n",
       "      <th>vote_average</th>\n",
       "      <th>vote_count</th>\n",
       "    </tr>\n",
       "  </thead>\n",
       "  <tbody>\n",
       "    <tr>\n",
       "      <th>0</th>\n",
       "      <td>False</td>\n",
       "      <td>/52AfXWuXCHn3UjD17rBruA9f5qb.jpg</td>\n",
       "      <td>None</td>\n",
       "      <td>63000000</td>\n",
       "      <td>[{'id': 18, 'name': 'Drama'}]</td>\n",
       "      <td>http://www.foxmovies.com/movies/fight-club</td>\n",
       "      <td>550</td>\n",
       "      <td>tt0137523</td>\n",
       "      <td>en</td>\n",
       "      <td>Fight Club</td>\n",
       "      <td>A ticking-time-bomb insomniac and a slippery s...</td>\n",
       "      <td>25.752</td>\n",
       "      <td>/adw6Lq9FiC9zjYEpOqfq03ituwp.jpg</td>\n",
       "      <td>[{'id': 508, 'logo_path': '/7PzJdsLGlR7oW4J0J5...</td>\n",
       "      <td>[{'iso_3166_1': 'DE', 'name': 'Germany'}, {'is...</td>\n",
       "      <td>1999-10-15</td>\n",
       "      <td>100853753</td>\n",
       "      <td>139</td>\n",
       "      <td>[{'iso_639_1': 'en', 'name': 'English'}]</td>\n",
       "      <td>Released</td>\n",
       "      <td>Mischief. Mayhem. Soap.</td>\n",
       "      <td>Fight Club</td>\n",
       "      <td>False</td>\n",
       "      <td>8.4</td>\n",
       "      <td>15741</td>\n",
       "    </tr>\n",
       "    <tr>\n",
       "      <th>1</th>\n",
       "      <td>False</td>\n",
       "      <td>/A0WKbRIojF9DUWG4XLCmg5JK6I5.jpg</td>\n",
       "      <td>None</td>\n",
       "      <td>33000000</td>\n",
       "      <td>[{'id': 80, 'name': 'Crime'}, {'id': 9648, 'na...</td>\n",
       "      <td>http://www.sevenmovie.com/</td>\n",
       "      <td>807</td>\n",
       "      <td>tt0114369</td>\n",
       "      <td>en</td>\n",
       "      <td>Se7en</td>\n",
       "      <td>Two homicide detectives are on a desperate hun...</td>\n",
       "      <td>30.955</td>\n",
       "      <td>/8zw8IL4zEPjkh8Aysdcd0FwGMb0.jpg</td>\n",
       "      <td>[{'id': 4286, 'logo_path': None, 'name': 'Juno...</td>\n",
       "      <td>[{'iso_3166_1': 'US', 'name': 'United States o...</td>\n",
       "      <td>1995-09-22</td>\n",
       "      <td>327311859</td>\n",
       "      <td>127</td>\n",
       "      <td>[{'iso_639_1': 'en', 'name': 'English'}]</td>\n",
       "      <td>Released</td>\n",
       "      <td>Seven deadly sins. Seven ways to die.</td>\n",
       "      <td>Se7en</td>\n",
       "      <td>False</td>\n",
       "      <td>8.3</td>\n",
       "      <td>10202</td>\n",
       "    </tr>\n",
       "    <tr>\n",
       "      <th>2</th>\n",
       "      <td>False</td>\n",
       "      <td>/7nF6B9yCEq1ZCT82sGJVtNxOcl5.jpg</td>\n",
       "      <td>None</td>\n",
       "      <td>70000000</td>\n",
       "      <td>[{'id': 18, 'name': 'Drama'}, {'id': 28, 'name...</td>\n",
       "      <td>http://www.inglouriousbasterds-movie.com/</td>\n",
       "      <td>16869</td>\n",
       "      <td>tt0361748</td>\n",
       "      <td>en</td>\n",
       "      <td>Inglourious Basterds</td>\n",
       "      <td>In Nazi-occupied France during World War II, a...</td>\n",
       "      <td>23.879</td>\n",
       "      <td>/ai0LXkzVM3hMjDhvFdKMUemoBe.jpg</td>\n",
       "      <td>[{'id': 308, 'logo_path': '/e8F3mQM7DkJ5SfYYDp...</td>\n",
       "      <td>[{'iso_3166_1': 'DE', 'name': 'Germany'}, {'is...</td>\n",
       "      <td>2009-08-18</td>\n",
       "      <td>319131050</td>\n",
       "      <td>153</td>\n",
       "      <td>[{'iso_639_1': 'de', 'name': 'Deutsch'}, {'iso...</td>\n",
       "      <td>Released</td>\n",
       "      <td>Once upon a time in Nazi occupied France...</td>\n",
       "      <td>Inglourious Basterds</td>\n",
       "      <td>False</td>\n",
       "      <td>8.1</td>\n",
       "      <td>11450</td>\n",
       "    </tr>\n",
       "  </tbody>\n",
       "</table>\n",
       "</div>"
      ],
      "text/plain": [
       "   adult                     backdrop_path belongs_to_collection    budget                                             genres                                    homepage     id    imdb_id original_language        original_title                                           overview  popularity                       poster_path                               production_companies                               production_countries release_date    revenue  runtime                                   spoken_languages    status                                      tagline                 title  video  vote_average  vote_count\n",
       "0  False  /52AfXWuXCHn3UjD17rBruA9f5qb.jpg                  None  63000000                      [{'id': 18, 'name': 'Drama'}]  http://www.foxmovies.com/movies/fight-club    550  tt0137523                en            Fight Club  A ticking-time-bomb insomniac and a slippery s...      25.752  /adw6Lq9FiC9zjYEpOqfq03ituwp.jpg  [{'id': 508, 'logo_path': '/7PzJdsLGlR7oW4J0J5...  [{'iso_3166_1': 'DE', 'name': 'Germany'}, {'is...   1999-10-15  100853753      139           [{'iso_639_1': 'en', 'name': 'English'}]  Released                      Mischief. Mayhem. Soap.            Fight Club  False           8.4       15741\n",
       "1  False  /A0WKbRIojF9DUWG4XLCmg5JK6I5.jpg                  None  33000000  [{'id': 80, 'name': 'Crime'}, {'id': 9648, 'na...                  http://www.sevenmovie.com/    807  tt0114369                en                 Se7en  Two homicide detectives are on a desperate hun...      30.955  /8zw8IL4zEPjkh8Aysdcd0FwGMb0.jpg  [{'id': 4286, 'logo_path': None, 'name': 'Juno...  [{'iso_3166_1': 'US', 'name': 'United States o...   1995-09-22  327311859      127           [{'iso_639_1': 'en', 'name': 'English'}]  Released        Seven deadly sins. Seven ways to die.                 Se7en  False           8.3       10202\n",
       "2  False  /7nF6B9yCEq1ZCT82sGJVtNxOcl5.jpg                  None  70000000  [{'id': 18, 'name': 'Drama'}, {'id': 28, 'name...   http://www.inglouriousbasterds-movie.com/  16869  tt0361748                en  Inglourious Basterds  In Nazi-occupied France during World War II, a...      23.879   /ai0LXkzVM3hMjDhvFdKMUemoBe.jpg  [{'id': 308, 'logo_path': '/e8F3mQM7DkJ5SfYYDp...  [{'iso_3166_1': 'DE', 'name': 'Germany'}, {'is...   2009-08-18  319131050      153  [{'iso_639_1': 'de', 'name': 'Deutsch'}, {'iso...  Released  Once upon a time in Nazi occupied France...  Inglourious Basterds  False           8.1       11450"
      ]
     },
     "execution_count": 237,
     "metadata": {},
     "output_type": "execute_result"
    }
   ],
   "source": [
    "df.head()"
   ]
  },
  {
   "cell_type": "code",
   "execution_count": 238,
   "metadata": {},
   "outputs": [
    {
     "data": {
      "text/plain": [
       "[[{'id': 308,\n",
       "   'logo_path': '/e8F3mQM7DkJ5SfYYDp8FYzPBOGX.png',\n",
       "   'name': 'The Weinstein Company',\n",
       "   'origin_country': 'US'},\n",
       "  {'id': 33,\n",
       "   'logo_path': '/8lvHyhjr8oUKOOy2dKXoALWKdp0.png',\n",
       "   'name': 'Universal Pictures',\n",
       "   'origin_country': 'US'},\n",
       "  {'id': 59,\n",
       "   'logo_path': '/yH7OMeSxhfP0AVM6iT0rsF3F4ZC.png',\n",
       "   'name': 'A Band Apart',\n",
       "   'origin_country': 'US'},\n",
       "  {'id': 6817,\n",
       "   'logo_path': None,\n",
       "   'name': 'Zehnte Babelsberg Film',\n",
       "   'origin_country': 'DE'},\n",
       "  {'id': 6818,\n",
       "   'logo_path': None,\n",
       "   'name': 'Visiona Romantica',\n",
       "   'origin_country': 'US'}]]"
      ]
     },
     "execution_count": 238,
     "metadata": {},
     "output_type": "execute_result"
    }
   ],
   "source": [
    "list(df.loc[2:3,'production_companies'])"
   ]
  },
  {
   "cell_type": "code",
   "execution_count": null,
   "metadata": {},
   "outputs": [],
   "source": []
  },
  {
   "cell_type": "code",
   "execution_count": 240,
   "metadata": {},
   "outputs": [
    {
     "name": "stdout",
     "output_type": "stream",
     "text": [
      "Jack Reacher   75780   2012-12-20\n",
      "Jack Reacher: Never Go Back   343611   2016-10-19\n"
     ]
    }
   ],
   "source": [
    "search = tmdb.Search()\n",
    "response = search.movie(query='Reacher')\n",
    "for s in search.results:\n",
    "    print(s['title'], \" \", s['id'], \" \", s['release_date'])"
   ]
  },
  {
   "cell_type": "code",
   "execution_count": null,
   "metadata": {},
   "outputs": [],
   "source": []
  }
 ],
 "metadata": {
  "kernelspec": {
   "display_name": "Python 3",
   "language": "python",
   "name": "python3"
  },
  "language_info": {
   "codemirror_mode": {
    "name": "ipython",
    "version": 3
   },
   "file_extension": ".py",
   "mimetype": "text/x-python",
   "name": "python",
   "nbconvert_exporter": "python",
   "pygments_lexer": "ipython3",
   "version": "3.6.8"
  }
 },
 "nbformat": 4,
 "nbformat_minor": 2
}
